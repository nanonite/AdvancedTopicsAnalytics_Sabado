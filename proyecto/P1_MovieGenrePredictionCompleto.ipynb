{
  "cells": [
    {
      "cell_type": "markdown",
      "metadata": {
        "id": "view-in-github"
      },
      "source": [
        "<a href=\"https://colab.research.google.com/github/sergiomora03/AdvancedTopicsAnalytics/blob/main/exercises/P1-MovieGenrePrediction.ipynb\" target=\"_parent\"><img src=\"https://colab.research.google.com/assets/colab-badge.svg\" alt=\"Open In Colab\"/></a>"
      ]
    },
    {
      "cell_type": "markdown",
      "metadata": {
        "id": "Uk2LGOPynx_q"
      },
      "source": [
        "## Movie Genre Classification\n",
        "\n",
        "Classify a movie genre based on its plot.\n",
        "\n",
        "<img src=\"https://raw.githubusercontent.com/sergiomora03/AdvancedTopicsAnalytics/main/notebooks/img/moviegenre.png\"\n",
        "     style=\"float: left; margin-right: 10px;\" />\n",
        "\n",
        "\n",
        "\n",
        "### Data\n",
        "\n",
        "Input:\n",
        "- movie plot\n",
        "\n",
        "Output:\n",
        "Probability of the movie belong to each genre\n",
        "\n",
        "\n",
        "### Evaluation\n",
        "\n",
        "- 30% Report with all the details of the solution, the analysis and the conclusions. The report cannot exceed 10 pages, must be send in PDF format and must be self-contained.\n",
        "- 30% Code with the data processing and models developed that support the reported results.\n",
        "- 30% Presentation of no more than 15 minutes with the main results of the project.\n",
        "- 10% Model performance achieved. Metric: \"AUC\".\n",
        "\n",
        "• The project must be carried out in groups of 4 people.\n",
        "• Use clear and rigorous procedures.\n",
        "• The delivery of the project is on September 8th, 2023, 11:59 pm, through email.\n",
        "• No projects will be received after the delivery time or by any other means than the one established.\n",
        "\n",
        "\n",
        "\n",
        "\n",
        "### Acknowledgements\n",
        "\n",
        "We thank Professor Fabio Gonzalez, Ph.D. and his student John Arevalo for providing this dataset.\n",
        "\n",
        "See https://arxiv.org/abs/1702.01992"
      ]
    },
    {
      "cell_type": "markdown",
      "metadata": {
        "id": "VC9WLyERnx_s"
      },
      "source": [
        "## Sample Submission"
      ]
    },
    {
      "cell_type": "code",
      "execution_count": null,
      "metadata": {
        "colab": {
          "base_uri": "https://localhost:8080/"
        },
        "id": "5ziFq2aunx_s",
        "outputId": "a5656767-33c0-4c29-8a55-b0715722d112"
      },
      "outputs": [
        {
          "name": "stderr",
          "output_type": "stream",
          "text": [
            "[nltk_data] Downloading package punkt to /root/nltk_data...\n",
            "[nltk_data]   Unzipping tokenizers/punkt.zip.\n",
            "[nltk_data] Downloading package stopwords to /root/nltk_data...\n",
            "[nltk_data]   Unzipping corpora/stopwords.zip.\n"
          ]
        },
        {
          "data": {
            "text/plain": [
              "True"
            ]
          },
          "execution_count": 1,
          "metadata": {},
          "output_type": "execute_result"
        }
      ],
      "source": [
        "import pandas as pd\n",
        "import os\n",
        "import numpy as np\n",
        "from sklearn.feature_extraction.text import CountVectorizer\n",
        "from sklearn.preprocessing import MultiLabelBinarizer\n",
        "from sklearn.multiclass import OneVsRestClassifier\n",
        "from sklearn.multiclass import OneVsOneClassifier\n",
        "from sklearn.ensemble import RandomForestRegressor, RandomForestClassifier\n",
        "from sklearn.metrics import r2_score, roc_auc_score\n",
        "from sklearn.model_selection import train_test_split\n",
        "from sklearn.feature_extraction.text import TfidfVectorizer\n",
        "from sklearn.linear_model import LogisticRegression\n",
        "from sklearn.pipeline import make_pipeline\n",
        "from sklearn.preprocessing import StandardScaler\n",
        "from sklearn.svm import SVC\n",
        "from sklearn.model_selection import GridSearchCV, KFold\n",
        "import nltk\n",
        "from nltk.corpus import stopwords\n",
        "from nltk.tokenize import word_tokenize\n",
        "import string\n",
        "import gensim\n",
        "from gensim.models import Word2Vec\n",
        "from tensorflow.keras.layers import Embedding, GRU, Dense\n",
        "nltk.download('punkt')\n",
        "nltk.download('stopwords')"
      ]
    },
    {
      "cell_type": "code",
      "execution_count": null,
      "metadata": {
        "id": "m3hJnPBWnx_t"
      },
      "outputs": [],
      "source": [
        "dataTraining = pd.read_csv('https://github.com/sergiomora03/AdvancedTopicsAnalytics/raw/main/datasets/dataTraining.zip', encoding='UTF-8', index_col=0)\n",
        "dataTesting = pd.read_csv('https://github.com/sergiomora03/AdvancedTopicsAnalytics/raw/main/datasets/dataTesting.zip', encoding='UTF-8', index_col=0)"
      ]
    },
    {
      "cell_type": "code",
      "execution_count": null,
      "metadata": {
        "id": "HCNxviVcDN9v"
      },
      "outputs": [],
      "source": [
        "dataTraining.shape"
      ]
    },
    {
      "cell_type": "code",
      "execution_count": null,
      "metadata": {
        "id": "9BPW9Nt5DPtp"
      },
      "outputs": [],
      "source": []
    },
    {
      "cell_type": "code",
      "execution_count": null,
      "metadata": {
        "colab": {
          "base_uri": "https://localhost:8080/",
          "height": 206
        },
        "id": "KjaVaw8Tnx_u",
        "outputId": "94b3f07f-13d3-418b-9554-e3a6f0e3bc04"
      },
      "outputs": [
        {
          "data": {
            "application/vnd.google.colaboratory.intrinsic+json": {
              "summary": "{\n  \"name\": \"dataTraining\",\n  \"rows\": 7895,\n  \"fields\": [\n    {\n      \"column\": \"year\",\n      \"properties\": {\n        \"dtype\": \"number\",\n        \"std\": 22,\n        \"min\": 1894,\n        \"max\": 2015,\n        \"num_unique_values\": 106,\n        \"samples\": [\n          1910,\n          2001,\n          1990\n        ],\n        \"semantic_type\": \"\",\n        \"description\": \"\"\n      }\n    },\n    {\n      \"column\": \"title\",\n      \"properties\": {\n        \"dtype\": \"string\",\n        \"num_unique_values\": 7729,\n        \"samples\": [\n          \"Zero Effect\",\n          \"The Boogey Man\",\n          \"No Impact Man: The Documentary\"\n        ],\n        \"semantic_type\": \"\",\n        \"description\": \"\"\n      }\n    },\n    {\n      \"column\": \"plot\",\n      \"properties\": {\n        \"dtype\": \"string\",\n        \"num_unique_values\": 7894,\n        \"samples\": [\n          \"in an epic story of breathtaking scale ,  disneynature ' s new true life adventure  \\\" bears \\\"  showcases a year in the life of a bear family as two impressionable young cubs are taught life ' s most important lessons .  set against a majestic alaskan backdrop teeming with life ,  their journey begins as winter comes to an end and the bears emerge from hibernation to face the bitter cold .  the world outside is exciting - but risky - as the cubs '  playful descent down the mountain carries with it a looming threat of avalanches .  as the season changes from spring to summer ,  the brown bears must work hard to find food - ultimately feasting at a plentiful salmon run - while staying safe from rival male bears and predators ,  including an ever - present wolf .   \\\" bears \\\"  captures the fast - moving action and suspense of life in one of the planet ' s last great wildernesses - alaska !\",\n          \"during world war ii south sea beachcomber walter eckland is persuaded to spy on planes passing over his island .  he gets more than he bargained for as schoolteacher catherine frenau arrives on the run from the japanese with her pupils in tow !\",\n          \"robert neville is a scientist who was unable to stop the spread of the terrible virus that was incurable and man - made .  immune ,  neville is now the last human survivor in what is left of new york city and perhaps the world .  for three years ,  neville has faithfully sent out daily radio messages ,  desperate to find any other survivors who might be out there .  but he is not alone .  mutant victims of the plague  -  -  the infected  -  -  lurk in the shadows .  .  .  watching neville ' s every move .  .  .  waiting for him to make a fatal mistake .  perhaps mankind ' s last ,  best hope ,  neville is driven by only one remaining mission :  to find a way to reverse the effects of the virus using his own immune blood .  but he knows he is outnumbered .  .  .  and quickly running out of time .\"\n        ],\n        \"semantic_type\": \"\",\n        \"description\": \"\"\n      }\n    },\n    {\n      \"column\": \"genres\",\n      \"properties\": {\n        \"dtype\": \"category\",\n        \"num_unique_values\": 1336,\n        \"samples\": [\n          \"['Comedy', 'Drama', 'Family', 'Music']\",\n          \"['Comedy', 'Drama', 'Sci-Fi', 'War']\",\n          \"['Adventure', 'Comedy', 'Drama', 'Family', 'Sport']\"\n        ],\n        \"semantic_type\": \"\",\n        \"description\": \"\"\n      }\n    },\n    {\n      \"column\": \"rating\",\n      \"properties\": {\n        \"dtype\": \"number\",\n        \"std\": 1.0782600520106211,\n        \"min\": 1.2,\n        \"max\": 9.3,\n        \"num_unique_values\": 76,\n        \"samples\": [\n          6.6,\n          3.7,\n          4.6\n        ],\n        \"semantic_type\": \"\",\n        \"description\": \"\"\n      }\n    }\n  ]\n}",
              "type": "dataframe",
              "variable_name": "dataTraining"
            },
            "text/html": [
              "\n",
              "  <div id=\"df-3de39a65-38cd-4368-9382-00966a4e7f72\" class=\"colab-df-container\">\n",
              "    <div>\n",
              "<style scoped>\n",
              "    .dataframe tbody tr th:only-of-type {\n",
              "        vertical-align: middle;\n",
              "    }\n",
              "\n",
              "    .dataframe tbody tr th {\n",
              "        vertical-align: top;\n",
              "    }\n",
              "\n",
              "    .dataframe thead th {\n",
              "        text-align: right;\n",
              "    }\n",
              "</style>\n",
              "<table border=\"1\" class=\"dataframe\">\n",
              "  <thead>\n",
              "    <tr style=\"text-align: right;\">\n",
              "      <th></th>\n",
              "      <th>year</th>\n",
              "      <th>title</th>\n",
              "      <th>plot</th>\n",
              "      <th>genres</th>\n",
              "      <th>rating</th>\n",
              "    </tr>\n",
              "  </thead>\n",
              "  <tbody>\n",
              "    <tr>\n",
              "      <th>3107</th>\n",
              "      <td>2003</td>\n",
              "      <td>Most</td>\n",
              "      <td>most is the story of a single father who takes...</td>\n",
              "      <td>['Short', 'Drama']</td>\n",
              "      <td>8.0</td>\n",
              "    </tr>\n",
              "    <tr>\n",
              "      <th>900</th>\n",
              "      <td>2008</td>\n",
              "      <td>How to Be a Serial Killer</td>\n",
              "      <td>a serial killer decides to teach the secrets o...</td>\n",
              "      <td>['Comedy', 'Crime', 'Horror']</td>\n",
              "      <td>5.6</td>\n",
              "    </tr>\n",
              "    <tr>\n",
              "      <th>6724</th>\n",
              "      <td>1941</td>\n",
              "      <td>A Woman's Face</td>\n",
              "      <td>in sweden ,  a female blackmailer with a disfi...</td>\n",
              "      <td>['Drama', 'Film-Noir', 'Thriller']</td>\n",
              "      <td>7.2</td>\n",
              "    </tr>\n",
              "    <tr>\n",
              "      <th>4704</th>\n",
              "      <td>1954</td>\n",
              "      <td>Executive Suite</td>\n",
              "      <td>in a friday afternoon in new york ,  the presi...</td>\n",
              "      <td>['Drama']</td>\n",
              "      <td>7.4</td>\n",
              "    </tr>\n",
              "    <tr>\n",
              "      <th>2582</th>\n",
              "      <td>1990</td>\n",
              "      <td>Narrow Margin</td>\n",
              "      <td>in los angeles ,  the editor of a publishing h...</td>\n",
              "      <td>['Action', 'Crime', 'Thriller']</td>\n",
              "      <td>6.6</td>\n",
              "    </tr>\n",
              "  </tbody>\n",
              "</table>\n",
              "</div>\n",
              "    <div class=\"colab-df-buttons\">\n",
              "\n",
              "  <div class=\"colab-df-container\">\n",
              "    <button class=\"colab-df-convert\" onclick=\"convertToInteractive('df-3de39a65-38cd-4368-9382-00966a4e7f72')\"\n",
              "            title=\"Convert this dataframe to an interactive table.\"\n",
              "            style=\"display:none;\">\n",
              "\n",
              "  <svg xmlns=\"http://www.w3.org/2000/svg\" height=\"24px\" viewBox=\"0 -960 960 960\">\n",
              "    <path d=\"M120-120v-720h720v720H120Zm60-500h600v-160H180v160Zm220 220h160v-160H400v160Zm0 220h160v-160H400v160ZM180-400h160v-160H180v160Zm440 0h160v-160H620v160ZM180-180h160v-160H180v160Zm440 0h160v-160H620v160Z\"/>\n",
              "  </svg>\n",
              "    </button>\n",
              "\n",
              "  <style>\n",
              "    .colab-df-container {\n",
              "      display:flex;\n",
              "      gap: 12px;\n",
              "    }\n",
              "\n",
              "    .colab-df-convert {\n",
              "      background-color: #E8F0FE;\n",
              "      border: none;\n",
              "      border-radius: 50%;\n",
              "      cursor: pointer;\n",
              "      display: none;\n",
              "      fill: #1967D2;\n",
              "      height: 32px;\n",
              "      padding: 0 0 0 0;\n",
              "      width: 32px;\n",
              "    }\n",
              "\n",
              "    .colab-df-convert:hover {\n",
              "      background-color: #E2EBFA;\n",
              "      box-shadow: 0px 1px 2px rgba(60, 64, 67, 0.3), 0px 1px 3px 1px rgba(60, 64, 67, 0.15);\n",
              "      fill: #174EA6;\n",
              "    }\n",
              "\n",
              "    .colab-df-buttons div {\n",
              "      margin-bottom: 4px;\n",
              "    }\n",
              "\n",
              "    [theme=dark] .colab-df-convert {\n",
              "      background-color: #3B4455;\n",
              "      fill: #D2E3FC;\n",
              "    }\n",
              "\n",
              "    [theme=dark] .colab-df-convert:hover {\n",
              "      background-color: #434B5C;\n",
              "      box-shadow: 0px 1px 3px 1px rgba(0, 0, 0, 0.15);\n",
              "      filter: drop-shadow(0px 1px 2px rgba(0, 0, 0, 0.3));\n",
              "      fill: #FFFFFF;\n",
              "    }\n",
              "  </style>\n",
              "\n",
              "    <script>\n",
              "      const buttonEl =\n",
              "        document.querySelector('#df-3de39a65-38cd-4368-9382-00966a4e7f72 button.colab-df-convert');\n",
              "      buttonEl.style.display =\n",
              "        google.colab.kernel.accessAllowed ? 'block' : 'none';\n",
              "\n",
              "      async function convertToInteractive(key) {\n",
              "        const element = document.querySelector('#df-3de39a65-38cd-4368-9382-00966a4e7f72');\n",
              "        const dataTable =\n",
              "          await google.colab.kernel.invokeFunction('convertToInteractive',\n",
              "                                                    [key], {});\n",
              "        if (!dataTable) return;\n",
              "\n",
              "        const docLinkHtml = 'Like what you see? Visit the ' +\n",
              "          '<a target=\"_blank\" href=https://colab.research.google.com/notebooks/data_table.ipynb>data table notebook</a>'\n",
              "          + ' to learn more about interactive tables.';\n",
              "        element.innerHTML = '';\n",
              "        dataTable['output_type'] = 'display_data';\n",
              "        await google.colab.output.renderOutput(dataTable, element);\n",
              "        const docLink = document.createElement('div');\n",
              "        docLink.innerHTML = docLinkHtml;\n",
              "        element.appendChild(docLink);\n",
              "      }\n",
              "    </script>\n",
              "  </div>\n",
              "\n",
              "\n",
              "<div id=\"df-2c780680-5e3c-42e7-a965-6064521bdab7\">\n",
              "  <button class=\"colab-df-quickchart\" onclick=\"quickchart('df-2c780680-5e3c-42e7-a965-6064521bdab7')\"\n",
              "            title=\"Suggest charts\"\n",
              "            style=\"display:none;\">\n",
              "\n",
              "<svg xmlns=\"http://www.w3.org/2000/svg\" height=\"24px\"viewBox=\"0 0 24 24\"\n",
              "     width=\"24px\">\n",
              "    <g>\n",
              "        <path d=\"M19 3H5c-1.1 0-2 .9-2 2v14c0 1.1.9 2 2 2h14c1.1 0 2-.9 2-2V5c0-1.1-.9-2-2-2zM9 17H7v-7h2v7zm4 0h-2V7h2v10zm4 0h-2v-4h2v4z\"/>\n",
              "    </g>\n",
              "</svg>\n",
              "  </button>\n",
              "\n",
              "<style>\n",
              "  .colab-df-quickchart {\n",
              "      --bg-color: #E8F0FE;\n",
              "      --fill-color: #1967D2;\n",
              "      --hover-bg-color: #E2EBFA;\n",
              "      --hover-fill-color: #174EA6;\n",
              "      --disabled-fill-color: #AAA;\n",
              "      --disabled-bg-color: #DDD;\n",
              "  }\n",
              "\n",
              "  [theme=dark] .colab-df-quickchart {\n",
              "      --bg-color: #3B4455;\n",
              "      --fill-color: #D2E3FC;\n",
              "      --hover-bg-color: #434B5C;\n",
              "      --hover-fill-color: #FFFFFF;\n",
              "      --disabled-bg-color: #3B4455;\n",
              "      --disabled-fill-color: #666;\n",
              "  }\n",
              "\n",
              "  .colab-df-quickchart {\n",
              "    background-color: var(--bg-color);\n",
              "    border: none;\n",
              "    border-radius: 50%;\n",
              "    cursor: pointer;\n",
              "    display: none;\n",
              "    fill: var(--fill-color);\n",
              "    height: 32px;\n",
              "    padding: 0;\n",
              "    width: 32px;\n",
              "  }\n",
              "\n",
              "  .colab-df-quickchart:hover {\n",
              "    background-color: var(--hover-bg-color);\n",
              "    box-shadow: 0 1px 2px rgba(60, 64, 67, 0.3), 0 1px 3px 1px rgba(60, 64, 67, 0.15);\n",
              "    fill: var(--button-hover-fill-color);\n",
              "  }\n",
              "\n",
              "  .colab-df-quickchart-complete:disabled,\n",
              "  .colab-df-quickchart-complete:disabled:hover {\n",
              "    background-color: var(--disabled-bg-color);\n",
              "    fill: var(--disabled-fill-color);\n",
              "    box-shadow: none;\n",
              "  }\n",
              "\n",
              "  .colab-df-spinner {\n",
              "    border: 2px solid var(--fill-color);\n",
              "    border-color: transparent;\n",
              "    border-bottom-color: var(--fill-color);\n",
              "    animation:\n",
              "      spin 1s steps(1) infinite;\n",
              "  }\n",
              "\n",
              "  @keyframes spin {\n",
              "    0% {\n",
              "      border-color: transparent;\n",
              "      border-bottom-color: var(--fill-color);\n",
              "      border-left-color: var(--fill-color);\n",
              "    }\n",
              "    20% {\n",
              "      border-color: transparent;\n",
              "      border-left-color: var(--fill-color);\n",
              "      border-top-color: var(--fill-color);\n",
              "    }\n",
              "    30% {\n",
              "      border-color: transparent;\n",
              "      border-left-color: var(--fill-color);\n",
              "      border-top-color: var(--fill-color);\n",
              "      border-right-color: var(--fill-color);\n",
              "    }\n",
              "    40% {\n",
              "      border-color: transparent;\n",
              "      border-right-color: var(--fill-color);\n",
              "      border-top-color: var(--fill-color);\n",
              "    }\n",
              "    60% {\n",
              "      border-color: transparent;\n",
              "      border-right-color: var(--fill-color);\n",
              "    }\n",
              "    80% {\n",
              "      border-color: transparent;\n",
              "      border-right-color: var(--fill-color);\n",
              "      border-bottom-color: var(--fill-color);\n",
              "    }\n",
              "    90% {\n",
              "      border-color: transparent;\n",
              "      border-bottom-color: var(--fill-color);\n",
              "    }\n",
              "  }\n",
              "</style>\n",
              "\n",
              "  <script>\n",
              "    async function quickchart(key) {\n",
              "      const quickchartButtonEl =\n",
              "        document.querySelector('#' + key + ' button');\n",
              "      quickchartButtonEl.disabled = true;  // To prevent multiple clicks.\n",
              "      quickchartButtonEl.classList.add('colab-df-spinner');\n",
              "      try {\n",
              "        const charts = await google.colab.kernel.invokeFunction(\n",
              "            'suggestCharts', [key], {});\n",
              "      } catch (error) {\n",
              "        console.error('Error during call to suggestCharts:', error);\n",
              "      }\n",
              "      quickchartButtonEl.classList.remove('colab-df-spinner');\n",
              "      quickchartButtonEl.classList.add('colab-df-quickchart-complete');\n",
              "    }\n",
              "    (() => {\n",
              "      let quickchartButtonEl =\n",
              "        document.querySelector('#df-2c780680-5e3c-42e7-a965-6064521bdab7 button');\n",
              "      quickchartButtonEl.style.display =\n",
              "        google.colab.kernel.accessAllowed ? 'block' : 'none';\n",
              "    })();\n",
              "  </script>\n",
              "</div>\n",
              "\n",
              "    </div>\n",
              "  </div>\n"
            ],
            "text/plain": [
              "      year                      title  \\\n",
              "3107  2003                       Most   \n",
              "900   2008  How to Be a Serial Killer   \n",
              "6724  1941             A Woman's Face   \n",
              "4704  1954            Executive Suite   \n",
              "2582  1990              Narrow Margin   \n",
              "\n",
              "                                                   plot  \\\n",
              "3107  most is the story of a single father who takes...   \n",
              "900   a serial killer decides to teach the secrets o...   \n",
              "6724  in sweden ,  a female blackmailer with a disfi...   \n",
              "4704  in a friday afternoon in new york ,  the presi...   \n",
              "2582  in los angeles ,  the editor of a publishing h...   \n",
              "\n",
              "                                  genres  rating  \n",
              "3107                  ['Short', 'Drama']     8.0  \n",
              "900        ['Comedy', 'Crime', 'Horror']     5.6  \n",
              "6724  ['Drama', 'Film-Noir', 'Thriller']     7.2  \n",
              "4704                           ['Drama']     7.4  \n",
              "2582     ['Action', 'Crime', 'Thriller']     6.6  "
            ]
          },
          "execution_count": 99,
          "metadata": {},
          "output_type": "execute_result"
        }
      ],
      "source": [
        "dataTraining.head()"
      ]
    },
    {
      "cell_type": "code",
      "execution_count": null,
      "metadata": {
        "colab": {
          "base_uri": "https://localhost:8080/",
          "height": 206
        },
        "id": "1ofD1zoGnx_v",
        "outputId": "d24c9a33-f499-4d1d-f6e7-f584ab70a5c4"
      },
      "outputs": [
        {
          "data": {
            "application/vnd.google.colaboratory.intrinsic+json": {
              "summary": "{\n  \"name\": \"dataTesting\",\n  \"rows\": 3383,\n  \"fields\": [\n    {\n      \"column\": \"year\",\n      \"properties\": {\n        \"dtype\": \"number\",\n        \"std\": 22,\n        \"min\": 1893,\n        \"max\": 2015,\n        \"num_unique_values\": 104,\n        \"samples\": [\n          1940,\n          1954,\n          1989\n        ],\n        \"semantic_type\": \"\",\n        \"description\": \"\"\n      }\n    },\n    {\n      \"column\": \"title\",\n      \"properties\": {\n        \"dtype\": \"string\",\n        \"num_unique_values\": 3352,\n        \"samples\": [\n          \"Humanoids from the Deep\",\n          \"Rookie of the Year\",\n          \"S.F.W.\"\n        ],\n        \"semantic_type\": \"\",\n        \"description\": \"\"\n      }\n    },\n    {\n      \"column\": \"plot\",\n      \"properties\": {\n        \"dtype\": \"string\",\n        \"num_unique_values\": 3383,\n        \"samples\": [\n          \"in las vegas ,  the regenerated ex - con jack bruno works as taxi driver .  during an ufo convention at planet hollywood ,  the skeptical jack picks up dr .  alex friedman ,  who will present a scientific lecture in the event .  then he is pressed by two henchmen of his former boss ,  the criminal wolff ,  that wants to talk to him ,  but jack does not want to return to the crime life .  jack fights and gets rid of them ;  out of the blue ,  he finds two teenagers on the backseat of his cab .  they tell that they are siblings ,  sara and seth ,  and they need to travel to a location outside las vegas in the middle of nowhere .  meanwhile the government finds a spacecraft that crashed nearby las vegas and is chasing the two aliens ;  after the investigation of the men of major henry burke ,  they discover that the two siblings are the aliens .  jack bruno ,  sara and seth are chased by henry burke ' s team and by the  \\\" syphon \\\"  ,  a killer from outer space that has been sent to kill them by the military of their planet that want to invade earth .  sara and seth explain that they traveled to earth to collect scientific data of an experiment and save earth from invasion ,  but they need to return immediately to their planet .  jack teams up with dr .  alex to retrieve their spacecraft in a secret base in the witch mountain .\",\n          \"henry is a young fbi agent .  during a three - year absence from his home in shreveport ,  his mother marty loses more than  N  pounds ,  looks great ,  and to henry ' s embarrassment ,  has become a party animal .  within a day of henry ' s returning home with his fianc\\u00e9e ,  emily ,  who ' s an fbi profiler ,  marty meets tommy ,  a suave foreigner .  he ' s posing as a consultant ,  but he ' s an international art thief ,  in town to steal  \\\" mother and son ,  \\\"  a bernini sculpture .  henry is detailed to head a team keeping his mom ' s new boyfriend under surveillance .  love ,  law enforcement ,  and filial devotion are set to collide .\",\n          \"fred chaney is a simple minded man whose mother died .  she leaves him half of the brokerage company she owned with her second husband ,  walker ,  whom fred catches with another woman following his mother ' s death .  he also throws fred out of the house .  and tries to buy his share of the business for low sum .  fred is also left a horse named don .  and fred learns don can talk .  fred sends don back to his family .  fred starts working at the company and is not doing well .  but don hears of deal and informs fred about it and he buys the stock and makes a fortune .  don goes back to fred and moves in with him and continues to gives him tips which helps him make him rich .  walker tries to find out how he is doing this so he sends hi secretary to find out and she finds herself falling for fred .\"\n        ],\n        \"semantic_type\": \"\",\n        \"description\": \"\"\n      }\n    }\n  ]\n}",
              "type": "dataframe",
              "variable_name": "dataTesting"
            },
            "text/html": [
              "\n",
              "  <div id=\"df-e1c93fb7-b21b-43e9-a76c-187fe4f5c057\" class=\"colab-df-container\">\n",
              "    <div>\n",
              "<style scoped>\n",
              "    .dataframe tbody tr th:only-of-type {\n",
              "        vertical-align: middle;\n",
              "    }\n",
              "\n",
              "    .dataframe tbody tr th {\n",
              "        vertical-align: top;\n",
              "    }\n",
              "\n",
              "    .dataframe thead th {\n",
              "        text-align: right;\n",
              "    }\n",
              "</style>\n",
              "<table border=\"1\" class=\"dataframe\">\n",
              "  <thead>\n",
              "    <tr style=\"text-align: right;\">\n",
              "      <th></th>\n",
              "      <th>year</th>\n",
              "      <th>title</th>\n",
              "      <th>plot</th>\n",
              "    </tr>\n",
              "  </thead>\n",
              "  <tbody>\n",
              "    <tr>\n",
              "      <th>1</th>\n",
              "      <td>1999</td>\n",
              "      <td>Message in a Bottle</td>\n",
              "      <td>who meets by fate ,  shall be sealed by fate ....</td>\n",
              "    </tr>\n",
              "    <tr>\n",
              "      <th>4</th>\n",
              "      <td>1978</td>\n",
              "      <td>Midnight Express</td>\n",
              "      <td>the true story of billy hayes ,  an american c...</td>\n",
              "    </tr>\n",
              "    <tr>\n",
              "      <th>5</th>\n",
              "      <td>1996</td>\n",
              "      <td>Primal Fear</td>\n",
              "      <td>martin vail left the chicago da ' s office to ...</td>\n",
              "    </tr>\n",
              "    <tr>\n",
              "      <th>6</th>\n",
              "      <td>1950</td>\n",
              "      <td>Crisis</td>\n",
              "      <td>husband and wife americans dr .  eugene and mr...</td>\n",
              "    </tr>\n",
              "    <tr>\n",
              "      <th>7</th>\n",
              "      <td>1959</td>\n",
              "      <td>The Tingler</td>\n",
              "      <td>the coroner and scientist dr .  warren chapin ...</td>\n",
              "    </tr>\n",
              "  </tbody>\n",
              "</table>\n",
              "</div>\n",
              "    <div class=\"colab-df-buttons\">\n",
              "\n",
              "  <div class=\"colab-df-container\">\n",
              "    <button class=\"colab-df-convert\" onclick=\"convertToInteractive('df-e1c93fb7-b21b-43e9-a76c-187fe4f5c057')\"\n",
              "            title=\"Convert this dataframe to an interactive table.\"\n",
              "            style=\"display:none;\">\n",
              "\n",
              "  <svg xmlns=\"http://www.w3.org/2000/svg\" height=\"24px\" viewBox=\"0 -960 960 960\">\n",
              "    <path d=\"M120-120v-720h720v720H120Zm60-500h600v-160H180v160Zm220 220h160v-160H400v160Zm0 220h160v-160H400v160ZM180-400h160v-160H180v160Zm440 0h160v-160H620v160ZM180-180h160v-160H180v160Zm440 0h160v-160H620v160Z\"/>\n",
              "  </svg>\n",
              "    </button>\n",
              "\n",
              "  <style>\n",
              "    .colab-df-container {\n",
              "      display:flex;\n",
              "      gap: 12px;\n",
              "    }\n",
              "\n",
              "    .colab-df-convert {\n",
              "      background-color: #E8F0FE;\n",
              "      border: none;\n",
              "      border-radius: 50%;\n",
              "      cursor: pointer;\n",
              "      display: none;\n",
              "      fill: #1967D2;\n",
              "      height: 32px;\n",
              "      padding: 0 0 0 0;\n",
              "      width: 32px;\n",
              "    }\n",
              "\n",
              "    .colab-df-convert:hover {\n",
              "      background-color: #E2EBFA;\n",
              "      box-shadow: 0px 1px 2px rgba(60, 64, 67, 0.3), 0px 1px 3px 1px rgba(60, 64, 67, 0.15);\n",
              "      fill: #174EA6;\n",
              "    }\n",
              "\n",
              "    .colab-df-buttons div {\n",
              "      margin-bottom: 4px;\n",
              "    }\n",
              "\n",
              "    [theme=dark] .colab-df-convert {\n",
              "      background-color: #3B4455;\n",
              "      fill: #D2E3FC;\n",
              "    }\n",
              "\n",
              "    [theme=dark] .colab-df-convert:hover {\n",
              "      background-color: #434B5C;\n",
              "      box-shadow: 0px 1px 3px 1px rgba(0, 0, 0, 0.15);\n",
              "      filter: drop-shadow(0px 1px 2px rgba(0, 0, 0, 0.3));\n",
              "      fill: #FFFFFF;\n",
              "    }\n",
              "  </style>\n",
              "\n",
              "    <script>\n",
              "      const buttonEl =\n",
              "        document.querySelector('#df-e1c93fb7-b21b-43e9-a76c-187fe4f5c057 button.colab-df-convert');\n",
              "      buttonEl.style.display =\n",
              "        google.colab.kernel.accessAllowed ? 'block' : 'none';\n",
              "\n",
              "      async function convertToInteractive(key) {\n",
              "        const element = document.querySelector('#df-e1c93fb7-b21b-43e9-a76c-187fe4f5c057');\n",
              "        const dataTable =\n",
              "          await google.colab.kernel.invokeFunction('convertToInteractive',\n",
              "                                                    [key], {});\n",
              "        if (!dataTable) return;\n",
              "\n",
              "        const docLinkHtml = 'Like what you see? Visit the ' +\n",
              "          '<a target=\"_blank\" href=https://colab.research.google.com/notebooks/data_table.ipynb>data table notebook</a>'\n",
              "          + ' to learn more about interactive tables.';\n",
              "        element.innerHTML = '';\n",
              "        dataTable['output_type'] = 'display_data';\n",
              "        await google.colab.output.renderOutput(dataTable, element);\n",
              "        const docLink = document.createElement('div');\n",
              "        docLink.innerHTML = docLinkHtml;\n",
              "        element.appendChild(docLink);\n",
              "      }\n",
              "    </script>\n",
              "  </div>\n",
              "\n",
              "\n",
              "<div id=\"df-7a4a1ccb-cc34-445c-858f-8b70c02dc6b3\">\n",
              "  <button class=\"colab-df-quickchart\" onclick=\"quickchart('df-7a4a1ccb-cc34-445c-858f-8b70c02dc6b3')\"\n",
              "            title=\"Suggest charts\"\n",
              "            style=\"display:none;\">\n",
              "\n",
              "<svg xmlns=\"http://www.w3.org/2000/svg\" height=\"24px\"viewBox=\"0 0 24 24\"\n",
              "     width=\"24px\">\n",
              "    <g>\n",
              "        <path d=\"M19 3H5c-1.1 0-2 .9-2 2v14c0 1.1.9 2 2 2h14c1.1 0 2-.9 2-2V5c0-1.1-.9-2-2-2zM9 17H7v-7h2v7zm4 0h-2V7h2v10zm4 0h-2v-4h2v4z\"/>\n",
              "    </g>\n",
              "</svg>\n",
              "  </button>\n",
              "\n",
              "<style>\n",
              "  .colab-df-quickchart {\n",
              "      --bg-color: #E8F0FE;\n",
              "      --fill-color: #1967D2;\n",
              "      --hover-bg-color: #E2EBFA;\n",
              "      --hover-fill-color: #174EA6;\n",
              "      --disabled-fill-color: #AAA;\n",
              "      --disabled-bg-color: #DDD;\n",
              "  }\n",
              "\n",
              "  [theme=dark] .colab-df-quickchart {\n",
              "      --bg-color: #3B4455;\n",
              "      --fill-color: #D2E3FC;\n",
              "      --hover-bg-color: #434B5C;\n",
              "      --hover-fill-color: #FFFFFF;\n",
              "      --disabled-bg-color: #3B4455;\n",
              "      --disabled-fill-color: #666;\n",
              "  }\n",
              "\n",
              "  .colab-df-quickchart {\n",
              "    background-color: var(--bg-color);\n",
              "    border: none;\n",
              "    border-radius: 50%;\n",
              "    cursor: pointer;\n",
              "    display: none;\n",
              "    fill: var(--fill-color);\n",
              "    height: 32px;\n",
              "    padding: 0;\n",
              "    width: 32px;\n",
              "  }\n",
              "\n",
              "  .colab-df-quickchart:hover {\n",
              "    background-color: var(--hover-bg-color);\n",
              "    box-shadow: 0 1px 2px rgba(60, 64, 67, 0.3), 0 1px 3px 1px rgba(60, 64, 67, 0.15);\n",
              "    fill: var(--button-hover-fill-color);\n",
              "  }\n",
              "\n",
              "  .colab-df-quickchart-complete:disabled,\n",
              "  .colab-df-quickchart-complete:disabled:hover {\n",
              "    background-color: var(--disabled-bg-color);\n",
              "    fill: var(--disabled-fill-color);\n",
              "    box-shadow: none;\n",
              "  }\n",
              "\n",
              "  .colab-df-spinner {\n",
              "    border: 2px solid var(--fill-color);\n",
              "    border-color: transparent;\n",
              "    border-bottom-color: var(--fill-color);\n",
              "    animation:\n",
              "      spin 1s steps(1) infinite;\n",
              "  }\n",
              "\n",
              "  @keyframes spin {\n",
              "    0% {\n",
              "      border-color: transparent;\n",
              "      border-bottom-color: var(--fill-color);\n",
              "      border-left-color: var(--fill-color);\n",
              "    }\n",
              "    20% {\n",
              "      border-color: transparent;\n",
              "      border-left-color: var(--fill-color);\n",
              "      border-top-color: var(--fill-color);\n",
              "    }\n",
              "    30% {\n",
              "      border-color: transparent;\n",
              "      border-left-color: var(--fill-color);\n",
              "      border-top-color: var(--fill-color);\n",
              "      border-right-color: var(--fill-color);\n",
              "    }\n",
              "    40% {\n",
              "      border-color: transparent;\n",
              "      border-right-color: var(--fill-color);\n",
              "      border-top-color: var(--fill-color);\n",
              "    }\n",
              "    60% {\n",
              "      border-color: transparent;\n",
              "      border-right-color: var(--fill-color);\n",
              "    }\n",
              "    80% {\n",
              "      border-color: transparent;\n",
              "      border-right-color: var(--fill-color);\n",
              "      border-bottom-color: var(--fill-color);\n",
              "    }\n",
              "    90% {\n",
              "      border-color: transparent;\n",
              "      border-bottom-color: var(--fill-color);\n",
              "    }\n",
              "  }\n",
              "</style>\n",
              "\n",
              "  <script>\n",
              "    async function quickchart(key) {\n",
              "      const quickchartButtonEl =\n",
              "        document.querySelector('#' + key + ' button');\n",
              "      quickchartButtonEl.disabled = true;  // To prevent multiple clicks.\n",
              "      quickchartButtonEl.classList.add('colab-df-spinner');\n",
              "      try {\n",
              "        const charts = await google.colab.kernel.invokeFunction(\n",
              "            'suggestCharts', [key], {});\n",
              "      } catch (error) {\n",
              "        console.error('Error during call to suggestCharts:', error);\n",
              "      }\n",
              "      quickchartButtonEl.classList.remove('colab-df-spinner');\n",
              "      quickchartButtonEl.classList.add('colab-df-quickchart-complete');\n",
              "    }\n",
              "    (() => {\n",
              "      let quickchartButtonEl =\n",
              "        document.querySelector('#df-7a4a1ccb-cc34-445c-858f-8b70c02dc6b3 button');\n",
              "      quickchartButtonEl.style.display =\n",
              "        google.colab.kernel.accessAllowed ? 'block' : 'none';\n",
              "    })();\n",
              "  </script>\n",
              "</div>\n",
              "\n",
              "    </div>\n",
              "  </div>\n"
            ],
            "text/plain": [
              "   year                title  \\\n",
              "1  1999  Message in a Bottle   \n",
              "4  1978     Midnight Express   \n",
              "5  1996          Primal Fear   \n",
              "6  1950               Crisis   \n",
              "7  1959          The Tingler   \n",
              "\n",
              "                                                plot  \n",
              "1  who meets by fate ,  shall be sealed by fate ....  \n",
              "4  the true story of billy hayes ,  an american c...  \n",
              "5  martin vail left the chicago da ' s office to ...  \n",
              "6  husband and wife americans dr .  eugene and mr...  \n",
              "7  the coroner and scientist dr .  warren chapin ...  "
            ]
          },
          "execution_count": 100,
          "metadata": {},
          "output_type": "execute_result"
        }
      ],
      "source": [
        "dataTesting.head()"
      ]
    },
    {
      "cell_type": "markdown",
      "metadata": {
        "id": "Q0JTfcx-nx_v"
      },
      "source": [
        "### Create count vectorizer\n"
      ]
    },
    {
      "cell_type": "code",
      "execution_count": null,
      "metadata": {
        "colab": {
          "base_uri": "https://localhost:8080/"
        },
        "id": "TOtOhavanx_v",
        "outputId": "175c1db0-1275-4cba-a2c0-3dddde534f96"
      },
      "outputs": [
        {
          "data": {
            "text/plain": [
              "(7895, 1000)"
            ]
          },
          "execution_count": 101,
          "metadata": {},
          "output_type": "execute_result"
        }
      ],
      "source": [
        "#thing to note here is that we are only using the words in the plot field to build up the vocabulary\n",
        "vect = CountVectorizer(max_features=1000)\n",
        "X_dtm = vect.fit_transform(dataTraining['plot'])\n",
        "X_dtm.shape"
      ]
    },
    {
      "cell_type": "code",
      "execution_count": null,
      "metadata": {
        "colab": {
          "base_uri": "https://localhost:8080/"
        },
        "id": "QndZ_LxXxQ6I",
        "outputId": "fd219b58-8a94-42d3-dfcb-153d5b064311"
      },
      "outputs": [
        {
          "data": {
            "text/plain": [
              "<7895x1000 sparse matrix of type '<class 'numpy.int64'>'\n",
              "\twith 398173 stored elements in Compressed Sparse Row format>"
            ]
          },
          "execution_count": 102,
          "metadata": {},
          "output_type": "execute_result"
        }
      ],
      "source": [
        "X_dtm"
      ]
    },
    {
      "cell_type": "code",
      "execution_count": null,
      "metadata": {
        "colab": {
          "base_uri": "https://localhost:8080/"
        },
        "id": "BmImLrVvx_Uu",
        "outputId": "a964037a-f32a-4e46-ddb7-4fb2eb4d1c4d"
      },
      "outputs": [
        {
          "data": {
            "text/plain": [
              "<1x1000 sparse matrix of type '<class 'numpy.int64'>'\n",
              "\twith 83 stored elements in Compressed Sparse Row format>"
            ]
          },
          "execution_count": 103,
          "metadata": {},
          "output_type": "execute_result"
        }
      ],
      "source": [
        "X_dtm[0]"
      ]
    },
    {
      "cell_type": "code",
      "execution_count": null,
      "metadata": {
        "colab": {
          "base_uri": "https://localhost:8080/"
        },
        "id": "-WmoGe7hnx_v",
        "outputId": "425b3fd6-08b0-4a45-8534-29034fdd09b8"
      },
      "outputs": [
        {
          "name": "stdout",
          "output_type": "stream",
          "text": [
            "['most', 'is', 'the', 'story', 'of', 'single', 'father', 'who', 'takes', 'his', 'year', 'old', 'son', 'to', 'work', 'with', 'him', 'at', 'where', 'he', 'day', 'before', 'boy', 'meets', 'woman', 'train', 'drug', 'goes', 'into', 'room', 'and', 'tells', 'stay', 'ship', 'comes', 'though', 'it', 'arrive', 'an', 'later', 'happens', 'sees', 'this', 'tries', 'not', 'able', 'see', 'just', 'as', 'falls']\n"
          ]
        }
      ],
      "source": [
        "print(list(vect.vocabulary_.keys())[:50])"
      ]
    },
    {
      "cell_type": "markdown",
      "metadata": {
        "id": "LxIraRIgnx_w"
      },
      "source": [
        "### Create y"
      ]
    },
    {
      "cell_type": "code",
      "execution_count": null,
      "metadata": {
        "id": "jJgReT6nnx_w"
      },
      "outputs": [],
      "source": [
        "dataTraining['genres'] = dataTraining['genres'].map(lambda x: eval(x))\n",
        "\n",
        "le = MultiLabelBinarizer()\n",
        "y_genres = le.fit_transform(dataTraining['genres'])"
      ]
    },
    {
      "cell_type": "code",
      "execution_count": null,
      "metadata": {
        "colab": {
          "base_uri": "https://localhost:8080/"
        },
        "id": "Fp56UvD0nx_w",
        "outputId": "94b36d4e-7c97-47c7-ea1e-615c507b955a"
      },
      "outputs": [
        {
          "data": {
            "text/plain": [
              "array([[0, 0, 0, ..., 0, 0, 0],\n",
              "       [0, 0, 0, ..., 0, 0, 0],\n",
              "       [0, 0, 0, ..., 1, 0, 0],\n",
              "       ...,\n",
              "       [0, 1, 0, ..., 0, 0, 0],\n",
              "       [0, 1, 1, ..., 0, 0, 0],\n",
              "       [0, 1, 1, ..., 0, 0, 0]])"
            ]
          },
          "execution_count": 106,
          "metadata": {},
          "output_type": "execute_result"
        }
      ],
      "source": [
        "y_genres"
      ]
    },
    {
      "cell_type": "code",
      "execution_count": null,
      "metadata": {
        "colab": {
          "base_uri": "https://localhost:8080/"
        },
        "id": "__gToPjnaXpO",
        "outputId": "8645e872-e4e5-4c7e-ca9a-f780e50deff9"
      },
      "outputs": [
        {
          "data": {
            "text/plain": [
              "array(['Action', 'Adventure', 'Animation', 'Biography', 'Comedy', 'Crime',\n",
              "       'Documentary', 'Drama', 'Family', 'Fantasy', 'Film-Noir',\n",
              "       'History', 'Horror', 'Music', 'Musical', 'Mystery', 'News',\n",
              "       'Romance', 'Sci-Fi', 'Short', 'Sport', 'Thriller', 'War',\n",
              "       'Western'], dtype=object)"
            ]
          },
          "execution_count": 210,
          "metadata": {},
          "output_type": "execute_result"
        }
      ],
      "source": [
        "le.classes_"
      ]
    },
    {
      "cell_type": "code",
      "execution_count": null,
      "metadata": {
        "colab": {
          "base_uri": "https://localhost:8080/"
        },
        "id": "7NMIwZQp-sL7",
        "outputId": "65c78fd3-c546-4bef-b218-6838d02eb817"
      },
      "outputs": [
        {
          "data": {
            "text/plain": [
              "24"
            ]
          },
          "execution_count": 176,
          "metadata": {},
          "output_type": "execute_result"
        }
      ],
      "source": [
        "len(le.classes_)"
      ]
    },
    {
      "cell_type": "code",
      "execution_count": null,
      "metadata": {
        "colab": {
          "base_uri": "https://localhost:8080/"
        },
        "id": "tzPU7So5snb8",
        "outputId": "5f6562d3-a29a-446a-c2d3-7d4c071457f6"
      },
      "outputs": [
        {
          "data": {
            "text/plain": [
              "array([1, 0, 0, 0, 0, 1, 0, 1, 0, 0, 0, 0, 0, 0, 0, 1, 0, 0, 0, 0, 0, 1,\n",
              "       0, 0])"
            ]
          },
          "execution_count": 108,
          "metadata": {},
          "output_type": "execute_result"
        }
      ],
      "source": [
        "y_genres[3107] # shit the problem is also here too wtf"
      ]
    },
    {
      "cell_type": "code",
      "execution_count": null,
      "metadata": {
        "id": "uzJ-6k7tnx_w"
      },
      "outputs": [],
      "source": [
        "X_train, X_test, y_train_genres, y_test_genres = train_test_split(X_dtm, y_genres, test_size=0.33, random_state=42)"
      ]
    },
    {
      "cell_type": "markdown",
      "metadata": {
        "id": "_A8GJ0oBnx_x"
      },
      "source": [
        "### Train multi-class multi-label model"
      ]
    },
    {
      "cell_type": "code",
      "execution_count": null,
      "metadata": {
        "id": "5vfswfx_nx_x"
      },
      "outputs": [],
      "source": [
        "clf = OneVsRestClassifier(RandomForestClassifier(n_jobs=-1, n_estimators=100, max_depth=10, random_state=42))"
      ]
    },
    {
      "cell_type": "code",
      "execution_count": null,
      "metadata": {
        "colab": {
          "base_uri": "https://localhost:8080/",
          "height": 118
        },
        "id": "zIhINqcmnx_x",
        "outputId": "e34f6e51-68b3-492c-e370-1d0dd18da1b6"
      },
      "outputs": [
        {
          "data": {
            "text/html": [
              "<style>#sk-container-id-12 {color: black;background-color: white;}#sk-container-id-12 pre{padding: 0;}#sk-container-id-12 div.sk-toggleable {background-color: white;}#sk-container-id-12 label.sk-toggleable__label {cursor: pointer;display: block;width: 100%;margin-bottom: 0;padding: 0.3em;box-sizing: border-box;text-align: center;}#sk-container-id-12 label.sk-toggleable__label-arrow:before {content: \"▸\";float: left;margin-right: 0.25em;color: #696969;}#sk-container-id-12 label.sk-toggleable__label-arrow:hover:before {color: black;}#sk-container-id-12 div.sk-estimator:hover label.sk-toggleable__label-arrow:before {color: black;}#sk-container-id-12 div.sk-toggleable__content {max-height: 0;max-width: 0;overflow: hidden;text-align: left;background-color: #f0f8ff;}#sk-container-id-12 div.sk-toggleable__content pre {margin: 0.2em;color: black;border-radius: 0.25em;background-color: #f0f8ff;}#sk-container-id-12 input.sk-toggleable__control:checked~div.sk-toggleable__content {max-height: 200px;max-width: 100%;overflow: auto;}#sk-container-id-12 input.sk-toggleable__control:checked~label.sk-toggleable__label-arrow:before {content: \"▾\";}#sk-container-id-12 div.sk-estimator input.sk-toggleable__control:checked~label.sk-toggleable__label {background-color: #d4ebff;}#sk-container-id-12 div.sk-label input.sk-toggleable__control:checked~label.sk-toggleable__label {background-color: #d4ebff;}#sk-container-id-12 input.sk-hidden--visually {border: 0;clip: rect(1px 1px 1px 1px);clip: rect(1px, 1px, 1px, 1px);height: 1px;margin: -1px;overflow: hidden;padding: 0;position: absolute;width: 1px;}#sk-container-id-12 div.sk-estimator {font-family: monospace;background-color: #f0f8ff;border: 1px dotted black;border-radius: 0.25em;box-sizing: border-box;margin-bottom: 0.5em;}#sk-container-id-12 div.sk-estimator:hover {background-color: #d4ebff;}#sk-container-id-12 div.sk-parallel-item::after {content: \"\";width: 100%;border-bottom: 1px solid gray;flex-grow: 1;}#sk-container-id-12 div.sk-label:hover label.sk-toggleable__label {background-color: #d4ebff;}#sk-container-id-12 div.sk-serial::before {content: \"\";position: absolute;border-left: 1px solid gray;box-sizing: border-box;top: 0;bottom: 0;left: 50%;z-index: 0;}#sk-container-id-12 div.sk-serial {display: flex;flex-direction: column;align-items: center;background-color: white;padding-right: 0.2em;padding-left: 0.2em;position: relative;}#sk-container-id-12 div.sk-item {position: relative;z-index: 1;}#sk-container-id-12 div.sk-parallel {display: flex;align-items: stretch;justify-content: center;background-color: white;position: relative;}#sk-container-id-12 div.sk-item::before, #sk-container-id-12 div.sk-parallel-item::before {content: \"\";position: absolute;border-left: 1px solid gray;box-sizing: border-box;top: 0;bottom: 0;left: 50%;z-index: -1;}#sk-container-id-12 div.sk-parallel-item {display: flex;flex-direction: column;z-index: 1;position: relative;background-color: white;}#sk-container-id-12 div.sk-parallel-item:first-child::after {align-self: flex-end;width: 50%;}#sk-container-id-12 div.sk-parallel-item:last-child::after {align-self: flex-start;width: 50%;}#sk-container-id-12 div.sk-parallel-item:only-child::after {width: 0;}#sk-container-id-12 div.sk-dashed-wrapped {border: 1px dashed gray;margin: 0 0.4em 0.5em 0.4em;box-sizing: border-box;padding-bottom: 0.4em;background-color: white;}#sk-container-id-12 div.sk-label label {font-family: monospace;font-weight: bold;display: inline-block;line-height: 1.2em;}#sk-container-id-12 div.sk-label-container {text-align: center;}#sk-container-id-12 div.sk-container {/* jupyter's `normalize.less` sets `[hidden] { display: none; }` but bootstrap.min.css set `[hidden] { display: none !important; }` so we also need the `!important` here to be able to override the default hidden behavior on the sphinx rendered scikit-learn.org. See: https://github.com/scikit-learn/scikit-learn/issues/21755 */display: inline-block !important;position: relative;}#sk-container-id-12 div.sk-text-repr-fallback {display: none;}</style><div id=\"sk-container-id-12\" class=\"sk-top-container\"><div class=\"sk-text-repr-fallback\"><pre>OneVsRestClassifier(estimator=RandomForestClassifier(max_depth=10, n_jobs=-1,\n",
              "                                                     random_state=42))</pre><b>In a Jupyter environment, please rerun this cell to show the HTML representation or trust the notebook. <br />On GitHub, the HTML representation is unable to render, please try loading this page with nbviewer.org.</b></div><div class=\"sk-container\" hidden><div class=\"sk-item sk-dashed-wrapped\"><div class=\"sk-label-container\"><div class=\"sk-label sk-toggleable\"><input class=\"sk-toggleable__control sk-hidden--visually\" id=\"sk-estimator-id-34\" type=\"checkbox\" ><label for=\"sk-estimator-id-34\" class=\"sk-toggleable__label sk-toggleable__label-arrow\">OneVsRestClassifier</label><div class=\"sk-toggleable__content\"><pre>OneVsRestClassifier(estimator=RandomForestClassifier(max_depth=10, n_jobs=-1,\n",
              "                                                     random_state=42))</pre></div></div></div><div class=\"sk-parallel\"><div class=\"sk-parallel-item\"><div class=\"sk-item\"><div class=\"sk-label-container\"><div class=\"sk-label sk-toggleable\"><input class=\"sk-toggleable__control sk-hidden--visually\" id=\"sk-estimator-id-35\" type=\"checkbox\" ><label for=\"sk-estimator-id-35\" class=\"sk-toggleable__label sk-toggleable__label-arrow\">estimator: RandomForestClassifier</label><div class=\"sk-toggleable__content\"><pre>RandomForestClassifier(max_depth=10, n_jobs=-1, random_state=42)</pre></div></div></div><div class=\"sk-serial\"><div class=\"sk-item\"><div class=\"sk-estimator sk-toggleable\"><input class=\"sk-toggleable__control sk-hidden--visually\" id=\"sk-estimator-id-36\" type=\"checkbox\" ><label for=\"sk-estimator-id-36\" class=\"sk-toggleable__label sk-toggleable__label-arrow\">RandomForestClassifier</label><div class=\"sk-toggleable__content\"><pre>RandomForestClassifier(max_depth=10, n_jobs=-1, random_state=42)</pre></div></div></div></div></div></div></div></div></div></div>"
            ],
            "text/plain": [
              "OneVsRestClassifier(estimator=RandomForestClassifier(max_depth=10, n_jobs=-1,\n",
              "                                                     random_state=42))"
            ]
          },
          "execution_count": 111,
          "metadata": {},
          "output_type": "execute_result"
        }
      ],
      "source": [
        "clf.fit(X_train, y_train_genres)"
      ]
    },
    {
      "cell_type": "code",
      "execution_count": null,
      "metadata": {
        "id": "fsCTAiqJnx_x"
      },
      "outputs": [],
      "source": [
        "y_pred_genres = clf.predict_proba(X_test)"
      ]
    },
    {
      "cell_type": "code",
      "execution_count": null,
      "metadata": {
        "colab": {
          "base_uri": "https://localhost:8080/"
        },
        "id": "dd9jPPjknx_x",
        "outputId": "2395186f-f39a-4da7-fc62-b46ba37301b0"
      },
      "outputs": [
        {
          "data": {
            "text/plain": [
              "0.7812262183677007"
            ]
          },
          "execution_count": 113,
          "metadata": {},
          "output_type": "execute_result"
        }
      ],
      "source": [
        "roc_auc_score(y_test_genres, y_pred_genres, average='macro')"
      ]
    },
    {
      "cell_type": "markdown",
      "metadata": {
        "id": "U0USXYK6xh05"
      },
      "source": [
        "# Random Forest with TD-IDF\n",
        "\n",
        "Let's switch out the vectorizer first since the RF Classifier isn't doing too bad"
      ]
    },
    {
      "cell_type": "code",
      "execution_count": null,
      "metadata": {
        "colab": {
          "base_uri": "https://localhost:8080/"
        },
        "id": "aqGeOiGExukV",
        "outputId": "f9e209df-74b4-466a-e4e9-8d3c0c6134d0"
      },
      "outputs": [
        {
          "data": {
            "text/plain": [
              "(7895, 38370)"
            ]
          },
          "execution_count": 114,
          "metadata": {},
          "output_type": "execute_result"
        }
      ],
      "source": [
        "from sklearn.feature_extraction.text import TfidfVectorizer\n",
        "\n",
        "vect = TfidfVectorizer(stop_words='english')\n",
        "X_dtm = vect.fit_transform(dataTraining['plot'])\n",
        "features = vect.vocabulary_.keys()\n",
        "X_dtm.shape"
      ]
    },
    {
      "cell_type": "code",
      "execution_count": null,
      "metadata": {
        "id": "l8zLckmuzeZ2"
      },
      "outputs": [],
      "source": [
        "X_train, X_test, y_train_genres, y_test_genres = train_test_split(X_dtm, y_genres, test_size=0.33, random_state=42)"
      ]
    },
    {
      "cell_type": "code",
      "execution_count": null,
      "metadata": {
        "id": "nb4vW5pIzn7O"
      },
      "outputs": [],
      "source": [
        "clf = OneVsRestClassifier(RandomForestClassifier(n_jobs=-1, n_estimators=100, max_depth=10, random_state=42))"
      ]
    },
    {
      "cell_type": "code",
      "execution_count": null,
      "metadata": {
        "colab": {
          "base_uri": "https://localhost:8080/",
          "height": 118
        },
        "id": "jgFh7aS2zrHT",
        "outputId": "421e5efc-1373-4949-d460-f03bf47984dc"
      },
      "outputs": [
        {
          "data": {
            "text/html": [
              "<style>#sk-container-id-13 {color: black;background-color: white;}#sk-container-id-13 pre{padding: 0;}#sk-container-id-13 div.sk-toggleable {background-color: white;}#sk-container-id-13 label.sk-toggleable__label {cursor: pointer;display: block;width: 100%;margin-bottom: 0;padding: 0.3em;box-sizing: border-box;text-align: center;}#sk-container-id-13 label.sk-toggleable__label-arrow:before {content: \"▸\";float: left;margin-right: 0.25em;color: #696969;}#sk-container-id-13 label.sk-toggleable__label-arrow:hover:before {color: black;}#sk-container-id-13 div.sk-estimator:hover label.sk-toggleable__label-arrow:before {color: black;}#sk-container-id-13 div.sk-toggleable__content {max-height: 0;max-width: 0;overflow: hidden;text-align: left;background-color: #f0f8ff;}#sk-container-id-13 div.sk-toggleable__content pre {margin: 0.2em;color: black;border-radius: 0.25em;background-color: #f0f8ff;}#sk-container-id-13 input.sk-toggleable__control:checked~div.sk-toggleable__content {max-height: 200px;max-width: 100%;overflow: auto;}#sk-container-id-13 input.sk-toggleable__control:checked~label.sk-toggleable__label-arrow:before {content: \"▾\";}#sk-container-id-13 div.sk-estimator input.sk-toggleable__control:checked~label.sk-toggleable__label {background-color: #d4ebff;}#sk-container-id-13 div.sk-label input.sk-toggleable__control:checked~label.sk-toggleable__label {background-color: #d4ebff;}#sk-container-id-13 input.sk-hidden--visually {border: 0;clip: rect(1px 1px 1px 1px);clip: rect(1px, 1px, 1px, 1px);height: 1px;margin: -1px;overflow: hidden;padding: 0;position: absolute;width: 1px;}#sk-container-id-13 div.sk-estimator {font-family: monospace;background-color: #f0f8ff;border: 1px dotted black;border-radius: 0.25em;box-sizing: border-box;margin-bottom: 0.5em;}#sk-container-id-13 div.sk-estimator:hover {background-color: #d4ebff;}#sk-container-id-13 div.sk-parallel-item::after {content: \"\";width: 100%;border-bottom: 1px solid gray;flex-grow: 1;}#sk-container-id-13 div.sk-label:hover label.sk-toggleable__label {background-color: #d4ebff;}#sk-container-id-13 div.sk-serial::before {content: \"\";position: absolute;border-left: 1px solid gray;box-sizing: border-box;top: 0;bottom: 0;left: 50%;z-index: 0;}#sk-container-id-13 div.sk-serial {display: flex;flex-direction: column;align-items: center;background-color: white;padding-right: 0.2em;padding-left: 0.2em;position: relative;}#sk-container-id-13 div.sk-item {position: relative;z-index: 1;}#sk-container-id-13 div.sk-parallel {display: flex;align-items: stretch;justify-content: center;background-color: white;position: relative;}#sk-container-id-13 div.sk-item::before, #sk-container-id-13 div.sk-parallel-item::before {content: \"\";position: absolute;border-left: 1px solid gray;box-sizing: border-box;top: 0;bottom: 0;left: 50%;z-index: -1;}#sk-container-id-13 div.sk-parallel-item {display: flex;flex-direction: column;z-index: 1;position: relative;background-color: white;}#sk-container-id-13 div.sk-parallel-item:first-child::after {align-self: flex-end;width: 50%;}#sk-container-id-13 div.sk-parallel-item:last-child::after {align-self: flex-start;width: 50%;}#sk-container-id-13 div.sk-parallel-item:only-child::after {width: 0;}#sk-container-id-13 div.sk-dashed-wrapped {border: 1px dashed gray;margin: 0 0.4em 0.5em 0.4em;box-sizing: border-box;padding-bottom: 0.4em;background-color: white;}#sk-container-id-13 div.sk-label label {font-family: monospace;font-weight: bold;display: inline-block;line-height: 1.2em;}#sk-container-id-13 div.sk-label-container {text-align: center;}#sk-container-id-13 div.sk-container {/* jupyter's `normalize.less` sets `[hidden] { display: none; }` but bootstrap.min.css set `[hidden] { display: none !important; }` so we also need the `!important` here to be able to override the default hidden behavior on the sphinx rendered scikit-learn.org. See: https://github.com/scikit-learn/scikit-learn/issues/21755 */display: inline-block !important;position: relative;}#sk-container-id-13 div.sk-text-repr-fallback {display: none;}</style><div id=\"sk-container-id-13\" class=\"sk-top-container\"><div class=\"sk-text-repr-fallback\"><pre>OneVsRestClassifier(estimator=RandomForestClassifier(max_depth=10, n_jobs=-1,\n",
              "                                                     random_state=42))</pre><b>In a Jupyter environment, please rerun this cell to show the HTML representation or trust the notebook. <br />On GitHub, the HTML representation is unable to render, please try loading this page with nbviewer.org.</b></div><div class=\"sk-container\" hidden><div class=\"sk-item sk-dashed-wrapped\"><div class=\"sk-label-container\"><div class=\"sk-label sk-toggleable\"><input class=\"sk-toggleable__control sk-hidden--visually\" id=\"sk-estimator-id-37\" type=\"checkbox\" ><label for=\"sk-estimator-id-37\" class=\"sk-toggleable__label sk-toggleable__label-arrow\">OneVsRestClassifier</label><div class=\"sk-toggleable__content\"><pre>OneVsRestClassifier(estimator=RandomForestClassifier(max_depth=10, n_jobs=-1,\n",
              "                                                     random_state=42))</pre></div></div></div><div class=\"sk-parallel\"><div class=\"sk-parallel-item\"><div class=\"sk-item\"><div class=\"sk-label-container\"><div class=\"sk-label sk-toggleable\"><input class=\"sk-toggleable__control sk-hidden--visually\" id=\"sk-estimator-id-38\" type=\"checkbox\" ><label for=\"sk-estimator-id-38\" class=\"sk-toggleable__label sk-toggleable__label-arrow\">estimator: RandomForestClassifier</label><div class=\"sk-toggleable__content\"><pre>RandomForestClassifier(max_depth=10, n_jobs=-1, random_state=42)</pre></div></div></div><div class=\"sk-serial\"><div class=\"sk-item\"><div class=\"sk-estimator sk-toggleable\"><input class=\"sk-toggleable__control sk-hidden--visually\" id=\"sk-estimator-id-39\" type=\"checkbox\" ><label for=\"sk-estimator-id-39\" class=\"sk-toggleable__label sk-toggleable__label-arrow\">RandomForestClassifier</label><div class=\"sk-toggleable__content\"><pre>RandomForestClassifier(max_depth=10, n_jobs=-1, random_state=42)</pre></div></div></div></div></div></div></div></div></div></div>"
            ],
            "text/plain": [
              "OneVsRestClassifier(estimator=RandomForestClassifier(max_depth=10, n_jobs=-1,\n",
              "                                                     random_state=42))"
            ]
          },
          "execution_count": 117,
          "metadata": {},
          "output_type": "execute_result"
        }
      ],
      "source": [
        "clf.fit(X_train, y_train_genres)"
      ]
    },
    {
      "cell_type": "code",
      "execution_count": null,
      "metadata": {
        "id": "PS8XCBvwztBe"
      },
      "outputs": [],
      "source": [
        "y_pred_genres = clf.predict_proba(X_test)"
      ]
    },
    {
      "cell_type": "code",
      "execution_count": null,
      "metadata": {
        "colab": {
          "base_uri": "https://localhost:8080/"
        },
        "id": "8e929_jmzuMh",
        "outputId": "a7a31a0b-f1f7-4225-e7f8-c10dd741dd35"
      },
      "outputs": [
        {
          "data": {
            "text/plain": [
              "0.7939687899847"
            ]
          },
          "execution_count": 119,
          "metadata": {},
          "output_type": "execute_result"
        }
      ],
      "source": [
        "roc_auc_score(y_test_genres, y_pred_genres, average='macro')"
      ]
    },
    {
      "cell_type": "markdown",
      "metadata": {
        "id": "nCPSuV6O0D0y"
      },
      "source": [
        "A little better but, maybe increase the n-gram size , further increasing the dictionary."
      ]
    },
    {
      "cell_type": "code",
      "execution_count": null,
      "metadata": {
        "colab": {
          "base_uri": "https://localhost:8080/"
        },
        "id": "SvCWpso10Mhp",
        "outputId": "75585aa5-4f0c-4d1d-e560-36596cd36d36"
      },
      "outputs": [
        {
          "data": {
            "text/plain": [
              "(7895, 51746)"
            ]
          },
          "execution_count": 120,
          "metadata": {},
          "output_type": "execute_result"
        }
      ],
      "source": [
        "vect = TfidfVectorizer(stop_words='english',ngram_range=(1, 2), min_df=2, max_df=0.95)\n",
        "X_dtm = vect.fit_transform(dataTraining['plot'])\n",
        "features = vect.vocabulary_.keys()\n",
        "X_dtm.shape"
      ]
    },
    {
      "cell_type": "code",
      "execution_count": null,
      "metadata": {
        "id": "_it-7Xxw1y59"
      },
      "outputs": [],
      "source": [
        "X_train, X_test, y_train_genres, y_test_genres = train_test_split(X_dtm, y_genres, test_size=0.33, random_state=42)"
      ]
    },
    {
      "cell_type": "code",
      "execution_count": null,
      "metadata": {
        "id": "RqvMOvne12bw"
      },
      "outputs": [],
      "source": [
        "clf = OneVsRestClassifier(RandomForestClassifier(n_jobs=-1, n_estimators=100, max_depth=25, random_state=42))"
      ]
    },
    {
      "cell_type": "code",
      "execution_count": null,
      "metadata": {
        "colab": {
          "base_uri": "https://localhost:8080/",
          "height": 118
        },
        "id": "CoHJtCYC13ze",
        "outputId": "c7d5f378-521b-43b3-d20f-b3c3089f3e5b"
      },
      "outputs": [
        {
          "data": {
            "text/html": [
              "<style>#sk-container-id-14 {color: black;background-color: white;}#sk-container-id-14 pre{padding: 0;}#sk-container-id-14 div.sk-toggleable {background-color: white;}#sk-container-id-14 label.sk-toggleable__label {cursor: pointer;display: block;width: 100%;margin-bottom: 0;padding: 0.3em;box-sizing: border-box;text-align: center;}#sk-container-id-14 label.sk-toggleable__label-arrow:before {content: \"▸\";float: left;margin-right: 0.25em;color: #696969;}#sk-container-id-14 label.sk-toggleable__label-arrow:hover:before {color: black;}#sk-container-id-14 div.sk-estimator:hover label.sk-toggleable__label-arrow:before {color: black;}#sk-container-id-14 div.sk-toggleable__content {max-height: 0;max-width: 0;overflow: hidden;text-align: left;background-color: #f0f8ff;}#sk-container-id-14 div.sk-toggleable__content pre {margin: 0.2em;color: black;border-radius: 0.25em;background-color: #f0f8ff;}#sk-container-id-14 input.sk-toggleable__control:checked~div.sk-toggleable__content {max-height: 200px;max-width: 100%;overflow: auto;}#sk-container-id-14 input.sk-toggleable__control:checked~label.sk-toggleable__label-arrow:before {content: \"▾\";}#sk-container-id-14 div.sk-estimator input.sk-toggleable__control:checked~label.sk-toggleable__label {background-color: #d4ebff;}#sk-container-id-14 div.sk-label input.sk-toggleable__control:checked~label.sk-toggleable__label {background-color: #d4ebff;}#sk-container-id-14 input.sk-hidden--visually {border: 0;clip: rect(1px 1px 1px 1px);clip: rect(1px, 1px, 1px, 1px);height: 1px;margin: -1px;overflow: hidden;padding: 0;position: absolute;width: 1px;}#sk-container-id-14 div.sk-estimator {font-family: monospace;background-color: #f0f8ff;border: 1px dotted black;border-radius: 0.25em;box-sizing: border-box;margin-bottom: 0.5em;}#sk-container-id-14 div.sk-estimator:hover {background-color: #d4ebff;}#sk-container-id-14 div.sk-parallel-item::after {content: \"\";width: 100%;border-bottom: 1px solid gray;flex-grow: 1;}#sk-container-id-14 div.sk-label:hover label.sk-toggleable__label {background-color: #d4ebff;}#sk-container-id-14 div.sk-serial::before {content: \"\";position: absolute;border-left: 1px solid gray;box-sizing: border-box;top: 0;bottom: 0;left: 50%;z-index: 0;}#sk-container-id-14 div.sk-serial {display: flex;flex-direction: column;align-items: center;background-color: white;padding-right: 0.2em;padding-left: 0.2em;position: relative;}#sk-container-id-14 div.sk-item {position: relative;z-index: 1;}#sk-container-id-14 div.sk-parallel {display: flex;align-items: stretch;justify-content: center;background-color: white;position: relative;}#sk-container-id-14 div.sk-item::before, #sk-container-id-14 div.sk-parallel-item::before {content: \"\";position: absolute;border-left: 1px solid gray;box-sizing: border-box;top: 0;bottom: 0;left: 50%;z-index: -1;}#sk-container-id-14 div.sk-parallel-item {display: flex;flex-direction: column;z-index: 1;position: relative;background-color: white;}#sk-container-id-14 div.sk-parallel-item:first-child::after {align-self: flex-end;width: 50%;}#sk-container-id-14 div.sk-parallel-item:last-child::after {align-self: flex-start;width: 50%;}#sk-container-id-14 div.sk-parallel-item:only-child::after {width: 0;}#sk-container-id-14 div.sk-dashed-wrapped {border: 1px dashed gray;margin: 0 0.4em 0.5em 0.4em;box-sizing: border-box;padding-bottom: 0.4em;background-color: white;}#sk-container-id-14 div.sk-label label {font-family: monospace;font-weight: bold;display: inline-block;line-height: 1.2em;}#sk-container-id-14 div.sk-label-container {text-align: center;}#sk-container-id-14 div.sk-container {/* jupyter's `normalize.less` sets `[hidden] { display: none; }` but bootstrap.min.css set `[hidden] { display: none !important; }` so we also need the `!important` here to be able to override the default hidden behavior on the sphinx rendered scikit-learn.org. See: https://github.com/scikit-learn/scikit-learn/issues/21755 */display: inline-block !important;position: relative;}#sk-container-id-14 div.sk-text-repr-fallback {display: none;}</style><div id=\"sk-container-id-14\" class=\"sk-top-container\"><div class=\"sk-text-repr-fallback\"><pre>OneVsRestClassifier(estimator=RandomForestClassifier(max_depth=25, n_jobs=-1,\n",
              "                                                     random_state=42))</pre><b>In a Jupyter environment, please rerun this cell to show the HTML representation or trust the notebook. <br />On GitHub, the HTML representation is unable to render, please try loading this page with nbviewer.org.</b></div><div class=\"sk-container\" hidden><div class=\"sk-item sk-dashed-wrapped\"><div class=\"sk-label-container\"><div class=\"sk-label sk-toggleable\"><input class=\"sk-toggleable__control sk-hidden--visually\" id=\"sk-estimator-id-40\" type=\"checkbox\" ><label for=\"sk-estimator-id-40\" class=\"sk-toggleable__label sk-toggleable__label-arrow\">OneVsRestClassifier</label><div class=\"sk-toggleable__content\"><pre>OneVsRestClassifier(estimator=RandomForestClassifier(max_depth=25, n_jobs=-1,\n",
              "                                                     random_state=42))</pre></div></div></div><div class=\"sk-parallel\"><div class=\"sk-parallel-item\"><div class=\"sk-item\"><div class=\"sk-label-container\"><div class=\"sk-label sk-toggleable\"><input class=\"sk-toggleable__control sk-hidden--visually\" id=\"sk-estimator-id-41\" type=\"checkbox\" ><label for=\"sk-estimator-id-41\" class=\"sk-toggleable__label sk-toggleable__label-arrow\">estimator: RandomForestClassifier</label><div class=\"sk-toggleable__content\"><pre>RandomForestClassifier(max_depth=25, n_jobs=-1, random_state=42)</pre></div></div></div><div class=\"sk-serial\"><div class=\"sk-item\"><div class=\"sk-estimator sk-toggleable\"><input class=\"sk-toggleable__control sk-hidden--visually\" id=\"sk-estimator-id-42\" type=\"checkbox\" ><label for=\"sk-estimator-id-42\" class=\"sk-toggleable__label sk-toggleable__label-arrow\">RandomForestClassifier</label><div class=\"sk-toggleable__content\"><pre>RandomForestClassifier(max_depth=25, n_jobs=-1, random_state=42)</pre></div></div></div></div></div></div></div></div></div></div>"
            ],
            "text/plain": [
              "OneVsRestClassifier(estimator=RandomForestClassifier(max_depth=25, n_jobs=-1,\n",
              "                                                     random_state=42))"
            ]
          },
          "execution_count": 123,
          "metadata": {},
          "output_type": "execute_result"
        }
      ],
      "source": [
        "clf.fit(X_train, y_train_genres)"
      ]
    },
    {
      "cell_type": "code",
      "execution_count": null,
      "metadata": {
        "id": "nFFAJLGs17ES"
      },
      "outputs": [],
      "source": [
        "y_pred_genres = clf.predict_proba(X_test)"
      ]
    },
    {
      "cell_type": "code",
      "execution_count": null,
      "metadata": {
        "colab": {
          "base_uri": "https://localhost:8080/"
        },
        "id": "mPDj4Mk-18qb",
        "outputId": "9c695149-065c-45e5-94e7-4dc7a676320d"
      },
      "outputs": [
        {
          "data": {
            "text/plain": [
              "0.8107723036823163"
            ]
          },
          "execution_count": 125,
          "metadata": {},
          "output_type": "execute_result"
        }
      ],
      "source": [
        "roc_auc_score(y_test_genres, y_pred_genres, average='macro')"
      ]
    },
    {
      "cell_type": "markdown",
      "metadata": {
        "id": "sloEkpHd2PtD"
      },
      "source": [
        "This results in adding ngrams and depth seem to make a little better score. continue increasing to get to at least 85? max_df lower, min_df increase, max_depth increase\n",
        "\n",
        "n_grams = (1,4) , min_df = 4 , max_df = 0.8 , max_depth = 15 resulted in 81% \\\n",
        "n_grams = (1,4) , min_df = 5 , max_df = 0.7 , max_depth = 20 resulted in 80% \\\n",
        "n_grams = (1,4) , min_df = 2 , max_df = 0.6 , max_depth = 20 resulted in 81% \\\n",
        "n_grams = (1,6) , min_df = 3 , max_df = 0.6 , max_depth = 25 resulted in 81% \\\n",
        "n_grams = (1,2) , min_df = 2 , max_df = 0.9 , max_depth = 25 resulted in 81% \\\n",
        "n_grams = (2,2) , min_df = 2 , max_df = 0.95 , max_depth = 25 resulted in 67% \\\n",
        "n_grams = (1,2) , min_df = 2 , max_df = 0.95 , max_depth = 25 resulted in 81% \\"
      ]
    },
    {
      "cell_type": "markdown",
      "metadata": {
        "id": "51uuiyORl8LD"
      },
      "source": [
        "# One vs Rest Logistic Regression with TD-IDF"
      ]
    },
    {
      "cell_type": "code",
      "execution_count": null,
      "metadata": {
        "id": "-BHQofKi1UBY"
      },
      "outputs": [],
      "source": [
        "from sklearn.linear_model import LogisticRegression"
      ]
    },
    {
      "cell_type": "code",
      "execution_count": null,
      "metadata": {
        "colab": {
          "base_uri": "https://localhost:8080/"
        },
        "id": "gQCpte0EsxGV",
        "outputId": "f01df161-c80f-4d15-9c7b-d4fe1eb7e36d"
      },
      "outputs": [
        {
          "data": {
            "text/plain": [
              "(7895, 51746)"
            ]
          },
          "execution_count": 12,
          "metadata": {},
          "output_type": "execute_result"
        }
      ],
      "source": [
        "vect = TfidfVectorizer(stop_words='english',ngram_range=(1, 2), min_df=2, max_df=0.95)\n",
        "X_dtm = vect.fit_transform(dataTraining['plot'])\n",
        "features = vect.vocabulary_.keys()\n",
        "X_dtm.shape"
      ]
    },
    {
      "cell_type": "code",
      "execution_count": null,
      "metadata": {
        "id": "G4guB05Ws6dc"
      },
      "outputs": [],
      "source": [
        "X_train, X_test, y_train_genres, y_test_genres = train_test_split(X_dtm, y_genres, test_size=0.33, random_state=42)"
      ]
    },
    {
      "cell_type": "code",
      "execution_count": null,
      "metadata": {
        "id": "TWhA4YDFs8Zt"
      },
      "outputs": [],
      "source": [
        "clf = OneVsRestClassifier(LogisticRegression())"
      ]
    },
    {
      "cell_type": "code",
      "execution_count": null,
      "metadata": {
        "colab": {
          "base_uri": "https://localhost:8080/",
          "height": 118
        },
        "id": "w2yHx9wmtA4O",
        "outputId": "7eda04ad-4176-45c0-de89-c8adb5041baa"
      },
      "outputs": [
        {
          "data": {
            "text/html": [
              "<style>#sk-container-id-18 {color: black;background-color: white;}#sk-container-id-18 pre{padding: 0;}#sk-container-id-18 div.sk-toggleable {background-color: white;}#sk-container-id-18 label.sk-toggleable__label {cursor: pointer;display: block;width: 100%;margin-bottom: 0;padding: 0.3em;box-sizing: border-box;text-align: center;}#sk-container-id-18 label.sk-toggleable__label-arrow:before {content: \"▸\";float: left;margin-right: 0.25em;color: #696969;}#sk-container-id-18 label.sk-toggleable__label-arrow:hover:before {color: black;}#sk-container-id-18 div.sk-estimator:hover label.sk-toggleable__label-arrow:before {color: black;}#sk-container-id-18 div.sk-toggleable__content {max-height: 0;max-width: 0;overflow: hidden;text-align: left;background-color: #f0f8ff;}#sk-container-id-18 div.sk-toggleable__content pre {margin: 0.2em;color: black;border-radius: 0.25em;background-color: #f0f8ff;}#sk-container-id-18 input.sk-toggleable__control:checked~div.sk-toggleable__content {max-height: 200px;max-width: 100%;overflow: auto;}#sk-container-id-18 input.sk-toggleable__control:checked~label.sk-toggleable__label-arrow:before {content: \"▾\";}#sk-container-id-18 div.sk-estimator input.sk-toggleable__control:checked~label.sk-toggleable__label {background-color: #d4ebff;}#sk-container-id-18 div.sk-label input.sk-toggleable__control:checked~label.sk-toggleable__label {background-color: #d4ebff;}#sk-container-id-18 input.sk-hidden--visually {border: 0;clip: rect(1px 1px 1px 1px);clip: rect(1px, 1px, 1px, 1px);height: 1px;margin: -1px;overflow: hidden;padding: 0;position: absolute;width: 1px;}#sk-container-id-18 div.sk-estimator {font-family: monospace;background-color: #f0f8ff;border: 1px dotted black;border-radius: 0.25em;box-sizing: border-box;margin-bottom: 0.5em;}#sk-container-id-18 div.sk-estimator:hover {background-color: #d4ebff;}#sk-container-id-18 div.sk-parallel-item::after {content: \"\";width: 100%;border-bottom: 1px solid gray;flex-grow: 1;}#sk-container-id-18 div.sk-label:hover label.sk-toggleable__label {background-color: #d4ebff;}#sk-container-id-18 div.sk-serial::before {content: \"\";position: absolute;border-left: 1px solid gray;box-sizing: border-box;top: 0;bottom: 0;left: 50%;z-index: 0;}#sk-container-id-18 div.sk-serial {display: flex;flex-direction: column;align-items: center;background-color: white;padding-right: 0.2em;padding-left: 0.2em;position: relative;}#sk-container-id-18 div.sk-item {position: relative;z-index: 1;}#sk-container-id-18 div.sk-parallel {display: flex;align-items: stretch;justify-content: center;background-color: white;position: relative;}#sk-container-id-18 div.sk-item::before, #sk-container-id-18 div.sk-parallel-item::before {content: \"\";position: absolute;border-left: 1px solid gray;box-sizing: border-box;top: 0;bottom: 0;left: 50%;z-index: -1;}#sk-container-id-18 div.sk-parallel-item {display: flex;flex-direction: column;z-index: 1;position: relative;background-color: white;}#sk-container-id-18 div.sk-parallel-item:first-child::after {align-self: flex-end;width: 50%;}#sk-container-id-18 div.sk-parallel-item:last-child::after {align-self: flex-start;width: 50%;}#sk-container-id-18 div.sk-parallel-item:only-child::after {width: 0;}#sk-container-id-18 div.sk-dashed-wrapped {border: 1px dashed gray;margin: 0 0.4em 0.5em 0.4em;box-sizing: border-box;padding-bottom: 0.4em;background-color: white;}#sk-container-id-18 div.sk-label label {font-family: monospace;font-weight: bold;display: inline-block;line-height: 1.2em;}#sk-container-id-18 div.sk-label-container {text-align: center;}#sk-container-id-18 div.sk-container {/* jupyter's `normalize.less` sets `[hidden] { display: none; }` but bootstrap.min.css set `[hidden] { display: none !important; }` so we also need the `!important` here to be able to override the default hidden behavior on the sphinx rendered scikit-learn.org. See: https://github.com/scikit-learn/scikit-learn/issues/21755 */display: inline-block !important;position: relative;}#sk-container-id-18 div.sk-text-repr-fallback {display: none;}</style><div id=\"sk-container-id-18\" class=\"sk-top-container\"><div class=\"sk-text-repr-fallback\"><pre>OneVsRestClassifier(estimator=LogisticRegression())</pre><b>In a Jupyter environment, please rerun this cell to show the HTML representation or trust the notebook. <br />On GitHub, the HTML representation is unable to render, please try loading this page with nbviewer.org.</b></div><div class=\"sk-container\" hidden><div class=\"sk-item sk-dashed-wrapped\"><div class=\"sk-label-container\"><div class=\"sk-label sk-toggleable\"><input class=\"sk-toggleable__control sk-hidden--visually\" id=\"sk-estimator-id-52\" type=\"checkbox\" ><label for=\"sk-estimator-id-52\" class=\"sk-toggleable__label sk-toggleable__label-arrow\">OneVsRestClassifier</label><div class=\"sk-toggleable__content\"><pre>OneVsRestClassifier(estimator=LogisticRegression())</pre></div></div></div><div class=\"sk-parallel\"><div class=\"sk-parallel-item\"><div class=\"sk-item\"><div class=\"sk-label-container\"><div class=\"sk-label sk-toggleable\"><input class=\"sk-toggleable__control sk-hidden--visually\" id=\"sk-estimator-id-53\" type=\"checkbox\" ><label for=\"sk-estimator-id-53\" class=\"sk-toggleable__label sk-toggleable__label-arrow\">estimator: LogisticRegression</label><div class=\"sk-toggleable__content\"><pre>LogisticRegression()</pre></div></div></div><div class=\"sk-serial\"><div class=\"sk-item\"><div class=\"sk-estimator sk-toggleable\"><input class=\"sk-toggleable__control sk-hidden--visually\" id=\"sk-estimator-id-54\" type=\"checkbox\" ><label for=\"sk-estimator-id-54\" class=\"sk-toggleable__label sk-toggleable__label-arrow\">LogisticRegression</label><div class=\"sk-toggleable__content\"><pre>LogisticRegression()</pre></div></div></div></div></div></div></div></div></div></div>"
            ],
            "text/plain": [
              "OneVsRestClassifier(estimator=LogisticRegression())"
            ]
          },
          "execution_count": 158,
          "metadata": {},
          "output_type": "execute_result"
        }
      ],
      "source": [
        "clf.fit(X_train, y_train_genres)"
      ]
    },
    {
      "cell_type": "code",
      "execution_count": null,
      "metadata": {
        "id": "VL2lkrlZtWNU"
      },
      "outputs": [],
      "source": [
        "y_pred_genres = clf.predict_proba(X_test)"
      ]
    },
    {
      "cell_type": "code",
      "execution_count": null,
      "metadata": {
        "colab": {
          "base_uri": "https://localhost:8080/"
        },
        "id": "-7uRGcHltXtJ",
        "outputId": "e2cf78ee-0583-40df-ea71-8de0a1b08919"
      },
      "outputs": [
        {
          "data": {
            "text/plain": [
              "0.875801684876896"
            ]
          },
          "execution_count": 160,
          "metadata": {},
          "output_type": "execute_result"
        }
      ],
      "source": [
        "roc_auc_score(y_test_genres, y_pred_genres, average='macro')"
      ]
    },
    {
      "cell_type": "markdown",
      "metadata": {
        "id": "f5cgOyg5tfyG"
      },
      "source": [
        "Logistic Regression generated a model with 87% accuracy! Changing the parameters with the Tf-idf vectorizer isn't making it much better \\\n",
        "\n",
        "Let's add k-fold cross validation to make sure we are consistent with 87%"
      ]
    },
    {
      "cell_type": "markdown",
      "metadata": {
        "id": "JiGW0mq8q1Mo"
      },
      "source": [
        "Do a grid parameter search here to optimize it"
      ]
    },
    {
      "cell_type": "code",
      "execution_count": 14,
      "metadata": {
        "colab": {
          "base_uri": "https://localhost:8080/",
          "height": 448
        },
        "id": "xoKcD_Vnq4yU",
        "outputId": "9fd0e974-a977-48ae-ac1d-65fdcfd50683"
      },
      "outputs": [
        {
          "metadata": {
            "tags": null
          },
          "name": "stdout",
          "output_type": "stream",
          "text": [
            "Fitting 5 folds for each of 1728 candidates, totalling 8640 fits\n"
          ]
        },
        {
          "metadata": {
            "tags": null
          },
          "name": "stderr",
          "output_type": "stream",
          "text": [
            "/usr/local/lib/python3.10/dist-packages/joblib/externals/loky/process_executor.py:752: UserWarning: A worker stopped while some jobs were given to the executor. This can be caused by a too short worker timeout or by a memory leak.\n",
            "  warnings.warn(\n"
          ]
        },
        {
          "output_type": "error",
          "ename": "KeyboardInterrupt",
          "evalue": "",
          "traceback": [
            "\u001b[0;31m---------------------------------------------------------------------------\u001b[0m",
            "\u001b[0;31mKeyboardInterrupt\u001b[0m                         Traceback (most recent call last)",
            "\u001b[0;32m<ipython-input-14-c19ce9a26fd3>\u001b[0m in \u001b[0;36m<cell line: 30>\u001b[0;34m()\u001b[0m\n\u001b[1;32m     28\u001b[0m \u001b[0;31m# Perform grid search\u001b[0m\u001b[0;34m\u001b[0m\u001b[0;34m\u001b[0m\u001b[0m\n\u001b[1;32m     29\u001b[0m \u001b[0mgrid_search\u001b[0m \u001b[0;34m=\u001b[0m \u001b[0mGridSearchCV\u001b[0m\u001b[0;34m(\u001b[0m\u001b[0mpipeline\u001b[0m\u001b[0;34m,\u001b[0m \u001b[0mparameters\u001b[0m\u001b[0;34m,\u001b[0m \u001b[0mcv\u001b[0m\u001b[0;34m=\u001b[0m\u001b[0;36m5\u001b[0m\u001b[0;34m,\u001b[0m \u001b[0mn_jobs\u001b[0m\u001b[0;34m=\u001b[0m\u001b[0;34m-\u001b[0m\u001b[0;36m1\u001b[0m\u001b[0;34m,\u001b[0m \u001b[0mverbose\u001b[0m\u001b[0;34m=\u001b[0m\u001b[0;36m1\u001b[0m\u001b[0;34m,\u001b[0m \u001b[0mscoring\u001b[0m\u001b[0;34m=\u001b[0m\u001b[0;34m'roc_auc'\u001b[0m\u001b[0;34m)\u001b[0m\u001b[0;34m\u001b[0m\u001b[0;34m\u001b[0m\u001b[0m\n\u001b[0;32m---> 30\u001b[0;31m \u001b[0mgrid_search\u001b[0m\u001b[0;34m.\u001b[0m\u001b[0mfit\u001b[0m\u001b[0;34m(\u001b[0m\u001b[0mX_train\u001b[0m\u001b[0;34m,\u001b[0m \u001b[0my_train_genres\u001b[0m\u001b[0;34m)\u001b[0m\u001b[0;34m\u001b[0m\u001b[0;34m\u001b[0m\u001b[0m\n\u001b[0m\u001b[1;32m     31\u001b[0m \u001b[0;34m\u001b[0m\u001b[0m\n\u001b[1;32m     32\u001b[0m \u001b[0;31m# Best parameters\u001b[0m\u001b[0;34m\u001b[0m\u001b[0;34m\u001b[0m\u001b[0m\n",
            "\u001b[0;32m/usr/local/lib/python3.10/dist-packages/sklearn/model_selection/_search.py\u001b[0m in \u001b[0;36mfit\u001b[0;34m(self, X, y, groups, **fit_params)\u001b[0m\n\u001b[1;32m    872\u001b[0m                 \u001b[0;32mreturn\u001b[0m \u001b[0mresults\u001b[0m\u001b[0;34m\u001b[0m\u001b[0;34m\u001b[0m\u001b[0m\n\u001b[1;32m    873\u001b[0m \u001b[0;34m\u001b[0m\u001b[0m\n\u001b[0;32m--> 874\u001b[0;31m             \u001b[0mself\u001b[0m\u001b[0;34m.\u001b[0m\u001b[0m_run_search\u001b[0m\u001b[0;34m(\u001b[0m\u001b[0mevaluate_candidates\u001b[0m\u001b[0;34m)\u001b[0m\u001b[0;34m\u001b[0m\u001b[0;34m\u001b[0m\u001b[0m\n\u001b[0m\u001b[1;32m    875\u001b[0m \u001b[0;34m\u001b[0m\u001b[0m\n\u001b[1;32m    876\u001b[0m             \u001b[0;31m# multimetric is determined here because in the case of a callable\u001b[0m\u001b[0;34m\u001b[0m\u001b[0;34m\u001b[0m\u001b[0m\n",
            "\u001b[0;32m/usr/local/lib/python3.10/dist-packages/sklearn/model_selection/_search.py\u001b[0m in \u001b[0;36m_run_search\u001b[0;34m(self, evaluate_candidates)\u001b[0m\n\u001b[1;32m   1386\u001b[0m     \u001b[0;32mdef\u001b[0m \u001b[0m_run_search\u001b[0m\u001b[0;34m(\u001b[0m\u001b[0mself\u001b[0m\u001b[0;34m,\u001b[0m \u001b[0mevaluate_candidates\u001b[0m\u001b[0;34m)\u001b[0m\u001b[0;34m:\u001b[0m\u001b[0;34m\u001b[0m\u001b[0;34m\u001b[0m\u001b[0m\n\u001b[1;32m   1387\u001b[0m         \u001b[0;34m\"\"\"Search all candidates in param_grid\"\"\"\u001b[0m\u001b[0;34m\u001b[0m\u001b[0;34m\u001b[0m\u001b[0m\n\u001b[0;32m-> 1388\u001b[0;31m         \u001b[0mevaluate_candidates\u001b[0m\u001b[0;34m(\u001b[0m\u001b[0mParameterGrid\u001b[0m\u001b[0;34m(\u001b[0m\u001b[0mself\u001b[0m\u001b[0;34m.\u001b[0m\u001b[0mparam_grid\u001b[0m\u001b[0;34m)\u001b[0m\u001b[0;34m)\u001b[0m\u001b[0;34m\u001b[0m\u001b[0;34m\u001b[0m\u001b[0m\n\u001b[0m\u001b[1;32m   1389\u001b[0m \u001b[0;34m\u001b[0m\u001b[0m\n\u001b[1;32m   1390\u001b[0m \u001b[0;34m\u001b[0m\u001b[0m\n",
            "\u001b[0;32m/usr/local/lib/python3.10/dist-packages/sklearn/model_selection/_search.py\u001b[0m in \u001b[0;36mevaluate_candidates\u001b[0;34m(candidate_params, cv, more_results)\u001b[0m\n\u001b[1;32m    819\u001b[0m                     )\n\u001b[1;32m    820\u001b[0m \u001b[0;34m\u001b[0m\u001b[0m\n\u001b[0;32m--> 821\u001b[0;31m                 out = parallel(\n\u001b[0m\u001b[1;32m    822\u001b[0m                     delayed(_fit_and_score)(\n\u001b[1;32m    823\u001b[0m                         \u001b[0mclone\u001b[0m\u001b[0;34m(\u001b[0m\u001b[0mbase_estimator\u001b[0m\u001b[0;34m)\u001b[0m\u001b[0;34m,\u001b[0m\u001b[0;34m\u001b[0m\u001b[0;34m\u001b[0m\u001b[0m\n",
            "\u001b[0;32m/usr/local/lib/python3.10/dist-packages/sklearn/utils/parallel.py\u001b[0m in \u001b[0;36m__call__\u001b[0;34m(self, iterable)\u001b[0m\n\u001b[1;32m     61\u001b[0m             \u001b[0;32mfor\u001b[0m \u001b[0mdelayed_func\u001b[0m\u001b[0;34m,\u001b[0m \u001b[0margs\u001b[0m\u001b[0;34m,\u001b[0m \u001b[0mkwargs\u001b[0m \u001b[0;32min\u001b[0m \u001b[0miterable\u001b[0m\u001b[0;34m\u001b[0m\u001b[0;34m\u001b[0m\u001b[0m\n\u001b[1;32m     62\u001b[0m         )\n\u001b[0;32m---> 63\u001b[0;31m         \u001b[0;32mreturn\u001b[0m \u001b[0msuper\u001b[0m\u001b[0;34m(\u001b[0m\u001b[0;34m)\u001b[0m\u001b[0;34m.\u001b[0m\u001b[0m__call__\u001b[0m\u001b[0;34m(\u001b[0m\u001b[0miterable_with_config\u001b[0m\u001b[0;34m)\u001b[0m\u001b[0;34m\u001b[0m\u001b[0;34m\u001b[0m\u001b[0m\n\u001b[0m\u001b[1;32m     64\u001b[0m \u001b[0;34m\u001b[0m\u001b[0m\n\u001b[1;32m     65\u001b[0m \u001b[0;34m\u001b[0m\u001b[0m\n",
            "\u001b[0;32m/usr/local/lib/python3.10/dist-packages/joblib/parallel.py\u001b[0m in \u001b[0;36m__call__\u001b[0;34m(self, iterable)\u001b[0m\n\u001b[1;32m   1950\u001b[0m         \u001b[0mnext\u001b[0m\u001b[0;34m(\u001b[0m\u001b[0moutput\u001b[0m\u001b[0;34m)\u001b[0m\u001b[0;34m\u001b[0m\u001b[0;34m\u001b[0m\u001b[0m\n\u001b[1;32m   1951\u001b[0m \u001b[0;34m\u001b[0m\u001b[0m\n\u001b[0;32m-> 1952\u001b[0;31m         \u001b[0;32mreturn\u001b[0m \u001b[0moutput\u001b[0m \u001b[0;32mif\u001b[0m \u001b[0mself\u001b[0m\u001b[0;34m.\u001b[0m\u001b[0mreturn_generator\u001b[0m \u001b[0;32melse\u001b[0m \u001b[0mlist\u001b[0m\u001b[0;34m(\u001b[0m\u001b[0moutput\u001b[0m\u001b[0;34m)\u001b[0m\u001b[0;34m\u001b[0m\u001b[0;34m\u001b[0m\u001b[0m\n\u001b[0m\u001b[1;32m   1953\u001b[0m \u001b[0;34m\u001b[0m\u001b[0m\n\u001b[1;32m   1954\u001b[0m     \u001b[0;32mdef\u001b[0m \u001b[0m__repr__\u001b[0m\u001b[0;34m(\u001b[0m\u001b[0mself\u001b[0m\u001b[0;34m)\u001b[0m\u001b[0;34m:\u001b[0m\u001b[0;34m\u001b[0m\u001b[0;34m\u001b[0m\u001b[0m\n",
            "\u001b[0;32m/usr/local/lib/python3.10/dist-packages/joblib/parallel.py\u001b[0m in \u001b[0;36m_get_outputs\u001b[0;34m(self, iterator, pre_dispatch)\u001b[0m\n\u001b[1;32m   1593\u001b[0m \u001b[0;34m\u001b[0m\u001b[0m\n\u001b[1;32m   1594\u001b[0m             \u001b[0;32mwith\u001b[0m \u001b[0mself\u001b[0m\u001b[0;34m.\u001b[0m\u001b[0m_backend\u001b[0m\u001b[0;34m.\u001b[0m\u001b[0mretrieval_context\u001b[0m\u001b[0;34m(\u001b[0m\u001b[0;34m)\u001b[0m\u001b[0;34m:\u001b[0m\u001b[0;34m\u001b[0m\u001b[0;34m\u001b[0m\u001b[0m\n\u001b[0;32m-> 1595\u001b[0;31m                 \u001b[0;32myield\u001b[0m \u001b[0;32mfrom\u001b[0m \u001b[0mself\u001b[0m\u001b[0;34m.\u001b[0m\u001b[0m_retrieve\u001b[0m\u001b[0;34m(\u001b[0m\u001b[0;34m)\u001b[0m\u001b[0;34m\u001b[0m\u001b[0;34m\u001b[0m\u001b[0m\n\u001b[0m\u001b[1;32m   1596\u001b[0m \u001b[0;34m\u001b[0m\u001b[0m\n\u001b[1;32m   1597\u001b[0m         \u001b[0;32mexcept\u001b[0m \u001b[0mGeneratorExit\u001b[0m\u001b[0;34m:\u001b[0m\u001b[0;34m\u001b[0m\u001b[0;34m\u001b[0m\u001b[0m\n",
            "\u001b[0;32m/usr/local/lib/python3.10/dist-packages/joblib/parallel.py\u001b[0m in \u001b[0;36m_retrieve\u001b[0;34m(self)\u001b[0m\n\u001b[1;32m   1705\u001b[0m                 (self._jobs[0].get_status(\n\u001b[1;32m   1706\u001b[0m                     timeout=self.timeout) == TASK_PENDING)):\n\u001b[0;32m-> 1707\u001b[0;31m                 \u001b[0mtime\u001b[0m\u001b[0;34m.\u001b[0m\u001b[0msleep\u001b[0m\u001b[0;34m(\u001b[0m\u001b[0;36m0.01\u001b[0m\u001b[0;34m)\u001b[0m\u001b[0;34m\u001b[0m\u001b[0;34m\u001b[0m\u001b[0m\n\u001b[0m\u001b[1;32m   1708\u001b[0m                 \u001b[0;32mcontinue\u001b[0m\u001b[0;34m\u001b[0m\u001b[0;34m\u001b[0m\u001b[0m\n\u001b[1;32m   1709\u001b[0m \u001b[0;34m\u001b[0m\u001b[0m\n",
            "\u001b[0;31mKeyboardInterrupt\u001b[0m: "
          ]
        }
      ],
      "source": [
        "from sklearn.model_selection import GridSearchCV\n",
        "from sklearn.pipeline import Pipeline\n",
        "from sklearn.feature_extraction.text import TfidfVectorizer\n",
        "from sklearn.linear_model import LogisticRegression\n",
        "from sklearn.multiclass import OneVsRestClassifier\n",
        "import numpy as np\n",
        "\n",
        "X_train, X_test, y_train_genres, y_test_genres = train_test_split(dataTraining['plot'], y_genres, test_size=0.33, random_state=42)\n",
        "\n",
        "# Define the pipeline\n",
        "pipeline = Pipeline([\n",
        "    ('vect', TfidfVectorizer(stop_words='english')),\n",
        "    ('clf', OneVsRestClassifier(LogisticRegression()))\n",
        "])\n",
        "\n",
        "# Define the parameter grid\n",
        "parameters = {\n",
        "    'vect__ngram_range': [(1, 1), (1, 2), (1, 3), (1, 4)],\n",
        "    'vect__max_features': (None, 5000, 10000, 50000),\n",
        "    'vect__norm': ['l1', 'l2'],\n",
        "    'vect__min_df': [1, 2, 3],\n",
        "    'vect__max_df': [0.9, 0.95, 1.0],\n",
        "    #'clf__estimator__C': np.logspace(-2, 2, 5),\n",
        "    'clf__estimator__C': [0.1, 1.0, 10.0],\n",
        "    'clf__estimator__penalty': ['l1', 'l2']\n",
        "}\n",
        "\n",
        "# Perform grid search\n",
        "grid_search = GridSearchCV(pipeline, parameters, cv=5, n_jobs=-1, verbose=1, scoring='roc_auc')\n",
        "grid_search.fit(X_train, y_train_genres)\n",
        "\n",
        "# Best parameters\n",
        "print(\"Best parameters found:\")\n",
        "print(grid_search.best_params_)\n",
        "\n",
        "# Best ROC AUC score\n",
        "print(\"Best ROC AUC score found:\", grid_search.best_score_)\n",
        "\n",
        "# Predict on the test set with the best model\n",
        "y_pred_genres = grid_search.predict_proba(X_test)\n",
        "roc_auc = roc_auc_score(y_test_genres, y_pred_genres, average='macro')\n",
        "print(\"ROC AUC on test set:\", roc_auc)\n"
      ]
    },
    {
      "cell_type": "markdown",
      "source": [
        "#Fitted  Parameters for Logistic Regression using TF-IDF"
      ],
      "metadata": {
        "id": "c6gGlmpyWA6o"
      }
    },
    {
      "cell_type": "code",
      "source": [
        "vect = TfidfVectorizer(stop_words='english',ngram_range=(1, 1), min_df=1, max_df=0.9, max_features=None)\n",
        "X_dtm = vect.fit_transform(dataTraining['plot'])\n",
        "features = vect.vocabulary_.keys()\n",
        "X_dtm.shape"
      ],
      "metadata": {
        "colab": {
          "base_uri": "https://localhost:8080/"
        },
        "id": "B0HzJW7GVVML",
        "outputId": "752ba6c8-54c0-451c-c236-b14d336e5ab6"
      },
      "execution_count": 22,
      "outputs": [
        {
          "output_type": "execute_result",
          "data": {
            "text/plain": [
              "(7895, 38370)"
            ]
          },
          "metadata": {},
          "execution_count": 22
        }
      ]
    },
    {
      "cell_type": "code",
      "source": [
        "X_train, X_test, y_train_genres, y_test_genres = train_test_split(X_dtm, y_genres, test_size=0.33, random_state=42)"
      ],
      "metadata": {
        "id": "8hSGfSHSWIGN"
      },
      "execution_count": 23,
      "outputs": []
    },
    {
      "cell_type": "code",
      "source": [
        "penalty = 'l2'  # or 'l1'\n",
        "C_value = 0.1  # Adjust C value as needed\n",
        "\n",
        "# Instantiate Logistic Regression with desired penalty and C value\n",
        "log_reg = LogisticRegression(penalty=penalty, C=C_value)\n"
      ],
      "metadata": {
        "id": "YAvpnRdkWvCx"
      },
      "execution_count": 28,
      "outputs": []
    },
    {
      "cell_type": "code",
      "source": [
        "clf = OneVsRestClassifier(log_reg)"
      ],
      "metadata": {
        "id": "qbC8gl37Wzuy"
      },
      "execution_count": 29,
      "outputs": []
    },
    {
      "cell_type": "code",
      "source": [
        "clf.fit(X_train, y_train_genres)"
      ],
      "metadata": {
        "colab": {
          "base_uri": "https://localhost:8080/",
          "height": 118
        },
        "id": "SgRE0pQeWSQF",
        "outputId": "14a739e5-ee3b-458f-de7a-50b688be5d9f"
      },
      "execution_count": 30,
      "outputs": [
        {
          "output_type": "execute_result",
          "data": {
            "text/plain": [
              "OneVsRestClassifier(estimator=LogisticRegression(C=0.1))"
            ],
            "text/html": [
              "<style>#sk-container-id-2 {color: black;background-color: white;}#sk-container-id-2 pre{padding: 0;}#sk-container-id-2 div.sk-toggleable {background-color: white;}#sk-container-id-2 label.sk-toggleable__label {cursor: pointer;display: block;width: 100%;margin-bottom: 0;padding: 0.3em;box-sizing: border-box;text-align: center;}#sk-container-id-2 label.sk-toggleable__label-arrow:before {content: \"▸\";float: left;margin-right: 0.25em;color: #696969;}#sk-container-id-2 label.sk-toggleable__label-arrow:hover:before {color: black;}#sk-container-id-2 div.sk-estimator:hover label.sk-toggleable__label-arrow:before {color: black;}#sk-container-id-2 div.sk-toggleable__content {max-height: 0;max-width: 0;overflow: hidden;text-align: left;background-color: #f0f8ff;}#sk-container-id-2 div.sk-toggleable__content pre {margin: 0.2em;color: black;border-radius: 0.25em;background-color: #f0f8ff;}#sk-container-id-2 input.sk-toggleable__control:checked~div.sk-toggleable__content {max-height: 200px;max-width: 100%;overflow: auto;}#sk-container-id-2 input.sk-toggleable__control:checked~label.sk-toggleable__label-arrow:before {content: \"▾\";}#sk-container-id-2 div.sk-estimator input.sk-toggleable__control:checked~label.sk-toggleable__label {background-color: #d4ebff;}#sk-container-id-2 div.sk-label input.sk-toggleable__control:checked~label.sk-toggleable__label {background-color: #d4ebff;}#sk-container-id-2 input.sk-hidden--visually {border: 0;clip: rect(1px 1px 1px 1px);clip: rect(1px, 1px, 1px, 1px);height: 1px;margin: -1px;overflow: hidden;padding: 0;position: absolute;width: 1px;}#sk-container-id-2 div.sk-estimator {font-family: monospace;background-color: #f0f8ff;border: 1px dotted black;border-radius: 0.25em;box-sizing: border-box;margin-bottom: 0.5em;}#sk-container-id-2 div.sk-estimator:hover {background-color: #d4ebff;}#sk-container-id-2 div.sk-parallel-item::after {content: \"\";width: 100%;border-bottom: 1px solid gray;flex-grow: 1;}#sk-container-id-2 div.sk-label:hover label.sk-toggleable__label {background-color: #d4ebff;}#sk-container-id-2 div.sk-serial::before {content: \"\";position: absolute;border-left: 1px solid gray;box-sizing: border-box;top: 0;bottom: 0;left: 50%;z-index: 0;}#sk-container-id-2 div.sk-serial {display: flex;flex-direction: column;align-items: center;background-color: white;padding-right: 0.2em;padding-left: 0.2em;position: relative;}#sk-container-id-2 div.sk-item {position: relative;z-index: 1;}#sk-container-id-2 div.sk-parallel {display: flex;align-items: stretch;justify-content: center;background-color: white;position: relative;}#sk-container-id-2 div.sk-item::before, #sk-container-id-2 div.sk-parallel-item::before {content: \"\";position: absolute;border-left: 1px solid gray;box-sizing: border-box;top: 0;bottom: 0;left: 50%;z-index: -1;}#sk-container-id-2 div.sk-parallel-item {display: flex;flex-direction: column;z-index: 1;position: relative;background-color: white;}#sk-container-id-2 div.sk-parallel-item:first-child::after {align-self: flex-end;width: 50%;}#sk-container-id-2 div.sk-parallel-item:last-child::after {align-self: flex-start;width: 50%;}#sk-container-id-2 div.sk-parallel-item:only-child::after {width: 0;}#sk-container-id-2 div.sk-dashed-wrapped {border: 1px dashed gray;margin: 0 0.4em 0.5em 0.4em;box-sizing: border-box;padding-bottom: 0.4em;background-color: white;}#sk-container-id-2 div.sk-label label {font-family: monospace;font-weight: bold;display: inline-block;line-height: 1.2em;}#sk-container-id-2 div.sk-label-container {text-align: center;}#sk-container-id-2 div.sk-container {/* jupyter's `normalize.less` sets `[hidden] { display: none; }` but bootstrap.min.css set `[hidden] { display: none !important; }` so we also need the `!important` here to be able to override the default hidden behavior on the sphinx rendered scikit-learn.org. See: https://github.com/scikit-learn/scikit-learn/issues/21755 */display: inline-block !important;position: relative;}#sk-container-id-2 div.sk-text-repr-fallback {display: none;}</style><div id=\"sk-container-id-2\" class=\"sk-top-container\"><div class=\"sk-text-repr-fallback\"><pre>OneVsRestClassifier(estimator=LogisticRegression(C=0.1))</pre><b>In a Jupyter environment, please rerun this cell to show the HTML representation or trust the notebook. <br />On GitHub, the HTML representation is unable to render, please try loading this page with nbviewer.org.</b></div><div class=\"sk-container\" hidden><div class=\"sk-item sk-dashed-wrapped\"><div class=\"sk-label-container\"><div class=\"sk-label sk-toggleable\"><input class=\"sk-toggleable__control sk-hidden--visually\" id=\"sk-estimator-id-4\" type=\"checkbox\" ><label for=\"sk-estimator-id-4\" class=\"sk-toggleable__label sk-toggleable__label-arrow\">OneVsRestClassifier</label><div class=\"sk-toggleable__content\"><pre>OneVsRestClassifier(estimator=LogisticRegression(C=0.1))</pre></div></div></div><div class=\"sk-parallel\"><div class=\"sk-parallel-item\"><div class=\"sk-item\"><div class=\"sk-label-container\"><div class=\"sk-label sk-toggleable\"><input class=\"sk-toggleable__control sk-hidden--visually\" id=\"sk-estimator-id-5\" type=\"checkbox\" ><label for=\"sk-estimator-id-5\" class=\"sk-toggleable__label sk-toggleable__label-arrow\">estimator: LogisticRegression</label><div class=\"sk-toggleable__content\"><pre>LogisticRegression(C=0.1)</pre></div></div></div><div class=\"sk-serial\"><div class=\"sk-item\"><div class=\"sk-estimator sk-toggleable\"><input class=\"sk-toggleable__control sk-hidden--visually\" id=\"sk-estimator-id-6\" type=\"checkbox\" ><label for=\"sk-estimator-id-6\" class=\"sk-toggleable__label sk-toggleable__label-arrow\">LogisticRegression</label><div class=\"sk-toggleable__content\"><pre>LogisticRegression(C=0.1)</pre></div></div></div></div></div></div></div></div></div></div>"
            ]
          },
          "metadata": {},
          "execution_count": 30
        }
      ]
    },
    {
      "cell_type": "code",
      "source": [
        "y_pred_genres = clf.predict_proba(X_test)"
      ],
      "metadata": {
        "id": "YtWpgGUEWS6G"
      },
      "execution_count": 31,
      "outputs": []
    },
    {
      "cell_type": "code",
      "source": [
        "roc_auc_score(y_test_genres, y_pred_genres, average='macro')"
      ],
      "metadata": {
        "colab": {
          "base_uri": "https://localhost:8080/"
        },
        "id": "yW9dhQKQWWd4",
        "outputId": "accf9b78-c517-4c65-f283-ae4918dc7cb9"
      },
      "execution_count": 32,
      "outputs": [
        {
          "output_type": "execute_result",
          "data": {
            "text/plain": [
              "0.8721695633695384"
            ]
          },
          "metadata": {},
          "execution_count": 32
        }
      ]
    },
    {
      "cell_type": "markdown",
      "source": [
        "# Kfold Cross validation"
      ],
      "metadata": {
        "id": "y5eiJv2kWXGr"
      }
    },
    {
      "cell_type": "code",
      "execution_count": null,
      "metadata": {
        "id": "EG6lrhKc58_4"
      },
      "outputs": [],
      "source": [
        "from sklearn.model_selection import KFold, cross_val_score"
      ]
    },
    {
      "cell_type": "code",
      "execution_count": null,
      "metadata": {
        "id": "vM39xbtE58up"
      },
      "outputs": [],
      "source": [
        "# Set up the cross-validation\n",
        "cv = KFold(n_splits=10, random_state=1, shuffle=True)\n",
        "\n",
        "# Get the predicted probabilities for each fold\n",
        "y_pred_proba = cross_val_predict(clf, X, y, cv=cv, method=\"predict_proba\")\n",
        "\n",
        "# Calculate the ROC AUC score for each fold and then average them\n",
        "roc_auc_scores = [roc_auc_score(y, y_pred_proba[:, i]) for i in range(y_pred_proba.shape[1])]\n",
        "average_roc_auc_score = np.mean(roc_auc_scores)\n",
        "\n",
        "# Report performance\n",
        "print('Average ROC AUC Score: %.3f' % average_roc_auc_score)"
      ]
    },
    {
      "cell_type": "markdown",
      "metadata": {
        "id": "Np_2BTXyza1a"
      },
      "source": [
        "#One vs Rest Logistic Regression with Count Vectorizer"
      ]
    },
    {
      "cell_type": "code",
      "execution_count": null,
      "metadata": {
        "colab": {
          "base_uri": "https://localhost:8080/"
        },
        "id": "ajx6FY7tzaTr",
        "outputId": "1a50e802-1864-4bac-bcb3-f7b280c09a44"
      },
      "outputs": [
        {
          "data": {
            "text/plain": [
              "(7895, 1000)"
            ]
          },
          "execution_count": 136,
          "metadata": {},
          "output_type": "execute_result"
        }
      ],
      "source": [
        "vect = CountVectorizer(max_features=1000)\n",
        "X_dtm = vect.fit_transform(dataTraining['plot'])\n",
        "X_dtm.shape"
      ]
    },
    {
      "cell_type": "code",
      "execution_count": null,
      "metadata": {
        "id": "Phrda8NBznew"
      },
      "outputs": [],
      "source": [
        "X_train, X_test, y_train_genres, y_test_genres = train_test_split(X_dtm, y_genres, test_size=0.33, random_state=42)"
      ]
    },
    {
      "cell_type": "code",
      "execution_count": null,
      "metadata": {
        "id": "BbLIhTwlz3gD"
      },
      "outputs": [],
      "source": [
        "clf = OneVsRestClassifier(LogisticRegression())"
      ]
    },
    {
      "cell_type": "code",
      "execution_count": null,
      "metadata": {
        "colab": {
          "base_uri": "https://localhost:8080/",
          "height": 1000
        },
        "id": "lDzGzn8Iz5Ip",
        "outputId": "90ce1c30-eaa6-4f0d-8bbe-cc6ebaae2460"
      },
      "outputs": [
        {
          "name": "stderr",
          "output_type": "stream",
          "text": [
            "/usr/local/lib/python3.10/dist-packages/sklearn/linear_model/_logistic.py:458: ConvergenceWarning: lbfgs failed to converge (status=1):\n",
            "STOP: TOTAL NO. of ITERATIONS REACHED LIMIT.\n",
            "\n",
            "Increase the number of iterations (max_iter) or scale the data as shown in:\n",
            "    https://scikit-learn.org/stable/modules/preprocessing.html\n",
            "Please also refer to the documentation for alternative solver options:\n",
            "    https://scikit-learn.org/stable/modules/linear_model.html#logistic-regression\n",
            "  n_iter_i = _check_optimize_result(\n",
            "/usr/local/lib/python3.10/dist-packages/sklearn/linear_model/_logistic.py:458: ConvergenceWarning: lbfgs failed to converge (status=1):\n",
            "STOP: TOTAL NO. of ITERATIONS REACHED LIMIT.\n",
            "\n",
            "Increase the number of iterations (max_iter) or scale the data as shown in:\n",
            "    https://scikit-learn.org/stable/modules/preprocessing.html\n",
            "Please also refer to the documentation for alternative solver options:\n",
            "    https://scikit-learn.org/stable/modules/linear_model.html#logistic-regression\n",
            "  n_iter_i = _check_optimize_result(\n",
            "/usr/local/lib/python3.10/dist-packages/sklearn/linear_model/_logistic.py:458: ConvergenceWarning: lbfgs failed to converge (status=1):\n",
            "STOP: TOTAL NO. of ITERATIONS REACHED LIMIT.\n",
            "\n",
            "Increase the number of iterations (max_iter) or scale the data as shown in:\n",
            "    https://scikit-learn.org/stable/modules/preprocessing.html\n",
            "Please also refer to the documentation for alternative solver options:\n",
            "    https://scikit-learn.org/stable/modules/linear_model.html#logistic-regression\n",
            "  n_iter_i = _check_optimize_result(\n",
            "/usr/local/lib/python3.10/dist-packages/sklearn/linear_model/_logistic.py:458: ConvergenceWarning: lbfgs failed to converge (status=1):\n",
            "STOP: TOTAL NO. of ITERATIONS REACHED LIMIT.\n",
            "\n",
            "Increase the number of iterations (max_iter) or scale the data as shown in:\n",
            "    https://scikit-learn.org/stable/modules/preprocessing.html\n",
            "Please also refer to the documentation for alternative solver options:\n",
            "    https://scikit-learn.org/stable/modules/linear_model.html#logistic-regression\n",
            "  n_iter_i = _check_optimize_result(\n",
            "/usr/local/lib/python3.10/dist-packages/sklearn/linear_model/_logistic.py:458: ConvergenceWarning: lbfgs failed to converge (status=1):\n",
            "STOP: TOTAL NO. of ITERATIONS REACHED LIMIT.\n",
            "\n",
            "Increase the number of iterations (max_iter) or scale the data as shown in:\n",
            "    https://scikit-learn.org/stable/modules/preprocessing.html\n",
            "Please also refer to the documentation for alternative solver options:\n",
            "    https://scikit-learn.org/stable/modules/linear_model.html#logistic-regression\n",
            "  n_iter_i = _check_optimize_result(\n",
            "/usr/local/lib/python3.10/dist-packages/sklearn/linear_model/_logistic.py:458: ConvergenceWarning: lbfgs failed to converge (status=1):\n",
            "STOP: TOTAL NO. of ITERATIONS REACHED LIMIT.\n",
            "\n",
            "Increase the number of iterations (max_iter) or scale the data as shown in:\n",
            "    https://scikit-learn.org/stable/modules/preprocessing.html\n",
            "Please also refer to the documentation for alternative solver options:\n",
            "    https://scikit-learn.org/stable/modules/linear_model.html#logistic-regression\n",
            "  n_iter_i = _check_optimize_result(\n",
            "/usr/local/lib/python3.10/dist-packages/sklearn/linear_model/_logistic.py:458: ConvergenceWarning: lbfgs failed to converge (status=1):\n",
            "STOP: TOTAL NO. of ITERATIONS REACHED LIMIT.\n",
            "\n",
            "Increase the number of iterations (max_iter) or scale the data as shown in:\n",
            "    https://scikit-learn.org/stable/modules/preprocessing.html\n",
            "Please also refer to the documentation for alternative solver options:\n",
            "    https://scikit-learn.org/stable/modules/linear_model.html#logistic-regression\n",
            "  n_iter_i = _check_optimize_result(\n",
            "/usr/local/lib/python3.10/dist-packages/sklearn/linear_model/_logistic.py:458: ConvergenceWarning: lbfgs failed to converge (status=1):\n",
            "STOP: TOTAL NO. of ITERATIONS REACHED LIMIT.\n",
            "\n",
            "Increase the number of iterations (max_iter) or scale the data as shown in:\n",
            "    https://scikit-learn.org/stable/modules/preprocessing.html\n",
            "Please also refer to the documentation for alternative solver options:\n",
            "    https://scikit-learn.org/stable/modules/linear_model.html#logistic-regression\n",
            "  n_iter_i = _check_optimize_result(\n",
            "/usr/local/lib/python3.10/dist-packages/sklearn/linear_model/_logistic.py:458: ConvergenceWarning: lbfgs failed to converge (status=1):\n",
            "STOP: TOTAL NO. of ITERATIONS REACHED LIMIT.\n",
            "\n",
            "Increase the number of iterations (max_iter) or scale the data as shown in:\n",
            "    https://scikit-learn.org/stable/modules/preprocessing.html\n",
            "Please also refer to the documentation for alternative solver options:\n",
            "    https://scikit-learn.org/stable/modules/linear_model.html#logistic-regression\n",
            "  n_iter_i = _check_optimize_result(\n",
            "/usr/local/lib/python3.10/dist-packages/sklearn/linear_model/_logistic.py:458: ConvergenceWarning: lbfgs failed to converge (status=1):\n",
            "STOP: TOTAL NO. of ITERATIONS REACHED LIMIT.\n",
            "\n",
            "Increase the number of iterations (max_iter) or scale the data as shown in:\n",
            "    https://scikit-learn.org/stable/modules/preprocessing.html\n",
            "Please also refer to the documentation for alternative solver options:\n",
            "    https://scikit-learn.org/stable/modules/linear_model.html#logistic-regression\n",
            "  n_iter_i = _check_optimize_result(\n",
            "/usr/local/lib/python3.10/dist-packages/sklearn/linear_model/_logistic.py:458: ConvergenceWarning: lbfgs failed to converge (status=1):\n",
            "STOP: TOTAL NO. of ITERATIONS REACHED LIMIT.\n",
            "\n",
            "Increase the number of iterations (max_iter) or scale the data as shown in:\n",
            "    https://scikit-learn.org/stable/modules/preprocessing.html\n",
            "Please also refer to the documentation for alternative solver options:\n",
            "    https://scikit-learn.org/stable/modules/linear_model.html#logistic-regression\n",
            "  n_iter_i = _check_optimize_result(\n",
            "/usr/local/lib/python3.10/dist-packages/sklearn/linear_model/_logistic.py:458: ConvergenceWarning: lbfgs failed to converge (status=1):\n",
            "STOP: TOTAL NO. of ITERATIONS REACHED LIMIT.\n",
            "\n",
            "Increase the number of iterations (max_iter) or scale the data as shown in:\n",
            "    https://scikit-learn.org/stable/modules/preprocessing.html\n",
            "Please also refer to the documentation for alternative solver options:\n",
            "    https://scikit-learn.org/stable/modules/linear_model.html#logistic-regression\n",
            "  n_iter_i = _check_optimize_result(\n",
            "/usr/local/lib/python3.10/dist-packages/sklearn/linear_model/_logistic.py:458: ConvergenceWarning: lbfgs failed to converge (status=1):\n",
            "STOP: TOTAL NO. of ITERATIONS REACHED LIMIT.\n",
            "\n",
            "Increase the number of iterations (max_iter) or scale the data as shown in:\n",
            "    https://scikit-learn.org/stable/modules/preprocessing.html\n",
            "Please also refer to the documentation for alternative solver options:\n",
            "    https://scikit-learn.org/stable/modules/linear_model.html#logistic-regression\n",
            "  n_iter_i = _check_optimize_result(\n",
            "/usr/local/lib/python3.10/dist-packages/sklearn/linear_model/_logistic.py:458: ConvergenceWarning: lbfgs failed to converge (status=1):\n",
            "STOP: TOTAL NO. of ITERATIONS REACHED LIMIT.\n",
            "\n",
            "Increase the number of iterations (max_iter) or scale the data as shown in:\n",
            "    https://scikit-learn.org/stable/modules/preprocessing.html\n",
            "Please also refer to the documentation for alternative solver options:\n",
            "    https://scikit-learn.org/stable/modules/linear_model.html#logistic-regression\n",
            "  n_iter_i = _check_optimize_result(\n",
            "/usr/local/lib/python3.10/dist-packages/sklearn/linear_model/_logistic.py:458: ConvergenceWarning: lbfgs failed to converge (status=1):\n",
            "STOP: TOTAL NO. of ITERATIONS REACHED LIMIT.\n",
            "\n",
            "Increase the number of iterations (max_iter) or scale the data as shown in:\n",
            "    https://scikit-learn.org/stable/modules/preprocessing.html\n",
            "Please also refer to the documentation for alternative solver options:\n",
            "    https://scikit-learn.org/stable/modules/linear_model.html#logistic-regression\n",
            "  n_iter_i = _check_optimize_result(\n",
            "/usr/local/lib/python3.10/dist-packages/sklearn/linear_model/_logistic.py:458: ConvergenceWarning: lbfgs failed to converge (status=1):\n",
            "STOP: TOTAL NO. of ITERATIONS REACHED LIMIT.\n",
            "\n",
            "Increase the number of iterations (max_iter) or scale the data as shown in:\n",
            "    https://scikit-learn.org/stable/modules/preprocessing.html\n",
            "Please also refer to the documentation for alternative solver options:\n",
            "    https://scikit-learn.org/stable/modules/linear_model.html#logistic-regression\n",
            "  n_iter_i = _check_optimize_result(\n",
            "/usr/local/lib/python3.10/dist-packages/sklearn/linear_model/_logistic.py:458: ConvergenceWarning: lbfgs failed to converge (status=1):\n",
            "STOP: TOTAL NO. of ITERATIONS REACHED LIMIT.\n",
            "\n",
            "Increase the number of iterations (max_iter) or scale the data as shown in:\n",
            "    https://scikit-learn.org/stable/modules/preprocessing.html\n",
            "Please also refer to the documentation for alternative solver options:\n",
            "    https://scikit-learn.org/stable/modules/linear_model.html#logistic-regression\n",
            "  n_iter_i = _check_optimize_result(\n",
            "/usr/local/lib/python3.10/dist-packages/sklearn/linear_model/_logistic.py:458: ConvergenceWarning: lbfgs failed to converge (status=1):\n",
            "STOP: TOTAL NO. of ITERATIONS REACHED LIMIT.\n",
            "\n",
            "Increase the number of iterations (max_iter) or scale the data as shown in:\n",
            "    https://scikit-learn.org/stable/modules/preprocessing.html\n",
            "Please also refer to the documentation for alternative solver options:\n",
            "    https://scikit-learn.org/stable/modules/linear_model.html#logistic-regression\n",
            "  n_iter_i = _check_optimize_result(\n",
            "/usr/local/lib/python3.10/dist-packages/sklearn/linear_model/_logistic.py:458: ConvergenceWarning: lbfgs failed to converge (status=1):\n",
            "STOP: TOTAL NO. of ITERATIONS REACHED LIMIT.\n",
            "\n",
            "Increase the number of iterations (max_iter) or scale the data as shown in:\n",
            "    https://scikit-learn.org/stable/modules/preprocessing.html\n",
            "Please also refer to the documentation for alternative solver options:\n",
            "    https://scikit-learn.org/stable/modules/linear_model.html#logistic-regression\n",
            "  n_iter_i = _check_optimize_result(\n",
            "/usr/local/lib/python3.10/dist-packages/sklearn/linear_model/_logistic.py:458: ConvergenceWarning: lbfgs failed to converge (status=1):\n",
            "STOP: TOTAL NO. of ITERATIONS REACHED LIMIT.\n",
            "\n",
            "Increase the number of iterations (max_iter) or scale the data as shown in:\n",
            "    https://scikit-learn.org/stable/modules/preprocessing.html\n",
            "Please also refer to the documentation for alternative solver options:\n",
            "    https://scikit-learn.org/stable/modules/linear_model.html#logistic-regression\n",
            "  n_iter_i = _check_optimize_result(\n",
            "/usr/local/lib/python3.10/dist-packages/sklearn/linear_model/_logistic.py:458: ConvergenceWarning: lbfgs failed to converge (status=1):\n",
            "STOP: TOTAL NO. of ITERATIONS REACHED LIMIT.\n",
            "\n",
            "Increase the number of iterations (max_iter) or scale the data as shown in:\n",
            "    https://scikit-learn.org/stable/modules/preprocessing.html\n",
            "Please also refer to the documentation for alternative solver options:\n",
            "    https://scikit-learn.org/stable/modules/linear_model.html#logistic-regression\n",
            "  n_iter_i = _check_optimize_result(\n",
            "/usr/local/lib/python3.10/dist-packages/sklearn/linear_model/_logistic.py:458: ConvergenceWarning: lbfgs failed to converge (status=1):\n",
            "STOP: TOTAL NO. of ITERATIONS REACHED LIMIT.\n",
            "\n",
            "Increase the number of iterations (max_iter) or scale the data as shown in:\n",
            "    https://scikit-learn.org/stable/modules/preprocessing.html\n",
            "Please also refer to the documentation for alternative solver options:\n",
            "    https://scikit-learn.org/stable/modules/linear_model.html#logistic-regression\n",
            "  n_iter_i = _check_optimize_result(\n",
            "/usr/local/lib/python3.10/dist-packages/sklearn/linear_model/_logistic.py:458: ConvergenceWarning: lbfgs failed to converge (status=1):\n",
            "STOP: TOTAL NO. of ITERATIONS REACHED LIMIT.\n",
            "\n",
            "Increase the number of iterations (max_iter) or scale the data as shown in:\n",
            "    https://scikit-learn.org/stable/modules/preprocessing.html\n",
            "Please also refer to the documentation for alternative solver options:\n",
            "    https://scikit-learn.org/stable/modules/linear_model.html#logistic-regression\n",
            "  n_iter_i = _check_optimize_result(\n"
          ]
        },
        {
          "data": {
            "text/html": [
              "<style>#sk-container-id-15 {color: black;background-color: white;}#sk-container-id-15 pre{padding: 0;}#sk-container-id-15 div.sk-toggleable {background-color: white;}#sk-container-id-15 label.sk-toggleable__label {cursor: pointer;display: block;width: 100%;margin-bottom: 0;padding: 0.3em;box-sizing: border-box;text-align: center;}#sk-container-id-15 label.sk-toggleable__label-arrow:before {content: \"▸\";float: left;margin-right: 0.25em;color: #696969;}#sk-container-id-15 label.sk-toggleable__label-arrow:hover:before {color: black;}#sk-container-id-15 div.sk-estimator:hover label.sk-toggleable__label-arrow:before {color: black;}#sk-container-id-15 div.sk-toggleable__content {max-height: 0;max-width: 0;overflow: hidden;text-align: left;background-color: #f0f8ff;}#sk-container-id-15 div.sk-toggleable__content pre {margin: 0.2em;color: black;border-radius: 0.25em;background-color: #f0f8ff;}#sk-container-id-15 input.sk-toggleable__control:checked~div.sk-toggleable__content {max-height: 200px;max-width: 100%;overflow: auto;}#sk-container-id-15 input.sk-toggleable__control:checked~label.sk-toggleable__label-arrow:before {content: \"▾\";}#sk-container-id-15 div.sk-estimator input.sk-toggleable__control:checked~label.sk-toggleable__label {background-color: #d4ebff;}#sk-container-id-15 div.sk-label input.sk-toggleable__control:checked~label.sk-toggleable__label {background-color: #d4ebff;}#sk-container-id-15 input.sk-hidden--visually {border: 0;clip: rect(1px 1px 1px 1px);clip: rect(1px, 1px, 1px, 1px);height: 1px;margin: -1px;overflow: hidden;padding: 0;position: absolute;width: 1px;}#sk-container-id-15 div.sk-estimator {font-family: monospace;background-color: #f0f8ff;border: 1px dotted black;border-radius: 0.25em;box-sizing: border-box;margin-bottom: 0.5em;}#sk-container-id-15 div.sk-estimator:hover {background-color: #d4ebff;}#sk-container-id-15 div.sk-parallel-item::after {content: \"\";width: 100%;border-bottom: 1px solid gray;flex-grow: 1;}#sk-container-id-15 div.sk-label:hover label.sk-toggleable__label {background-color: #d4ebff;}#sk-container-id-15 div.sk-serial::before {content: \"\";position: absolute;border-left: 1px solid gray;box-sizing: border-box;top: 0;bottom: 0;left: 50%;z-index: 0;}#sk-container-id-15 div.sk-serial {display: flex;flex-direction: column;align-items: center;background-color: white;padding-right: 0.2em;padding-left: 0.2em;position: relative;}#sk-container-id-15 div.sk-item {position: relative;z-index: 1;}#sk-container-id-15 div.sk-parallel {display: flex;align-items: stretch;justify-content: center;background-color: white;position: relative;}#sk-container-id-15 div.sk-item::before, #sk-container-id-15 div.sk-parallel-item::before {content: \"\";position: absolute;border-left: 1px solid gray;box-sizing: border-box;top: 0;bottom: 0;left: 50%;z-index: -1;}#sk-container-id-15 div.sk-parallel-item {display: flex;flex-direction: column;z-index: 1;position: relative;background-color: white;}#sk-container-id-15 div.sk-parallel-item:first-child::after {align-self: flex-end;width: 50%;}#sk-container-id-15 div.sk-parallel-item:last-child::after {align-self: flex-start;width: 50%;}#sk-container-id-15 div.sk-parallel-item:only-child::after {width: 0;}#sk-container-id-15 div.sk-dashed-wrapped {border: 1px dashed gray;margin: 0 0.4em 0.5em 0.4em;box-sizing: border-box;padding-bottom: 0.4em;background-color: white;}#sk-container-id-15 div.sk-label label {font-family: monospace;font-weight: bold;display: inline-block;line-height: 1.2em;}#sk-container-id-15 div.sk-label-container {text-align: center;}#sk-container-id-15 div.sk-container {/* jupyter's `normalize.less` sets `[hidden] { display: none; }` but bootstrap.min.css set `[hidden] { display: none !important; }` so we also need the `!important` here to be able to override the default hidden behavior on the sphinx rendered scikit-learn.org. See: https://github.com/scikit-learn/scikit-learn/issues/21755 */display: inline-block !important;position: relative;}#sk-container-id-15 div.sk-text-repr-fallback {display: none;}</style><div id=\"sk-container-id-15\" class=\"sk-top-container\"><div class=\"sk-text-repr-fallback\"><pre>OneVsRestClassifier(estimator=LogisticRegression())</pre><b>In a Jupyter environment, please rerun this cell to show the HTML representation or trust the notebook. <br />On GitHub, the HTML representation is unable to render, please try loading this page with nbviewer.org.</b></div><div class=\"sk-container\" hidden><div class=\"sk-item sk-dashed-wrapped\"><div class=\"sk-label-container\"><div class=\"sk-label sk-toggleable\"><input class=\"sk-toggleable__control sk-hidden--visually\" id=\"sk-estimator-id-43\" type=\"checkbox\" ><label for=\"sk-estimator-id-43\" class=\"sk-toggleable__label sk-toggleable__label-arrow\">OneVsRestClassifier</label><div class=\"sk-toggleable__content\"><pre>OneVsRestClassifier(estimator=LogisticRegression())</pre></div></div></div><div class=\"sk-parallel\"><div class=\"sk-parallel-item\"><div class=\"sk-item\"><div class=\"sk-label-container\"><div class=\"sk-label sk-toggleable\"><input class=\"sk-toggleable__control sk-hidden--visually\" id=\"sk-estimator-id-44\" type=\"checkbox\" ><label for=\"sk-estimator-id-44\" class=\"sk-toggleable__label sk-toggleable__label-arrow\">estimator: LogisticRegression</label><div class=\"sk-toggleable__content\"><pre>LogisticRegression()</pre></div></div></div><div class=\"sk-serial\"><div class=\"sk-item\"><div class=\"sk-estimator sk-toggleable\"><input class=\"sk-toggleable__control sk-hidden--visually\" id=\"sk-estimator-id-45\" type=\"checkbox\" ><label for=\"sk-estimator-id-45\" class=\"sk-toggleable__label sk-toggleable__label-arrow\">LogisticRegression</label><div class=\"sk-toggleable__content\"><pre>LogisticRegression()</pre></div></div></div></div></div></div></div></div></div></div>"
            ],
            "text/plain": [
              "OneVsRestClassifier(estimator=LogisticRegression())"
            ]
          },
          "execution_count": 139,
          "metadata": {},
          "output_type": "execute_result"
        }
      ],
      "source": [
        "clf.fit(X_train, y_train_genres)"
      ]
    },
    {
      "cell_type": "code",
      "execution_count": null,
      "metadata": {
        "id": "E5LH3nndz7WL"
      },
      "outputs": [],
      "source": [
        "y_pred_genres = clf.predict_proba(X_test)"
      ]
    },
    {
      "cell_type": "code",
      "execution_count": null,
      "metadata": {
        "colab": {
          "base_uri": "https://localhost:8080/"
        },
        "id": "dAkfvrZez8zJ",
        "outputId": "091e3c52-b84b-4aed-f061-ae8b4dc246a5"
      },
      "outputs": [
        {
          "data": {
            "text/plain": [
              "0.794274780270904"
            ]
          },
          "execution_count": 141,
          "metadata": {},
          "output_type": "execute_result"
        }
      ],
      "source": [
        "roc_auc_score(y_test_genres, y_pred_genres, average='macro')"
      ]
    },
    {
      "cell_type": "markdown",
      "metadata": {
        "id": "LxeW7aAI4Y2o"
      },
      "source": [
        "CountVectorizer did not behave as well -> 79%"
      ]
    },
    {
      "cell_type": "markdown",
      "metadata": {
        "id": "yPuqpRCyFAxD"
      },
      "source": [
        "#One Vs Rest Logistic Regression with Glove embeddings"
      ]
    },
    {
      "cell_type": "code",
      "execution_count": null,
      "metadata": {
        "colab": {
          "base_uri": "https://localhost:8080/"
        },
        "id": "BbGrz233F-WT",
        "outputId": "a576d23d-1607-4510-9cf3-05613a105711"
      },
      "outputs": [
        {
          "name": "stdout",
          "output_type": "stream",
          "text": [
            "Collecting zeugma\n",
            "  Downloading zeugma-0.49.tar.gz (9.9 kB)\n",
            "  Preparing metadata (setup.py) ... \u001b[?25l\u001b[?25hdone\n",
            "Requirement already satisfied: numpy>=1.13.3 in /usr/local/lib/python3.10/dist-packages (from zeugma) (1.25.2)\n",
            "Requirement already satisfied: Cython>=0.27.3 in /usr/local/lib/python3.10/dist-packages (from zeugma) (3.0.9)\n",
            "Requirement already satisfied: pandas>=0.20.3 in /usr/local/lib/python3.10/dist-packages (from zeugma) (1.5.3)\n",
            "Requirement already satisfied: gensim>=3.5.0 in /usr/local/lib/python3.10/dist-packages (from zeugma) (4.3.2)\n",
            "Requirement already satisfied: scikit_learn>=0.19.1 in /usr/local/lib/python3.10/dist-packages (from zeugma) (1.2.2)\n",
            "Requirement already satisfied: tensorflow>=1.5.0 in /usr/local/lib/python3.10/dist-packages (from zeugma) (2.15.0)\n",
            "Requirement already satisfied: keras>=2.1.3 in /usr/local/lib/python3.10/dist-packages (from zeugma) (2.15.0)\n",
            "Requirement already satisfied: scipy>=1.7.0 in /usr/local/lib/python3.10/dist-packages (from gensim>=3.5.0->zeugma) (1.11.4)\n",
            "Requirement already satisfied: smart-open>=1.8.1 in /usr/local/lib/python3.10/dist-packages (from gensim>=3.5.0->zeugma) (6.4.0)\n",
            "Requirement already satisfied: python-dateutil>=2.8.1 in /usr/local/lib/python3.10/dist-packages (from pandas>=0.20.3->zeugma) (2.8.2)\n",
            "Requirement already satisfied: pytz>=2020.1 in /usr/local/lib/python3.10/dist-packages (from pandas>=0.20.3->zeugma) (2023.4)\n",
            "Requirement already satisfied: joblib>=1.1.1 in /usr/local/lib/python3.10/dist-packages (from scikit_learn>=0.19.1->zeugma) (1.3.2)\n",
            "Requirement already satisfied: threadpoolctl>=2.0.0 in /usr/local/lib/python3.10/dist-packages (from scikit_learn>=0.19.1->zeugma) (3.3.0)\n",
            "Requirement already satisfied: absl-py>=1.0.0 in /usr/local/lib/python3.10/dist-packages (from tensorflow>=1.5.0->zeugma) (1.4.0)\n",
            "Requirement already satisfied: astunparse>=1.6.0 in /usr/local/lib/python3.10/dist-packages (from tensorflow>=1.5.0->zeugma) (1.6.3)\n",
            "Requirement already satisfied: flatbuffers>=23.5.26 in /usr/local/lib/python3.10/dist-packages (from tensorflow>=1.5.0->zeugma) (24.3.7)\n",
            "Requirement already satisfied: gast!=0.5.0,!=0.5.1,!=0.5.2,>=0.2.1 in /usr/local/lib/python3.10/dist-packages (from tensorflow>=1.5.0->zeugma) (0.5.4)\n",
            "Requirement already satisfied: google-pasta>=0.1.1 in /usr/local/lib/python3.10/dist-packages (from tensorflow>=1.5.0->zeugma) (0.2.0)\n",
            "Requirement already satisfied: h5py>=2.9.0 in /usr/local/lib/python3.10/dist-packages (from tensorflow>=1.5.0->zeugma) (3.9.0)\n",
            "Requirement already satisfied: libclang>=13.0.0 in /usr/local/lib/python3.10/dist-packages (from tensorflow>=1.5.0->zeugma) (16.0.6)\n",
            "Requirement already satisfied: ml-dtypes~=0.2.0 in /usr/local/lib/python3.10/dist-packages (from tensorflow>=1.5.0->zeugma) (0.2.0)\n",
            "Requirement already satisfied: opt-einsum>=2.3.2 in /usr/local/lib/python3.10/dist-packages (from tensorflow>=1.5.0->zeugma) (3.3.0)\n",
            "Requirement already satisfied: packaging in /usr/local/lib/python3.10/dist-packages (from tensorflow>=1.5.0->zeugma) (24.0)\n",
            "Requirement already satisfied: protobuf!=4.21.0,!=4.21.1,!=4.21.2,!=4.21.3,!=4.21.4,!=4.21.5,<5.0.0dev,>=3.20.3 in /usr/local/lib/python3.10/dist-packages (from tensorflow>=1.5.0->zeugma) (3.20.3)\n",
            "Requirement already satisfied: setuptools in /usr/local/lib/python3.10/dist-packages (from tensorflow>=1.5.0->zeugma) (67.7.2)\n",
            "Requirement already satisfied: six>=1.12.0 in /usr/local/lib/python3.10/dist-packages (from tensorflow>=1.5.0->zeugma) (1.16.0)\n",
            "Requirement already satisfied: termcolor>=1.1.0 in /usr/local/lib/python3.10/dist-packages (from tensorflow>=1.5.0->zeugma) (2.4.0)\n",
            "Requirement already satisfied: typing-extensions>=3.6.6 in /usr/local/lib/python3.10/dist-packages (from tensorflow>=1.5.0->zeugma) (4.10.0)\n",
            "Requirement already satisfied: wrapt<1.15,>=1.11.0 in /usr/local/lib/python3.10/dist-packages (from tensorflow>=1.5.0->zeugma) (1.14.1)\n",
            "Requirement already satisfied: tensorflow-io-gcs-filesystem>=0.23.1 in /usr/local/lib/python3.10/dist-packages (from tensorflow>=1.5.0->zeugma) (0.36.0)\n",
            "Requirement already satisfied: grpcio<2.0,>=1.24.3 in /usr/local/lib/python3.10/dist-packages (from tensorflow>=1.5.0->zeugma) (1.62.1)\n",
            "Requirement already satisfied: tensorboard<2.16,>=2.15 in /usr/local/lib/python3.10/dist-packages (from tensorflow>=1.5.0->zeugma) (2.15.2)\n",
            "Requirement already satisfied: tensorflow-estimator<2.16,>=2.15.0 in /usr/local/lib/python3.10/dist-packages (from tensorflow>=1.5.0->zeugma) (2.15.0)\n",
            "Requirement already satisfied: wheel<1.0,>=0.23.0 in /usr/local/lib/python3.10/dist-packages (from astunparse>=1.6.0->tensorflow>=1.5.0->zeugma) (0.43.0)\n",
            "Requirement already satisfied: google-auth<3,>=1.6.3 in /usr/local/lib/python3.10/dist-packages (from tensorboard<2.16,>=2.15->tensorflow>=1.5.0->zeugma) (2.27.0)\n",
            "Requirement already satisfied: google-auth-oauthlib<2,>=0.5 in /usr/local/lib/python3.10/dist-packages (from tensorboard<2.16,>=2.15->tensorflow>=1.5.0->zeugma) (1.2.0)\n",
            "Requirement already satisfied: markdown>=2.6.8 in /usr/local/lib/python3.10/dist-packages (from tensorboard<2.16,>=2.15->tensorflow>=1.5.0->zeugma) (3.5.2)\n",
            "Requirement already satisfied: requests<3,>=2.21.0 in /usr/local/lib/python3.10/dist-packages (from tensorboard<2.16,>=2.15->tensorflow>=1.5.0->zeugma) (2.31.0)\n",
            "Requirement already satisfied: tensorboard-data-server<0.8.0,>=0.7.0 in /usr/local/lib/python3.10/dist-packages (from tensorboard<2.16,>=2.15->tensorflow>=1.5.0->zeugma) (0.7.2)\n",
            "Requirement already satisfied: werkzeug>=1.0.1 in /usr/local/lib/python3.10/dist-packages (from tensorboard<2.16,>=2.15->tensorflow>=1.5.0->zeugma) (3.0.1)\n",
            "Requirement already satisfied: cachetools<6.0,>=2.0.0 in /usr/local/lib/python3.10/dist-packages (from google-auth<3,>=1.6.3->tensorboard<2.16,>=2.15->tensorflow>=1.5.0->zeugma) (5.3.3)\n",
            "Requirement already satisfied: pyasn1-modules>=0.2.1 in /usr/local/lib/python3.10/dist-packages (from google-auth<3,>=1.6.3->tensorboard<2.16,>=2.15->tensorflow>=1.5.0->zeugma) (0.3.0)\n",
            "Requirement already satisfied: rsa<5,>=3.1.4 in /usr/local/lib/python3.10/dist-packages (from google-auth<3,>=1.6.3->tensorboard<2.16,>=2.15->tensorflow>=1.5.0->zeugma) (4.9)\n",
            "Requirement already satisfied: requests-oauthlib>=0.7.0 in /usr/local/lib/python3.10/dist-packages (from google-auth-oauthlib<2,>=0.5->tensorboard<2.16,>=2.15->tensorflow>=1.5.0->zeugma) (1.4.0)\n",
            "Requirement already satisfied: charset-normalizer<4,>=2 in /usr/local/lib/python3.10/dist-packages (from requests<3,>=2.21.0->tensorboard<2.16,>=2.15->tensorflow>=1.5.0->zeugma) (3.3.2)\n",
            "Requirement already satisfied: idna<4,>=2.5 in /usr/local/lib/python3.10/dist-packages (from requests<3,>=2.21.0->tensorboard<2.16,>=2.15->tensorflow>=1.5.0->zeugma) (3.6)\n",
            "Requirement already satisfied: urllib3<3,>=1.21.1 in /usr/local/lib/python3.10/dist-packages (from requests<3,>=2.21.0->tensorboard<2.16,>=2.15->tensorflow>=1.5.0->zeugma) (2.0.7)\n",
            "Requirement already satisfied: certifi>=2017.4.17 in /usr/local/lib/python3.10/dist-packages (from requests<3,>=2.21.0->tensorboard<2.16,>=2.15->tensorflow>=1.5.0->zeugma) (2024.2.2)\n",
            "Requirement already satisfied: MarkupSafe>=2.1.1 in /usr/local/lib/python3.10/dist-packages (from werkzeug>=1.0.1->tensorboard<2.16,>=2.15->tensorflow>=1.5.0->zeugma) (2.1.5)\n",
            "Requirement already satisfied: pyasn1<0.6.0,>=0.4.6 in /usr/local/lib/python3.10/dist-packages (from pyasn1-modules>=0.2.1->google-auth<3,>=1.6.3->tensorboard<2.16,>=2.15->tensorflow>=1.5.0->zeugma) (0.5.1)\n",
            "Requirement already satisfied: oauthlib>=3.0.0 in /usr/local/lib/python3.10/dist-packages (from requests-oauthlib>=0.7.0->google-auth-oauthlib<2,>=0.5->tensorboard<2.16,>=2.15->tensorflow>=1.5.0->zeugma) (3.2.2)\n",
            "Building wheels for collected packages: zeugma\n",
            "  Building wheel for zeugma (setup.py) ... \u001b[?25l\u001b[?25hdone\n",
            "  Created wheel for zeugma: filename=zeugma-0.49-py3-none-any.whl size=8790 sha256=9e3bebd5261f402f13c7475ff6fa924543be469a2f1fb8f78b5933313f9e7d94\n",
            "  Stored in directory: /root/.cache/pip/wheels/33/55/16/3d9155ec34c3a4b3c5488ea8905fd994a6cafd68b8e3e26489\n",
            "Successfully built zeugma\n",
            "Installing collected packages: zeugma\n",
            "Successfully installed zeugma-0.49\n"
          ]
        }
      ],
      "source": [
        "!pip install zeugma"
      ]
    },
    {
      "cell_type": "code",
      "execution_count": null,
      "metadata": {
        "id": "PInN9KUrFWHQ"
      },
      "outputs": [],
      "source": [
        "from zeugma.embeddings import EmbeddingTransformer"
      ]
    },
    {
      "cell_type": "code",
      "execution_count": null,
      "metadata": {
        "colab": {
          "base_uri": "https://localhost:8080/"
        },
        "id": "UtC02GYwFQG2",
        "outputId": "2d00146a-6bc4-4c3e-84d2-b578e456bd2c"
      },
      "outputs": [
        {
          "name": "stdout",
          "output_type": "stream",
          "text": [
            "[==================================================] 100.0% 104.8/104.8MB downloaded\n"
          ]
        }
      ],
      "source": [
        "#setup glove embeddings\n",
        "glove_model = EmbeddingTransformer('glove')"
      ]
    },
    {
      "cell_type": "code",
      "execution_count": null,
      "metadata": {
        "id": "wLOmK1LeFcDH"
      },
      "outputs": [],
      "source": [
        "# Example function to aggregate document embeddings (e.g., averaging)\n",
        "def aggregate_embeddings(doc_words, embeddings_model):\n",
        "    doc_embeddings = embeddings_model.transform([' '.join(doc_words)])[0]\n",
        "    # Calculate the mean embedding\n",
        "    return np.mean(doc_embeddings, axis=0)\n",
        "\n",
        "# Example document embeddings\n",
        "doc_embeddings = [aggregate_embeddings(doc.split(), glove_model) for doc in dataTraining['plot']]\n"
      ]
    },
    {
      "cell_type": "code",
      "execution_count": null,
      "metadata": {
        "id": "Vr2Y_PTzFNG8"
      },
      "outputs": [],
      "source": [
        "X_train, X_test, y_train_genres, y_test_genres = train_test_split(np.vstack(doc_embeddings), y_genres, test_size=0.33, random_state=42)"
      ]
    },
    {
      "cell_type": "code",
      "execution_count": null,
      "metadata": {
        "id": "-su4x64tGfvI"
      },
      "outputs": [],
      "source": [
        "clf = OneVsRestClassifier(LogisticRegression())"
      ]
    },
    {
      "cell_type": "code",
      "execution_count": null,
      "metadata": {
        "colab": {
          "base_uri": "https://localhost:8080/",
          "height": 118
        },
        "id": "OUCyBTNNGjIk",
        "outputId": "233d603c-62ef-4d09-cace-ca74bb036e2d"
      },
      "outputs": [
        {
          "data": {
            "text/html": [
              "<style>#sk-container-id-22 {color: black;background-color: white;}#sk-container-id-22 pre{padding: 0;}#sk-container-id-22 div.sk-toggleable {background-color: white;}#sk-container-id-22 label.sk-toggleable__label {cursor: pointer;display: block;width: 100%;margin-bottom: 0;padding: 0.3em;box-sizing: border-box;text-align: center;}#sk-container-id-22 label.sk-toggleable__label-arrow:before {content: \"▸\";float: left;margin-right: 0.25em;color: #696969;}#sk-container-id-22 label.sk-toggleable__label-arrow:hover:before {color: black;}#sk-container-id-22 div.sk-estimator:hover label.sk-toggleable__label-arrow:before {color: black;}#sk-container-id-22 div.sk-toggleable__content {max-height: 0;max-width: 0;overflow: hidden;text-align: left;background-color: #f0f8ff;}#sk-container-id-22 div.sk-toggleable__content pre {margin: 0.2em;color: black;border-radius: 0.25em;background-color: #f0f8ff;}#sk-container-id-22 input.sk-toggleable__control:checked~div.sk-toggleable__content {max-height: 200px;max-width: 100%;overflow: auto;}#sk-container-id-22 input.sk-toggleable__control:checked~label.sk-toggleable__label-arrow:before {content: \"▾\";}#sk-container-id-22 div.sk-estimator input.sk-toggleable__control:checked~label.sk-toggleable__label {background-color: #d4ebff;}#sk-container-id-22 div.sk-label input.sk-toggleable__control:checked~label.sk-toggleable__label {background-color: #d4ebff;}#sk-container-id-22 input.sk-hidden--visually {border: 0;clip: rect(1px 1px 1px 1px);clip: rect(1px, 1px, 1px, 1px);height: 1px;margin: -1px;overflow: hidden;padding: 0;position: absolute;width: 1px;}#sk-container-id-22 div.sk-estimator {font-family: monospace;background-color: #f0f8ff;border: 1px dotted black;border-radius: 0.25em;box-sizing: border-box;margin-bottom: 0.5em;}#sk-container-id-22 div.sk-estimator:hover {background-color: #d4ebff;}#sk-container-id-22 div.sk-parallel-item::after {content: \"\";width: 100%;border-bottom: 1px solid gray;flex-grow: 1;}#sk-container-id-22 div.sk-label:hover label.sk-toggleable__label {background-color: #d4ebff;}#sk-container-id-22 div.sk-serial::before {content: \"\";position: absolute;border-left: 1px solid gray;box-sizing: border-box;top: 0;bottom: 0;left: 50%;z-index: 0;}#sk-container-id-22 div.sk-serial {display: flex;flex-direction: column;align-items: center;background-color: white;padding-right: 0.2em;padding-left: 0.2em;position: relative;}#sk-container-id-22 div.sk-item {position: relative;z-index: 1;}#sk-container-id-22 div.sk-parallel {display: flex;align-items: stretch;justify-content: center;background-color: white;position: relative;}#sk-container-id-22 div.sk-item::before, #sk-container-id-22 div.sk-parallel-item::before {content: \"\";position: absolute;border-left: 1px solid gray;box-sizing: border-box;top: 0;bottom: 0;left: 50%;z-index: -1;}#sk-container-id-22 div.sk-parallel-item {display: flex;flex-direction: column;z-index: 1;position: relative;background-color: white;}#sk-container-id-22 div.sk-parallel-item:first-child::after {align-self: flex-end;width: 50%;}#sk-container-id-22 div.sk-parallel-item:last-child::after {align-self: flex-start;width: 50%;}#sk-container-id-22 div.sk-parallel-item:only-child::after {width: 0;}#sk-container-id-22 div.sk-dashed-wrapped {border: 1px dashed gray;margin: 0 0.4em 0.5em 0.4em;box-sizing: border-box;padding-bottom: 0.4em;background-color: white;}#sk-container-id-22 div.sk-label label {font-family: monospace;font-weight: bold;display: inline-block;line-height: 1.2em;}#sk-container-id-22 div.sk-label-container {text-align: center;}#sk-container-id-22 div.sk-container {/* jupyter's `normalize.less` sets `[hidden] { display: none; }` but bootstrap.min.css set `[hidden] { display: none !important; }` so we also need the `!important` here to be able to override the default hidden behavior on the sphinx rendered scikit-learn.org. See: https://github.com/scikit-learn/scikit-learn/issues/21755 */display: inline-block !important;position: relative;}#sk-container-id-22 div.sk-text-repr-fallback {display: none;}</style><div id=\"sk-container-id-22\" class=\"sk-top-container\"><div class=\"sk-text-repr-fallback\"><pre>OneVsRestClassifier(estimator=LogisticRegression())</pre><b>In a Jupyter environment, please rerun this cell to show the HTML representation or trust the notebook. <br />On GitHub, the HTML representation is unable to render, please try loading this page with nbviewer.org.</b></div><div class=\"sk-container\" hidden><div class=\"sk-item sk-dashed-wrapped\"><div class=\"sk-label-container\"><div class=\"sk-label sk-toggleable\"><input class=\"sk-toggleable__control sk-hidden--visually\" id=\"sk-estimator-id-64\" type=\"checkbox\" ><label for=\"sk-estimator-id-64\" class=\"sk-toggleable__label sk-toggleable__label-arrow\">OneVsRestClassifier</label><div class=\"sk-toggleable__content\"><pre>OneVsRestClassifier(estimator=LogisticRegression())</pre></div></div></div><div class=\"sk-parallel\"><div class=\"sk-parallel-item\"><div class=\"sk-item\"><div class=\"sk-label-container\"><div class=\"sk-label sk-toggleable\"><input class=\"sk-toggleable__control sk-hidden--visually\" id=\"sk-estimator-id-65\" type=\"checkbox\" ><label for=\"sk-estimator-id-65\" class=\"sk-toggleable__label sk-toggleable__label-arrow\">estimator: LogisticRegression</label><div class=\"sk-toggleable__content\"><pre>LogisticRegression()</pre></div></div></div><div class=\"sk-serial\"><div class=\"sk-item\"><div class=\"sk-estimator sk-toggleable\"><input class=\"sk-toggleable__control sk-hidden--visually\" id=\"sk-estimator-id-66\" type=\"checkbox\" ><label for=\"sk-estimator-id-66\" class=\"sk-toggleable__label sk-toggleable__label-arrow\">LogisticRegression</label><div class=\"sk-toggleable__content\"><pre>LogisticRegression()</pre></div></div></div></div></div></div></div></div></div></div>"
            ],
            "text/plain": [
              "OneVsRestClassifier(estimator=LogisticRegression())"
            ]
          },
          "execution_count": 207,
          "metadata": {},
          "output_type": "execute_result"
        }
      ],
      "source": [
        "clf.fit(X_train, y_train_genres)"
      ]
    },
    {
      "cell_type": "code",
      "execution_count": null,
      "metadata": {
        "id": "qC2wv5KBGlNe"
      },
      "outputs": [],
      "source": [
        "y_pred_genres = clf.predict_proba(X_test)"
      ]
    },
    {
      "cell_type": "code",
      "execution_count": null,
      "metadata": {
        "colab": {
          "base_uri": "https://localhost:8080/"
        },
        "id": "lyBEHMySGrda",
        "outputId": "56c12a43-d1cf-43fb-8b8f-7193b6af0220"
      },
      "outputs": [
        {
          "data": {
            "text/plain": [
              "0.5600930513905559"
            ]
          },
          "execution_count": 209,
          "metadata": {},
          "output_type": "execute_result"
        }
      ],
      "source": [
        "roc_auc_score(y_test_genres, y_pred_genres, average='macro')"
      ]
    },
    {
      "cell_type": "markdown",
      "metadata": {
        "id": "iwRVCOj6MxbD"
      },
      "source": [
        "ROC Score of 0.5600930513905559 , don't think this one is going to work better than TF-IDF"
      ]
    },
    {
      "cell_type": "markdown",
      "metadata": {
        "id": "hjwTk74ReTb4"
      },
      "source": [
        "# One Vs Rest SVM with TD-IDF"
      ]
    },
    {
      "cell_type": "code",
      "execution_count": null,
      "metadata": {
        "colab": {
          "base_uri": "https://localhost:8080/"
        },
        "id": "4CyUrPzLer4R",
        "outputId": "e3aa2c87-e28e-428a-ee5c-f5b226eb5f0d"
      },
      "outputs": [
        {
          "data": {
            "text/plain": [
              "(7895, 51746)"
            ]
          },
          "execution_count": 161,
          "metadata": {},
          "output_type": "execute_result"
        }
      ],
      "source": [
        "vect = TfidfVectorizer(stop_words='english',ngram_range=(1, 2), min_df=2, max_df=0.95)\n",
        "X_dtm = vect.fit_transform(dataTraining['plot'])\n",
        "features = vect.vocabulary_.keys()\n",
        "X_dtm.shape"
      ]
    },
    {
      "cell_type": "code",
      "execution_count": null,
      "metadata": {
        "id": "rpz-Tz8uexHt"
      },
      "outputs": [],
      "source": [
        "X_train, X_test, y_train_genres, y_test_genres = train_test_split(X_dtm, y_genres, test_size=0.33, random_state=42)"
      ]
    },
    {
      "cell_type": "code",
      "execution_count": null,
      "metadata": {
        "id": "RHz-NSlFfP0M"
      },
      "outputs": [],
      "source": [
        "clf = OneVsRestClassifier(SVC())"
      ]
    },
    {
      "cell_type": "code",
      "execution_count": null,
      "metadata": {
        "colab": {
          "base_uri": "https://localhost:8080/",
          "height": 118
        },
        "id": "IboLPABQfRlj",
        "outputId": "163c14a9-74b6-4af8-a12c-a8ef03d6b1e8"
      },
      "outputs": [
        {
          "data": {
            "text/html": [
              "<style>#sk-container-id-19 {color: black;background-color: white;}#sk-container-id-19 pre{padding: 0;}#sk-container-id-19 div.sk-toggleable {background-color: white;}#sk-container-id-19 label.sk-toggleable__label {cursor: pointer;display: block;width: 100%;margin-bottom: 0;padding: 0.3em;box-sizing: border-box;text-align: center;}#sk-container-id-19 label.sk-toggleable__label-arrow:before {content: \"▸\";float: left;margin-right: 0.25em;color: #696969;}#sk-container-id-19 label.sk-toggleable__label-arrow:hover:before {color: black;}#sk-container-id-19 div.sk-estimator:hover label.sk-toggleable__label-arrow:before {color: black;}#sk-container-id-19 div.sk-toggleable__content {max-height: 0;max-width: 0;overflow: hidden;text-align: left;background-color: #f0f8ff;}#sk-container-id-19 div.sk-toggleable__content pre {margin: 0.2em;color: black;border-radius: 0.25em;background-color: #f0f8ff;}#sk-container-id-19 input.sk-toggleable__control:checked~div.sk-toggleable__content {max-height: 200px;max-width: 100%;overflow: auto;}#sk-container-id-19 input.sk-toggleable__control:checked~label.sk-toggleable__label-arrow:before {content: \"▾\";}#sk-container-id-19 div.sk-estimator input.sk-toggleable__control:checked~label.sk-toggleable__label {background-color: #d4ebff;}#sk-container-id-19 div.sk-label input.sk-toggleable__control:checked~label.sk-toggleable__label {background-color: #d4ebff;}#sk-container-id-19 input.sk-hidden--visually {border: 0;clip: rect(1px 1px 1px 1px);clip: rect(1px, 1px, 1px, 1px);height: 1px;margin: -1px;overflow: hidden;padding: 0;position: absolute;width: 1px;}#sk-container-id-19 div.sk-estimator {font-family: monospace;background-color: #f0f8ff;border: 1px dotted black;border-radius: 0.25em;box-sizing: border-box;margin-bottom: 0.5em;}#sk-container-id-19 div.sk-estimator:hover {background-color: #d4ebff;}#sk-container-id-19 div.sk-parallel-item::after {content: \"\";width: 100%;border-bottom: 1px solid gray;flex-grow: 1;}#sk-container-id-19 div.sk-label:hover label.sk-toggleable__label {background-color: #d4ebff;}#sk-container-id-19 div.sk-serial::before {content: \"\";position: absolute;border-left: 1px solid gray;box-sizing: border-box;top: 0;bottom: 0;left: 50%;z-index: 0;}#sk-container-id-19 div.sk-serial {display: flex;flex-direction: column;align-items: center;background-color: white;padding-right: 0.2em;padding-left: 0.2em;position: relative;}#sk-container-id-19 div.sk-item {position: relative;z-index: 1;}#sk-container-id-19 div.sk-parallel {display: flex;align-items: stretch;justify-content: center;background-color: white;position: relative;}#sk-container-id-19 div.sk-item::before, #sk-container-id-19 div.sk-parallel-item::before {content: \"\";position: absolute;border-left: 1px solid gray;box-sizing: border-box;top: 0;bottom: 0;left: 50%;z-index: -1;}#sk-container-id-19 div.sk-parallel-item {display: flex;flex-direction: column;z-index: 1;position: relative;background-color: white;}#sk-container-id-19 div.sk-parallel-item:first-child::after {align-self: flex-end;width: 50%;}#sk-container-id-19 div.sk-parallel-item:last-child::after {align-self: flex-start;width: 50%;}#sk-container-id-19 div.sk-parallel-item:only-child::after {width: 0;}#sk-container-id-19 div.sk-dashed-wrapped {border: 1px dashed gray;margin: 0 0.4em 0.5em 0.4em;box-sizing: border-box;padding-bottom: 0.4em;background-color: white;}#sk-container-id-19 div.sk-label label {font-family: monospace;font-weight: bold;display: inline-block;line-height: 1.2em;}#sk-container-id-19 div.sk-label-container {text-align: center;}#sk-container-id-19 div.sk-container {/* jupyter's `normalize.less` sets `[hidden] { display: none; }` but bootstrap.min.css set `[hidden] { display: none !important; }` so we also need the `!important` here to be able to override the default hidden behavior on the sphinx rendered scikit-learn.org. See: https://github.com/scikit-learn/scikit-learn/issues/21755 */display: inline-block !important;position: relative;}#sk-container-id-19 div.sk-text-repr-fallback {display: none;}</style><div id=\"sk-container-id-19\" class=\"sk-top-container\"><div class=\"sk-text-repr-fallback\"><pre>OneVsRestClassifier(estimator=SVC())</pre><b>In a Jupyter environment, please rerun this cell to show the HTML representation or trust the notebook. <br />On GitHub, the HTML representation is unable to render, please try loading this page with nbviewer.org.</b></div><div class=\"sk-container\" hidden><div class=\"sk-item sk-dashed-wrapped\"><div class=\"sk-label-container\"><div class=\"sk-label sk-toggleable\"><input class=\"sk-toggleable__control sk-hidden--visually\" id=\"sk-estimator-id-55\" type=\"checkbox\" ><label for=\"sk-estimator-id-55\" class=\"sk-toggleable__label sk-toggleable__label-arrow\">OneVsRestClassifier</label><div class=\"sk-toggleable__content\"><pre>OneVsRestClassifier(estimator=SVC())</pre></div></div></div><div class=\"sk-parallel\"><div class=\"sk-parallel-item\"><div class=\"sk-item\"><div class=\"sk-label-container\"><div class=\"sk-label sk-toggleable\"><input class=\"sk-toggleable__control sk-hidden--visually\" id=\"sk-estimator-id-56\" type=\"checkbox\" ><label for=\"sk-estimator-id-56\" class=\"sk-toggleable__label sk-toggleable__label-arrow\">estimator: SVC</label><div class=\"sk-toggleable__content\"><pre>SVC()</pre></div></div></div><div class=\"sk-serial\"><div class=\"sk-item\"><div class=\"sk-estimator sk-toggleable\"><input class=\"sk-toggleable__control sk-hidden--visually\" id=\"sk-estimator-id-57\" type=\"checkbox\" ><label for=\"sk-estimator-id-57\" class=\"sk-toggleable__label sk-toggleable__label-arrow\">SVC</label><div class=\"sk-toggleable__content\"><pre>SVC()</pre></div></div></div></div></div></div></div></div></div></div>"
            ],
            "text/plain": [
              "OneVsRestClassifier(estimator=SVC())"
            ]
          },
          "execution_count": 164,
          "metadata": {},
          "output_type": "execute_result"
        }
      ],
      "source": [
        "clf.fit(X_train, y_train_genres)"
      ]
    },
    {
      "cell_type": "code",
      "execution_count": null,
      "metadata": {
        "id": "XYJUuAm6fXtk"
      },
      "outputs": [],
      "source": [
        "#y_pred_genres = clf.predict_proba(X_test)\n",
        "y_pred_genres = clf.predict(X_test)"
      ]
    },
    {
      "cell_type": "code",
      "execution_count": null,
      "metadata": {
        "colab": {
          "base_uri": "https://localhost:8080/"
        },
        "id": "ueGTkkOtffAl",
        "outputId": "84311882-cb66-40ba-ae89-09235a15b3c8"
      },
      "outputs": [
        {
          "data": {
            "text/plain": [
              "0.5270409587370896"
            ]
          },
          "execution_count": 166,
          "metadata": {},
          "output_type": "execute_result"
        }
      ],
      "source": [
        "roc_auc_score(y_test_genres, y_pred_genres, average='macro')"
      ]
    },
    {
      "cell_type": "markdown",
      "metadata": {
        "id": "8ttwT_KPkL6W"
      },
      "source": [
        "SVM did not work well with the TF-IDF settings that worked well with Logistic Regression -> 52%"
      ]
    },
    {
      "cell_type": "markdown",
      "metadata": {
        "id": "hfaJHuzhlfqZ"
      },
      "source": [
        "#OneVsRest LinearSVM with Count Vectorizer"
      ]
    },
    {
      "cell_type": "code",
      "execution_count": null,
      "metadata": {
        "id": "ePZLgnedlisU"
      },
      "outputs": [],
      "source": [
        "vect = CountVectorizer(max_features=1000)\n",
        "X_dtm = vect.fit_transform(dataTraining['plot'])\n",
        "X_dtm.shape"
      ]
    },
    {
      "cell_type": "code",
      "execution_count": null,
      "metadata": {
        "id": "YBKSn4_Klm3H"
      },
      "outputs": [],
      "source": [
        "X_train, X_test, y_train_genres, y_test_genres = train_test_split(X_dtm, y_genres, test_size=0.33, random_state=42)"
      ]
    },
    {
      "cell_type": "code",
      "execution_count": null,
      "metadata": {
        "id": "4AjF7CVQloPB"
      },
      "outputs": [],
      "source": [
        "from sklearn.multiclass import OneVsRestClassifier\n",
        "from sklearn.svm import LinearSVC\n",
        "svm_model = OneVsRestClassifier(LinearSVC(loss='hinge'))\n",
        "svm_model.fit(X_train, y_train_genres)"
      ]
    },
    {
      "cell_type": "code",
      "execution_count": null,
      "metadata": {
        "id": "ZVOKuVoQlrqS"
      },
      "outputs": [],
      "source": [
        "y_pred_genres = svm_model.predict(X_test)"
      ]
    },
    {
      "cell_type": "code",
      "execution_count": null,
      "metadata": {
        "id": "n2DyRxXyoQJL"
      },
      "outputs": [],
      "source": [
        "roc_auc_score(y_test_genres, y_pred_genres, average='macro')"
      ]
    },
    {
      "cell_type": "markdown",
      "metadata": {
        "id": "lvRU4zbs7Ltp"
      },
      "source": [
        "# Mutlinomial Naive Bayes with TF-IDF"
      ]
    },
    {
      "cell_type": "code",
      "execution_count": null,
      "metadata": {
        "id": "MRyaB-f-9IE1"
      },
      "outputs": [],
      "source": [
        "from sklearn.naive_bayes import MultinomialNB"
      ]
    },
    {
      "cell_type": "code",
      "execution_count": null,
      "metadata": {
        "colab": {
          "base_uri": "https://localhost:8080/"
        },
        "id": "WxATibIX7Te4",
        "outputId": "10c02ba6-d5f9-445f-8df8-f160cabe3b3e"
      },
      "outputs": [
        {
          "data": {
            "text/plain": [
              "(7895, 51746)"
            ]
          },
          "execution_count": 169,
          "metadata": {},
          "output_type": "execute_result"
        }
      ],
      "source": [
        "vect = TfidfVectorizer(stop_words='english',ngram_range=(1, 2), min_df=2, max_df=0.95)\n",
        "X_dtm = vect.fit_transform(dataTraining['plot'])\n",
        "features = vect.vocabulary_.keys()\n",
        "X_dtm.shape"
      ]
    },
    {
      "cell_type": "code",
      "execution_count": null,
      "metadata": {
        "id": "XqwjNX8f7bcu"
      },
      "outputs": [],
      "source": [
        "X_train, X_test, y_train_genres, y_test_genres = train_test_split(X_dtm, y_genres, test_size=0.33, random_state=42)"
      ]
    },
    {
      "cell_type": "code",
      "execution_count": null,
      "metadata": {
        "id": "jhho4D2K9CMQ"
      },
      "outputs": [],
      "source": [
        "clf = OneVsRestClassifier(MultinomialNB())"
      ]
    },
    {
      "cell_type": "code",
      "execution_count": null,
      "metadata": {
        "colab": {
          "base_uri": "https://localhost:8080/",
          "height": 118
        },
        "id": "sXafBgaa8CM3",
        "outputId": "587f8e01-e99c-48e2-a9b4-d13ef5142302"
      },
      "outputs": [
        {
          "data": {
            "text/html": [
              "<style>#sk-container-id-20 {color: black;background-color: white;}#sk-container-id-20 pre{padding: 0;}#sk-container-id-20 div.sk-toggleable {background-color: white;}#sk-container-id-20 label.sk-toggleable__label {cursor: pointer;display: block;width: 100%;margin-bottom: 0;padding: 0.3em;box-sizing: border-box;text-align: center;}#sk-container-id-20 label.sk-toggleable__label-arrow:before {content: \"▸\";float: left;margin-right: 0.25em;color: #696969;}#sk-container-id-20 label.sk-toggleable__label-arrow:hover:before {color: black;}#sk-container-id-20 div.sk-estimator:hover label.sk-toggleable__label-arrow:before {color: black;}#sk-container-id-20 div.sk-toggleable__content {max-height: 0;max-width: 0;overflow: hidden;text-align: left;background-color: #f0f8ff;}#sk-container-id-20 div.sk-toggleable__content pre {margin: 0.2em;color: black;border-radius: 0.25em;background-color: #f0f8ff;}#sk-container-id-20 input.sk-toggleable__control:checked~div.sk-toggleable__content {max-height: 200px;max-width: 100%;overflow: auto;}#sk-container-id-20 input.sk-toggleable__control:checked~label.sk-toggleable__label-arrow:before {content: \"▾\";}#sk-container-id-20 div.sk-estimator input.sk-toggleable__control:checked~label.sk-toggleable__label {background-color: #d4ebff;}#sk-container-id-20 div.sk-label input.sk-toggleable__control:checked~label.sk-toggleable__label {background-color: #d4ebff;}#sk-container-id-20 input.sk-hidden--visually {border: 0;clip: rect(1px 1px 1px 1px);clip: rect(1px, 1px, 1px, 1px);height: 1px;margin: -1px;overflow: hidden;padding: 0;position: absolute;width: 1px;}#sk-container-id-20 div.sk-estimator {font-family: monospace;background-color: #f0f8ff;border: 1px dotted black;border-radius: 0.25em;box-sizing: border-box;margin-bottom: 0.5em;}#sk-container-id-20 div.sk-estimator:hover {background-color: #d4ebff;}#sk-container-id-20 div.sk-parallel-item::after {content: \"\";width: 100%;border-bottom: 1px solid gray;flex-grow: 1;}#sk-container-id-20 div.sk-label:hover label.sk-toggleable__label {background-color: #d4ebff;}#sk-container-id-20 div.sk-serial::before {content: \"\";position: absolute;border-left: 1px solid gray;box-sizing: border-box;top: 0;bottom: 0;left: 50%;z-index: 0;}#sk-container-id-20 div.sk-serial {display: flex;flex-direction: column;align-items: center;background-color: white;padding-right: 0.2em;padding-left: 0.2em;position: relative;}#sk-container-id-20 div.sk-item {position: relative;z-index: 1;}#sk-container-id-20 div.sk-parallel {display: flex;align-items: stretch;justify-content: center;background-color: white;position: relative;}#sk-container-id-20 div.sk-item::before, #sk-container-id-20 div.sk-parallel-item::before {content: \"\";position: absolute;border-left: 1px solid gray;box-sizing: border-box;top: 0;bottom: 0;left: 50%;z-index: -1;}#sk-container-id-20 div.sk-parallel-item {display: flex;flex-direction: column;z-index: 1;position: relative;background-color: white;}#sk-container-id-20 div.sk-parallel-item:first-child::after {align-self: flex-end;width: 50%;}#sk-container-id-20 div.sk-parallel-item:last-child::after {align-self: flex-start;width: 50%;}#sk-container-id-20 div.sk-parallel-item:only-child::after {width: 0;}#sk-container-id-20 div.sk-dashed-wrapped {border: 1px dashed gray;margin: 0 0.4em 0.5em 0.4em;box-sizing: border-box;padding-bottom: 0.4em;background-color: white;}#sk-container-id-20 div.sk-label label {font-family: monospace;font-weight: bold;display: inline-block;line-height: 1.2em;}#sk-container-id-20 div.sk-label-container {text-align: center;}#sk-container-id-20 div.sk-container {/* jupyter's `normalize.less` sets `[hidden] { display: none; }` but bootstrap.min.css set `[hidden] { display: none !important; }` so we also need the `!important` here to be able to override the default hidden behavior on the sphinx rendered scikit-learn.org. See: https://github.com/scikit-learn/scikit-learn/issues/21755 */display: inline-block !important;position: relative;}#sk-container-id-20 div.sk-text-repr-fallback {display: none;}</style><div id=\"sk-container-id-20\" class=\"sk-top-container\"><div class=\"sk-text-repr-fallback\"><pre>OneVsRestClassifier(estimator=MultinomialNB())</pre><b>In a Jupyter environment, please rerun this cell to show the HTML representation or trust the notebook. <br />On GitHub, the HTML representation is unable to render, please try loading this page with nbviewer.org.</b></div><div class=\"sk-container\" hidden><div class=\"sk-item sk-dashed-wrapped\"><div class=\"sk-label-container\"><div class=\"sk-label sk-toggleable\"><input class=\"sk-toggleable__control sk-hidden--visually\" id=\"sk-estimator-id-58\" type=\"checkbox\" ><label for=\"sk-estimator-id-58\" class=\"sk-toggleable__label sk-toggleable__label-arrow\">OneVsRestClassifier</label><div class=\"sk-toggleable__content\"><pre>OneVsRestClassifier(estimator=MultinomialNB())</pre></div></div></div><div class=\"sk-parallel\"><div class=\"sk-parallel-item\"><div class=\"sk-item\"><div class=\"sk-label-container\"><div class=\"sk-label sk-toggleable\"><input class=\"sk-toggleable__control sk-hidden--visually\" id=\"sk-estimator-id-59\" type=\"checkbox\" ><label for=\"sk-estimator-id-59\" class=\"sk-toggleable__label sk-toggleable__label-arrow\">estimator: MultinomialNB</label><div class=\"sk-toggleable__content\"><pre>MultinomialNB()</pre></div></div></div><div class=\"sk-serial\"><div class=\"sk-item\"><div class=\"sk-estimator sk-toggleable\"><input class=\"sk-toggleable__control sk-hidden--visually\" id=\"sk-estimator-id-60\" type=\"checkbox\" ><label for=\"sk-estimator-id-60\" class=\"sk-toggleable__label sk-toggleable__label-arrow\">MultinomialNB</label><div class=\"sk-toggleable__content\"><pre>MultinomialNB()</pre></div></div></div></div></div></div></div></div></div></div>"
            ],
            "text/plain": [
              "OneVsRestClassifier(estimator=MultinomialNB())"
            ]
          },
          "execution_count": 172,
          "metadata": {},
          "output_type": "execute_result"
        }
      ],
      "source": [
        "clf.fit(X_train, y_train_genres)"
      ]
    },
    {
      "cell_type": "code",
      "execution_count": null,
      "metadata": {
        "id": "sb1NTKsA9OGg"
      },
      "outputs": [],
      "source": [
        "y_pred_genres = clf.predict(X_test)"
      ]
    },
    {
      "cell_type": "code",
      "execution_count": null,
      "metadata": {
        "colab": {
          "base_uri": "https://localhost:8080/"
        },
        "id": "xFn3ArzU9Q8k",
        "outputId": "181a0c11-745a-47ef-94c5-b2ae57c63140"
      },
      "outputs": [
        {
          "data": {
            "text/plain": [
              "0.5088960524353358"
            ]
          },
          "execution_count": 178,
          "metadata": {},
          "output_type": "execute_result"
        }
      ],
      "source": [
        "roc_auc_score(y_test_genres, y_pred_genres, average='macro')"
      ]
    },
    {
      "cell_type": "markdown",
      "metadata": {
        "id": "pzKf8u2c9SV2"
      },
      "source": [
        "Naive Bayes doesn't work too well -> 50%"
      ]
    },
    {
      "cell_type": "markdown",
      "metadata": {
        "id": "PRPv-sTy-Qfd"
      },
      "source": [
        "#XGBoost with TF-IDF"
      ]
    },
    {
      "cell_type": "code",
      "execution_count": null,
      "metadata": {
        "id": "zf6BotND-T6D"
      },
      "outputs": [],
      "source": [
        "import xgboost as xgb"
      ]
    },
    {
      "cell_type": "code",
      "execution_count": null,
      "metadata": {
        "colab": {
          "base_uri": "https://localhost:8080/"
        },
        "id": "UKE_Q_IU-ZHy",
        "outputId": "a08bce9e-5fd8-4dab-d303-95cf9cbfdc35"
      },
      "outputs": [
        {
          "data": {
            "text/plain": [
              "(7895, 51746)"
            ]
          },
          "execution_count": 180,
          "metadata": {},
          "output_type": "execute_result"
        }
      ],
      "source": [
        "vect = TfidfVectorizer(stop_words='english',ngram_range=(1, 2), min_df=2, max_df=0.95)\n",
        "X_dtm = vect.fit_transform(dataTraining['plot'])\n",
        "features = vect.vocabulary_.keys()\n",
        "X_dtm.shape"
      ]
    },
    {
      "cell_type": "code",
      "execution_count": null,
      "metadata": {
        "id": "nRv92tje-gdH"
      },
      "outputs": [],
      "source": [
        "X_train, X_test, y_train_genres, y_test_genres = train_test_split(X_dtm, y_genres, test_size=0.33, random_state=42)"
      ]
    },
    {
      "cell_type": "code",
      "execution_count": null,
      "metadata": {
        "id": "1A76dMDB-jLt"
      },
      "outputs": [],
      "source": [
        "clf = OneVsRestClassifier(xgb.XGBClassifier(objective='multi:softmax', num_class=len(le.classes_)))"
      ]
    },
    {
      "cell_type": "code",
      "execution_count": null,
      "metadata": {
        "colab": {
          "base_uri": "https://localhost:8080/",
          "height": 118
        },
        "id": "TeNt1SBW-dTk",
        "outputId": "720ea704-1fa2-45e3-9cf5-fb7be0c52dce"
      },
      "outputs": [
        {
          "data": {
            "text/html": [
              "<style>#sk-container-id-21 {color: black;background-color: white;}#sk-container-id-21 pre{padding: 0;}#sk-container-id-21 div.sk-toggleable {background-color: white;}#sk-container-id-21 label.sk-toggleable__label {cursor: pointer;display: block;width: 100%;margin-bottom: 0;padding: 0.3em;box-sizing: border-box;text-align: center;}#sk-container-id-21 label.sk-toggleable__label-arrow:before {content: \"▸\";float: left;margin-right: 0.25em;color: #696969;}#sk-container-id-21 label.sk-toggleable__label-arrow:hover:before {color: black;}#sk-container-id-21 div.sk-estimator:hover label.sk-toggleable__label-arrow:before {color: black;}#sk-container-id-21 div.sk-toggleable__content {max-height: 0;max-width: 0;overflow: hidden;text-align: left;background-color: #f0f8ff;}#sk-container-id-21 div.sk-toggleable__content pre {margin: 0.2em;color: black;border-radius: 0.25em;background-color: #f0f8ff;}#sk-container-id-21 input.sk-toggleable__control:checked~div.sk-toggleable__content {max-height: 200px;max-width: 100%;overflow: auto;}#sk-container-id-21 input.sk-toggleable__control:checked~label.sk-toggleable__label-arrow:before {content: \"▾\";}#sk-container-id-21 div.sk-estimator input.sk-toggleable__control:checked~label.sk-toggleable__label {background-color: #d4ebff;}#sk-container-id-21 div.sk-label input.sk-toggleable__control:checked~label.sk-toggleable__label {background-color: #d4ebff;}#sk-container-id-21 input.sk-hidden--visually {border: 0;clip: rect(1px 1px 1px 1px);clip: rect(1px, 1px, 1px, 1px);height: 1px;margin: -1px;overflow: hidden;padding: 0;position: absolute;width: 1px;}#sk-container-id-21 div.sk-estimator {font-family: monospace;background-color: #f0f8ff;border: 1px dotted black;border-radius: 0.25em;box-sizing: border-box;margin-bottom: 0.5em;}#sk-container-id-21 div.sk-estimator:hover {background-color: #d4ebff;}#sk-container-id-21 div.sk-parallel-item::after {content: \"\";width: 100%;border-bottom: 1px solid gray;flex-grow: 1;}#sk-container-id-21 div.sk-label:hover label.sk-toggleable__label {background-color: #d4ebff;}#sk-container-id-21 div.sk-serial::before {content: \"\";position: absolute;border-left: 1px solid gray;box-sizing: border-box;top: 0;bottom: 0;left: 50%;z-index: 0;}#sk-container-id-21 div.sk-serial {display: flex;flex-direction: column;align-items: center;background-color: white;padding-right: 0.2em;padding-left: 0.2em;position: relative;}#sk-container-id-21 div.sk-item {position: relative;z-index: 1;}#sk-container-id-21 div.sk-parallel {display: flex;align-items: stretch;justify-content: center;background-color: white;position: relative;}#sk-container-id-21 div.sk-item::before, #sk-container-id-21 div.sk-parallel-item::before {content: \"\";position: absolute;border-left: 1px solid gray;box-sizing: border-box;top: 0;bottom: 0;left: 50%;z-index: -1;}#sk-container-id-21 div.sk-parallel-item {display: flex;flex-direction: column;z-index: 1;position: relative;background-color: white;}#sk-container-id-21 div.sk-parallel-item:first-child::after {align-self: flex-end;width: 50%;}#sk-container-id-21 div.sk-parallel-item:last-child::after {align-self: flex-start;width: 50%;}#sk-container-id-21 div.sk-parallel-item:only-child::after {width: 0;}#sk-container-id-21 div.sk-dashed-wrapped {border: 1px dashed gray;margin: 0 0.4em 0.5em 0.4em;box-sizing: border-box;padding-bottom: 0.4em;background-color: white;}#sk-container-id-21 div.sk-label label {font-family: monospace;font-weight: bold;display: inline-block;line-height: 1.2em;}#sk-container-id-21 div.sk-label-container {text-align: center;}#sk-container-id-21 div.sk-container {/* jupyter's `normalize.less` sets `[hidden] { display: none; }` but bootstrap.min.css set `[hidden] { display: none !important; }` so we also need the `!important` here to be able to override the default hidden behavior on the sphinx rendered scikit-learn.org. See: https://github.com/scikit-learn/scikit-learn/issues/21755 */display: inline-block !important;position: relative;}#sk-container-id-21 div.sk-text-repr-fallback {display: none;}</style><div id=\"sk-container-id-21\" class=\"sk-top-container\"><div class=\"sk-text-repr-fallback\"><pre>OneVsRestClassifier(estimator=XGBClassifier(base_score=None, booster=None,\n",
              "                                            callbacks=None,\n",
              "                                            colsample_bylevel=None,\n",
              "                                            colsample_bynode=None,\n",
              "                                            colsample_bytree=None, device=None,\n",
              "                                            early_stopping_rounds=None,\n",
              "                                            enable_categorical=False,\n",
              "                                            eval_metric=None,\n",
              "                                            feature_types=None, gamma=None,\n",
              "                                            grow_policy=None,\n",
              "                                            importance_type=None,\n",
              "                                            interaction_constraints=None,\n",
              "                                            learning_rate=None, max_bin=None,\n",
              "                                            max_cat_threshold=None,\n",
              "                                            max_cat_to_onehot=None,\n",
              "                                            max_delta_step=None, max_depth=None,\n",
              "                                            max_leaves=None,\n",
              "                                            min_child_weight=None, missing=nan,\n",
              "                                            monotone_constraints=None,\n",
              "                                            multi_strategy=None,\n",
              "                                            n_estimators=None, n_jobs=None,\n",
              "                                            num_class=24,\n",
              "                                            num_parallel_tree=None, ...))</pre><b>In a Jupyter environment, please rerun this cell to show the HTML representation or trust the notebook. <br />On GitHub, the HTML representation is unable to render, please try loading this page with nbviewer.org.</b></div><div class=\"sk-container\" hidden><div class=\"sk-item sk-dashed-wrapped\"><div class=\"sk-label-container\"><div class=\"sk-label sk-toggleable\"><input class=\"sk-toggleable__control sk-hidden--visually\" id=\"sk-estimator-id-61\" type=\"checkbox\" ><label for=\"sk-estimator-id-61\" class=\"sk-toggleable__label sk-toggleable__label-arrow\">OneVsRestClassifier</label><div class=\"sk-toggleable__content\"><pre>OneVsRestClassifier(estimator=XGBClassifier(base_score=None, booster=None,\n",
              "                                            callbacks=None,\n",
              "                                            colsample_bylevel=None,\n",
              "                                            colsample_bynode=None,\n",
              "                                            colsample_bytree=None, device=None,\n",
              "                                            early_stopping_rounds=None,\n",
              "                                            enable_categorical=False,\n",
              "                                            eval_metric=None,\n",
              "                                            feature_types=None, gamma=None,\n",
              "                                            grow_policy=None,\n",
              "                                            importance_type=None,\n",
              "                                            interaction_constraints=None,\n",
              "                                            learning_rate=None, max_bin=None,\n",
              "                                            max_cat_threshold=None,\n",
              "                                            max_cat_to_onehot=None,\n",
              "                                            max_delta_step=None, max_depth=None,\n",
              "                                            max_leaves=None,\n",
              "                                            min_child_weight=None, missing=nan,\n",
              "                                            monotone_constraints=None,\n",
              "                                            multi_strategy=None,\n",
              "                                            n_estimators=None, n_jobs=None,\n",
              "                                            num_class=24,\n",
              "                                            num_parallel_tree=None, ...))</pre></div></div></div><div class=\"sk-parallel\"><div class=\"sk-parallel-item\"><div class=\"sk-item\"><div class=\"sk-label-container\"><div class=\"sk-label sk-toggleable\"><input class=\"sk-toggleable__control sk-hidden--visually\" id=\"sk-estimator-id-62\" type=\"checkbox\" ><label for=\"sk-estimator-id-62\" class=\"sk-toggleable__label sk-toggleable__label-arrow\">estimator: XGBClassifier</label><div class=\"sk-toggleable__content\"><pre>XGBClassifier(base_score=None, booster=None, callbacks=None,\n",
              "              colsample_bylevel=None, colsample_bynode=None,\n",
              "              colsample_bytree=None, device=None, early_stopping_rounds=None,\n",
              "              enable_categorical=False, eval_metric=None, feature_types=None,\n",
              "              gamma=None, grow_policy=None, importance_type=None,\n",
              "              interaction_constraints=None, learning_rate=None, max_bin=None,\n",
              "              max_cat_threshold=None, max_cat_to_onehot=None,\n",
              "              max_delta_step=None, max_depth=None, max_leaves=None,\n",
              "              min_child_weight=None, missing=nan, monotone_constraints=None,\n",
              "              multi_strategy=None, n_estimators=None, n_jobs=None, num_class=24,\n",
              "              num_parallel_tree=None, ...)</pre></div></div></div><div class=\"sk-serial\"><div class=\"sk-item\"><div class=\"sk-estimator sk-toggleable\"><input class=\"sk-toggleable__control sk-hidden--visually\" id=\"sk-estimator-id-63\" type=\"checkbox\" ><label for=\"sk-estimator-id-63\" class=\"sk-toggleable__label sk-toggleable__label-arrow\">XGBClassifier</label><div class=\"sk-toggleable__content\"><pre>XGBClassifier(base_score=None, booster=None, callbacks=None,\n",
              "              colsample_bylevel=None, colsample_bynode=None,\n",
              "              colsample_bytree=None, device=None, early_stopping_rounds=None,\n",
              "              enable_categorical=False, eval_metric=None, feature_types=None,\n",
              "              gamma=None, grow_policy=None, importance_type=None,\n",
              "              interaction_constraints=None, learning_rate=None, max_bin=None,\n",
              "              max_cat_threshold=None, max_cat_to_onehot=None,\n",
              "              max_delta_step=None, max_depth=None, max_leaves=None,\n",
              "              min_child_weight=None, missing=nan, monotone_constraints=None,\n",
              "              multi_strategy=None, n_estimators=None, n_jobs=None, num_class=24,\n",
              "              num_parallel_tree=None, ...)</pre></div></div></div></div></div></div></div></div></div></div>"
            ],
            "text/plain": [
              "OneVsRestClassifier(estimator=XGBClassifier(base_score=None, booster=None,\n",
              "                                            callbacks=None,\n",
              "                                            colsample_bylevel=None,\n",
              "                                            colsample_bynode=None,\n",
              "                                            colsample_bytree=None, device=None,\n",
              "                                            early_stopping_rounds=None,\n",
              "                                            enable_categorical=False,\n",
              "                                            eval_metric=None,\n",
              "                                            feature_types=None, gamma=None,\n",
              "                                            grow_policy=None,\n",
              "                                            importance_type=None,\n",
              "                                            interaction_constraints=None,\n",
              "                                            learning_rate=None, max_bin=None,\n",
              "                                            max_cat_threshold=None,\n",
              "                                            max_cat_to_onehot=None,\n",
              "                                            max_delta_step=None, max_depth=None,\n",
              "                                            max_leaves=None,\n",
              "                                            min_child_weight=None, missing=nan,\n",
              "                                            monotone_constraints=None,\n",
              "                                            multi_strategy=None,\n",
              "                                            n_estimators=None, n_jobs=None,\n",
              "                                            num_class=24,\n",
              "                                            num_parallel_tree=None, ...))"
            ]
          },
          "execution_count": 185,
          "metadata": {},
          "output_type": "execute_result"
        }
      ],
      "source": [
        "clf.fit(X_train, y_train_genres)"
      ]
    },
    {
      "cell_type": "code",
      "execution_count": null,
      "metadata": {
        "id": "udHXdX7Y_OTV"
      },
      "outputs": [],
      "source": [
        "y_pred_genres = clf.predict(X_test)"
      ]
    },
    {
      "cell_type": "code",
      "execution_count": null,
      "metadata": {
        "colab": {
          "base_uri": "https://localhost:8080/"
        },
        "id": "rWmLEYFaCA6U",
        "outputId": "37f9b65c-85d8-40c8-b41e-91eb61fe538f"
      },
      "outputs": [
        {
          "data": {
            "text/plain": [
              "0.6104668443423281"
            ]
          },
          "execution_count": 187,
          "metadata": {},
          "output_type": "execute_result"
        }
      ],
      "source": [
        "roc_auc_score(y_test_genres, y_pred_genres, average='macro')"
      ]
    },
    {
      "cell_type": "markdown",
      "metadata": {
        "id": "J-VteE3UFH6t"
      },
      "source": [
        "Results in a ROC score of 61%"
      ]
    },
    {
      "cell_type": "markdown",
      "metadata": {
        "id": "Qft825lkmKJJ"
      },
      "source": [
        "## Try a Grid Search of the kernels"
      ]
    },
    {
      "cell_type": "code",
      "execution_count": null,
      "metadata": {
        "id": "h8t-iJSjc8Kw"
      },
      "outputs": [],
      "source": [
        "class_counts = dataTraining['genres'].value_counts()"
      ]
    },
    {
      "cell_type": "code",
      "execution_count": null,
      "metadata": {
        "id": "QSwScsfbdMZ8"
      },
      "outputs": [],
      "source": [
        "class_counts"
      ]
    },
    {
      "cell_type": "markdown",
      "metadata": {
        "id": "Q2bkmXtBdTDW"
      },
      "source": [
        "Due to fitting of the SVM , seems like we need to remove all those that have only 1 instance to not get soo many metric errors during fitting"
      ]
    },
    {
      "cell_type": "code",
      "execution_count": null,
      "metadata": {
        "id": "fSF5WjIldk8x"
      },
      "outputs": [],
      "source": [
        "# Define a threshold for the minimum number of instances per class\n",
        "min_instances = 3\n",
        "\n",
        "# Identify classes with less than `min_instances` instances\n",
        "underrepresented_classes = class_counts[class_counts < min_instances].index\n",
        "\n",
        "# Option 1: Remove underrepresented classes\n",
        "dataTraining2 = dataTraining[~dataTraining['genres'].isin(underrepresented_classes)]"
      ]
    },
    {
      "cell_type": "code",
      "execution_count": null,
      "metadata": {
        "id": "cvqbG-aid1-V"
      },
      "outputs": [],
      "source": [
        "class_counts = dataTraining2['genres'].value_counts()"
      ]
    },
    {
      "cell_type": "code",
      "execution_count": null,
      "metadata": {
        "id": "hH8_B1pbd4pj"
      },
      "outputs": [],
      "source": [
        "class_counts"
      ]
    },
    {
      "cell_type": "code",
      "execution_count": null,
      "metadata": {
        "id": "NdGGZTX5d9gj"
      },
      "outputs": [],
      "source": [
        "vect = TfidfVectorizer(stop_words='english',ngram_range=(1, 2), min_df=2, max_df=0.95)\n",
        "X_dtm = vect.fit_transform(dataTraining2['plot'])\n",
        "features = vect.vocabulary_.keys()\n",
        "X_dtm.shape"
      ]
    },
    {
      "cell_type": "code",
      "execution_count": null,
      "metadata": {
        "id": "8UZ9y0IWeF98"
      },
      "outputs": [],
      "source": [
        "dataTraining2['genres'] = dataTraining2['genres'].map(lambda x: eval(x))\n",
        "\n",
        "le = MultiLabelBinarizer()\n",
        "y_genres = le.fit_transform(dataTraining2['genres'])"
      ]
    },
    {
      "cell_type": "code",
      "execution_count": null,
      "metadata": {
        "id": "cqLWZk2Ipl6F"
      },
      "outputs": [],
      "source": [
        "#sub sample because this takes too long\n",
        "X_sample, _, y_sample, _ = train_test_split(X_dtm, y_genres, test_size=0.5, random_state=42, stratify=y_genres)\n",
        "X_train, X_test, y_train_genres, y_test_genres = train_test_split(X_sample, y_sample, test_size=0.33, random_state=42, stratify=y_sample)"
      ]
    },
    {
      "cell_type": "code",
      "execution_count": null,
      "metadata": {
        "id": "NYzA8oPWUUK0"
      },
      "outputs": [],
      "source": [
        "X_train.shape"
      ]
    },
    {
      "cell_type": "code",
      "execution_count": null,
      "metadata": {
        "id": "MCz8qpSsmItz"
      },
      "outputs": [],
      "source": [
        "from sklearn.multiclass import OneVsRestClassifier\n",
        "from sklearn.svm import SVC\n",
        "from sklearn.model_selection import GridSearchCV\n",
        "from sklearn.metrics import f1_score\n",
        "from sklearn.metrics import make_scorer, precision_score, recall_score, fbeta_score\n",
        "\n",
        "# Define the OneVsRestClassifier with SVC as the estimator\n",
        "model_to_set = OneVsRestClassifier(SVC())\n",
        "\n",
        "# Define the parameter grid for grid search\n",
        "parameters = {\n",
        "    #\"estimator__C\": [1, 2, 4, 8],\n",
        "    #\"estimator__kernel\": [\"poly\", \"rbf\", \"linear\"],\n",
        "    #\"estimator__degree\": [1, 2, 3, 4],\n",
        "    \"estimator__C\": [1,10],\n",
        "    \"estimator__kernel\": [\"poly\", \"rbf\", \"linear\"],\n",
        "}\n",
        "\n",
        "precision_scorer = make_scorer(precision_score, average='weighted')\n",
        "\n",
        "# Create the GridSearchCV object\n",
        "model_tuning = GridSearchCV(model_to_set, param_grid=parameters, scoring=precision_scorer , cv = 5)\n",
        "\n",
        "# Fit the model\n",
        "model_tuning.fit(X_train, y_train_genres)\n",
        "\n",
        "# Print the best score and parameters\n",
        "print(model_tuning.best_score_)\n",
        "print(model_tuning.best_params_)"
      ]
    },
    {
      "cell_type": "markdown",
      "metadata": {
        "id": "dVasvUeyrNt1"
      },
      "source": [
        "apparently using OneVsRest when the base model is SVC doesn't make a whole lot of sense"
      ]
    },
    {
      "cell_type": "markdown",
      "metadata": {
        "id": "bHnW5du75Hq6"
      },
      "source": [
        "# Using Word2Vec as the embedding model"
      ]
    },
    {
      "cell_type": "code",
      "execution_count": null,
      "metadata": {
        "id": "DulCW_rijpUO"
      },
      "outputs": [],
      "source": [
        "dataTraining = pd.read_csv('https://github.com/sergiomora03/AdvancedTopicsAnalytics/raw/main/datasets/dataTraining.zip', encoding='UTF-8', index_col=0)\n",
        "dataTesting = pd.read_csv('https://github.com/sergiomora03/AdvancedTopicsAnalytics/raw/main/datasets/dataTesting.zip', encoding='UTF-8', index_col=0)"
      ]
    },
    {
      "cell_type": "code",
      "execution_count": null,
      "metadata": {
        "id": "Qiw8uYCJj0rF"
      },
      "outputs": [],
      "source": [
        "dataTraining.isna().any()"
      ]
    },
    {
      "cell_type": "code",
      "execution_count": null,
      "metadata": {
        "id": "Q31Cqn9Uj-s3"
      },
      "outputs": [],
      "source": [
        "dataTraining.shape"
      ]
    },
    {
      "cell_type": "code",
      "execution_count": null,
      "metadata": {
        "id": "onTrDtfnj2gq"
      },
      "outputs": [],
      "source": [
        "dataTesting.isna().any()"
      ]
    },
    {
      "cell_type": "code",
      "execution_count": null,
      "metadata": {
        "id": "rjN5hN_G8Ma1"
      },
      "outputs": [],
      "source": [
        "import nltk\n",
        "from nltk.corpus import stopwords\n",
        "from nltk.tokenize import word_tokenize\n",
        "import string"
      ]
    },
    {
      "cell_type": "code",
      "execution_count": null,
      "metadata": {
        "id": "YEsdXmoj8RHx"
      },
      "outputs": [],
      "source": [
        "nltk.download('punkt')\n",
        "nltk.download('stopwords')"
      ]
    },
    {
      "cell_type": "code",
      "execution_count": null,
      "metadata": {
        "id": "wCPUrdlWNe1-"
      },
      "outputs": [],
      "source": [
        "# Remove punctuation and convert to lowercase\n",
        "dataTraining['plot'] = dataTraining['plot'].apply(lambda x: x.translate(str.maketrans('', '', string.punctuation)).lower())"
      ]
    },
    {
      "cell_type": "code",
      "execution_count": null,
      "metadata": {
        "id": "YzNBohV-8SYP"
      },
      "outputs": [],
      "source": [
        "stop_words = set(stopwords.words('english'))"
      ]
    },
    {
      "cell_type": "code",
      "execution_count": null,
      "metadata": {
        "id": "mYANMPYzNrJ_"
      },
      "outputs": [],
      "source": [
        "dataTraining['plot'] = dataTraining['plot'].apply(lambda x: [word for word in word_tokenize(x) if word.isalnum() and word not in stop_words])"
      ]
    },
    {
      "cell_type": "code",
      "execution_count": null,
      "metadata": {
        "id": "6kqIUHRv51LC"
      },
      "outputs": [],
      "source": [
        "import gensim\n",
        "from gensim.models import Word2Vec"
      ]
    },
    {
      "cell_type": "code",
      "execution_count": null,
      "metadata": {
        "id": "J0pmszRH5Mw1"
      },
      "outputs": [],
      "source": [
        "word2vec_model = Word2Vec(sentences=dataTraining['plot'], vector_size=100, window=5, min_count=1, workers=4)"
      ]
    },
    {
      "cell_type": "code",
      "execution_count": null,
      "metadata": {
        "id": "eHF13XJDOMB7"
      },
      "outputs": [],
      "source": [
        "def get_doc_vector(tokens, model):\n",
        "    vector = [model.wv[word] for word in tokens if word in model.wv.index_to_key]\n",
        "    if not vector:\n",
        "        return None\n",
        "    return sum(vector) / len(vector) if vector else None"
      ]
    },
    {
      "cell_type": "code",
      "execution_count": null,
      "metadata": {
        "id": "ewFM9_JGOWiV"
      },
      "outputs": [],
      "source": [
        "dataTraining['plot'] = dataTraining['plot'].apply(lambda x: get_doc_vector(x, word2vec_model))"
      ]
    },
    {
      "cell_type": "code",
      "execution_count": null,
      "metadata": {
        "id": "tn4YsgLyTjj2"
      },
      "outputs": [],
      "source": [
        "dataTraining.isna().any()"
      ]
    },
    {
      "cell_type": "code",
      "execution_count": null,
      "metadata": {
        "id": "IbPvtbiNw4qZ"
      },
      "outputs": [],
      "source": [
        "dataTraining = dataTraining.dropna()"
      ]
    },
    {
      "cell_type": "code",
      "execution_count": null,
      "metadata": {
        "id": "znPDEl_fxjzV"
      },
      "outputs": [],
      "source": [
        "dataTraining.isna().any()"
      ]
    },
    {
      "cell_type": "code",
      "execution_count": null,
      "metadata": {
        "id": "YTxWyagTxnwG"
      },
      "outputs": [],
      "source": [
        "dataTraining.shape"
      ]
    },
    {
      "cell_type": "code",
      "execution_count": null,
      "metadata": {
        "id": "WlSAVRhnkKRN"
      },
      "outputs": [],
      "source": [
        "dataTraining['genres'] = dataTraining['genres'].map(lambda x: eval(x))\n",
        "\n",
        "multilabel_binarizer = MultiLabelBinarizer()\n",
        "#dataTraining['encoded_genres'] = multilabel_binarizer.fit_transform(dataTraining['genres']).tolist()\n",
        "y_genres =  multilabel_binarizer.fit_transform(dataTraining['genres'])"
      ]
    },
    {
      "cell_type": "code",
      "execution_count": null,
      "metadata": {
        "id": "JNjxR9Jxw67t"
      },
      "outputs": [],
      "source": [
        "X_dtm = dataTraining['plot']"
      ]
    },
    {
      "cell_type": "code",
      "execution_count": null,
      "metadata": {
        "id": "aE5ZYgllar19"
      },
      "outputs": [],
      "source": [
        "X_train, X_test, y_train_genres, y_test_genres = train_test_split(X_dtm, y_genres, test_size=0.2, random_state=42)"
      ]
    },
    {
      "cell_type": "code",
      "execution_count": null,
      "metadata": {
        "id": "a26vmKeqxyGh"
      },
      "outputs": [],
      "source": [
        "X_train[0].shape"
      ]
    },
    {
      "cell_type": "code",
      "execution_count": null,
      "metadata": {
        "id": "4Lb_aw4lzg5H"
      },
      "outputs": [],
      "source": [
        "y_train_genres[0]"
      ]
    },
    {
      "cell_type": "code",
      "execution_count": null,
      "metadata": {
        "id": "CovUAzp62SXp"
      },
      "outputs": [],
      "source": [
        "clf = OneVsRestClassifier(RandomForestClassifier(n_jobs=-1, n_estimators=100, max_depth=10, random_state=42))\n",
        "clf.fit(X_train.tolist(), y_train_genres)"
      ]
    },
    {
      "cell_type": "code",
      "execution_count": null,
      "metadata": {
        "id": "hDu0XsVThJE1"
      },
      "outputs": [],
      "source": [
        "#clf = OneVsRestClassifier(LogisticRegression())\n",
        "#clf.fit(np.array(X_train).tolist(), y_train_genres)\n",
        "#clf.fit(X_train.tolist(), y_train.tolist())\n",
        "#clf.fit(np.array(X_train).tolist(), np.array(y_train).tolist())"
      ]
    },
    {
      "cell_type": "code",
      "execution_count": null,
      "metadata": {
        "id": "yYwZwjixi8fY"
      },
      "outputs": [],
      "source": [
        "y_pred_genres = clf.predict(X_test.tolist())"
      ]
    },
    {
      "cell_type": "code",
      "execution_count": null,
      "metadata": {
        "id": "cMRKFg-fvZXx"
      },
      "outputs": [],
      "source": [
        "roc_auc_score(y_test_genres, y_pred_genres, average='macro')"
      ]
    },
    {
      "cell_type": "markdown",
      "metadata": {
        "id": "mQ8iuisH3rWO"
      },
      "source": [
        "Using word2vec results in a worse prediction. Thing to note, the fitting heavily realied on the tolist() function invoked on the X_dtm dataset , so it's very possible the Final Vector Feature for the Classifier is causing some problems"
      ]
    },
    {
      "cell_type": "markdown",
      "metadata": {
        "id": "EJICqzumLZwo"
      },
      "source": [
        "# GRU with keras Tokenizer"
      ]
    },
    {
      "cell_type": "code",
      "execution_count": null,
      "metadata": {
        "id": "Rm-mj0INMlWz"
      },
      "outputs": [],
      "source": [
        "dataTraining = pd.read_csv('https://github.com/sergiomora03/AdvancedTopicsAnalytics/raw/main/datasets/dataTraining.zip', encoding='UTF-8', index_col=0)\n",
        "dataTesting = pd.read_csv('https://github.com/sergiomora03/AdvancedTopicsAnalytics/raw/main/datasets/dataTesting.zip', encoding='UTF-8', index_col=0)"
      ]
    },
    {
      "cell_type": "code",
      "execution_count": null,
      "metadata": {
        "id": "wMSk0PLfNL2R"
      },
      "outputs": [],
      "source": [
        "dataTraining['genres'] = dataTraining['genres'].map(lambda x: eval(x))\n",
        "\n",
        "multilabel_binarizer = MultiLabelBinarizer()\n",
        "y_genres =  multilabel_binarizer.fit_transform(dataTraining['genres'])"
      ]
    },
    {
      "cell_type": "code",
      "execution_count": null,
      "metadata": {
        "id": "Msl_IY1XMiaj"
      },
      "outputs": [],
      "source": [
        "import numpy as np\n",
        "from tensorflow import keras\n",
        "from tensorflow.keras.preprocessing.text import Tokenizer\n",
        "from tensorflow.keras.preprocessing.sequence import pad_sequences\n",
        "from tensorflow.keras.layers import Embedding, GRU, Dense\n",
        "\n",
        "\n",
        "def preprocess(data):\n",
        "   # Your text cleaning function here\n",
        "   stop_words = set(stopwords.words('english'))\n",
        "   data.translate(str.maketrans('', '', string.punctuation)).lower()\n",
        "   [word for word in word_tokenize(data) if word.isalnum() and word not in stop_words]\n",
        "   return data\n",
        "\n",
        "X = dataTraining['plot'].apply(preprocess).values\n",
        "num_words = 5000\n",
        "maxlen = 100\n",
        "\n",
        "X_train, X_test, y_train, y_test = train_test_split(X, y_genres, test_size=0.2, random_state=42)\n",
        "\n",
        "tokenizer = Tokenizer(num_words=num_words, split=' ', oov_token=\"UNKNOWN_TOKEN\")\n",
        "tokenizer.fit_on_texts(X_train)\n",
        "X_train = tokenizer.texts_to_sequences(X_train)\n",
        "X_train = pad_sequences(X_train, maxlen=maxlen, value=0)\n",
        "X_test = tokenizer.texts_to_sequences(X_test)\n",
        "X_test = pad_sequences(X_test, maxlen=maxlen, value=0)\n",
        "\n",
        "model = keras.Sequential()\n",
        "model.add(keras.layers.Embedding(num_words, 64, input_length=maxlen))\n",
        "model.add(keras.layers.GRU(256))\n",
        "model.add(keras.layers.Dense(len(multilabel_binarizer.classes_), activation=\"sigmoid\"))\n",
        "\n",
        "#optimizer = keras.optimizers.Adam(learning_rate=0.01)\n",
        "model.compile(optimizer='adam', loss='binary_crossentropy', metrics=['accuracy'])\n",
        "\n",
        "history = model.fit(X_train, y_train, epochs=10, batch_size=32, validation_data=(X_test,y_test))\n",
        "\n",
        "print(\"Training accuracy:\", history.history['accuracy'][0])\n",
        "print(\"Validation accuracy:\", history.history['val_accuracy'][0])"
      ]
    },
    {
      "cell_type": "markdown",
      "metadata": {
        "id": "F54mNE9oVvFq"
      },
      "source": [
        "Training accuracy: 0.19418051838874817\n",
        "Validation accuracy: 0.21044303476810455\n",
        "\n",
        "Ok so now we get to play with RNN architecture\n",
        "\n",
        "\n",
        "\n",
        "```\n",
        "model = keras.Sequential()\n",
        "model.add(keras.layers.Embedding(num_words, 64, input_length=maxlen))\n",
        "model.add(keras.layers.GRU(64, return_sequences=True))\n",
        "model.add(keras.layers.Dropout(0.4))\n",
        "model.add(keras.layers.GRU(64))\n",
        "model.add(keras.layers.Dense(len(multilabel_binarizer.classes_), activation=\"sigmoid\"))\n",
        "```\n",
        "\n",
        "\n",
        "\n"
      ]
    },
    {
      "cell_type": "markdown",
      "metadata": {
        "id": "QZnc_IASWscG"
      },
      "source": [
        "Ok so we are actually getting somewhere with GRU lol , better than a coin flip with 10 epochs with slightly worse training loss... thing is it's taking a while ...\n",
        "\n",
        "Training accuracy: 0.21516230702400208\n",
        "Validation accuracy: 0.21044303476810455\n",
        "\n",
        "\n",
        "```\n",
        "model = keras.Sequential()\n",
        "model.add(keras.layers.Embedding(num_words, 64, input_length=maxlen))\n",
        "model.add(keras.layers.GRU(128))\n",
        "model.add(keras.layers.Dense(len(multilabel_binarizer.classes_), activation=\"sigmoid\"))\n",
        "```\n",
        "\n"
      ]
    },
    {
      "cell_type": "markdown",
      "metadata": {
        "id": "zkjI-qfubu27"
      },
      "source": [
        "Training accuracy: 0.20978467166423798\n",
        "Validation accuracy: 0.16149461269378662\n",
        "\n",
        "\n",
        "\n",
        "```\n",
        "model = keras.Sequential()\n",
        "model.add(keras.layers.Embedding(num_words, 64, input_length=maxlen))\n",
        "model.add(keras.layers.GRU(256))\n",
        "model.add(keras.layers.Dense(len(multilabel_binarizer.classes_), activation=\"sigmoid\"))\n",
        "```\n",
        "\n"
      ]
    },
    {
      "cell_type": "markdown",
      "metadata": {
        "id": "krVb9KiedWGO"
      },
      "source": [
        "It's getting worse the bigger the GRU layer..."
      ]
    },
    {
      "cell_type": "markdown",
      "metadata": {
        "id": "SqJZ6fMJ3NRI"
      },
      "source": [
        "# GRU with Word2Vec Trained on Plot Summaries"
      ]
    },
    {
      "cell_type": "code",
      "execution_count": null,
      "metadata": {
        "id": "UbTIPDP9p2le"
      },
      "outputs": [],
      "source": [
        "import tensorflow\n",
        "import keras"
      ]
    },
    {
      "cell_type": "code",
      "execution_count": null,
      "metadata": {
        "id": "jPVXJFb170z3"
      },
      "outputs": [],
      "source": [
        "from tensorflow.keras.models import Sequential\n",
        "from tensorflow.keras.layers import GRU, Dense\n",
        "from tensorflow.keras.utils import to_categorical"
      ]
    },
    {
      "cell_type": "code",
      "execution_count": null,
      "metadata": {
        "id": "ppHgjMIJ8BM2"
      },
      "outputs": [],
      "source": [
        "dataTraining = pd.read_csv('https://github.com/sergiomora03/AdvancedTopicsAnalytics/raw/main/datasets/dataTraining.zip', encoding='UTF-8', index_col=0)\n",
        "dataTesting = pd.read_csv('https://github.com/sergiomora03/AdvancedTopicsAnalytics/raw/main/datasets/dataTesting.zip', encoding='UTF-8', index_col=0)"
      ]
    },
    {
      "cell_type": "code",
      "execution_count": null,
      "metadata": {
        "id": "a5m5Swtv9NFA"
      },
      "outputs": [],
      "source": [
        "dataTraining['genres'] = dataTraining['genres'].map(lambda x: eval(x))\n",
        "\n",
        "multilabel_binarizer = MultiLabelBinarizer()\n",
        "y_genres =  multilabel_binarizer.fit_transform(dataTraining['genres'])"
      ]
    },
    {
      "cell_type": "code",
      "execution_count": null,
      "metadata": {
        "id": "nvWTyqfgaGln"
      },
      "outputs": [],
      "source": [
        "import numpy as np\n",
        "import tensorflow as tf\n",
        "from tensorflow import keras\n",
        "from tensorflow.keras.preprocessing.sequence import pad_sequences\n",
        "from tensorflow.keras.layers import Input, Embedding, GRU, Dense\n",
        "from sklearn.model_selection import train_test_split\n",
        "import nltk\n",
        "nltk.download('punkt')\n",
        "from gensim import models\n",
        "\n",
        "# Custom preprocess function (if needed)\n",
        "def preprocess(data):\n",
        "   # Your text cleaning function here\n",
        "   stop_words = set(stopwords.words('english'))\n",
        "   data.translate(str.maketrans('', '', string.punctuation)).lower()\n",
        "   [word for word in word_tokenize(data) if word.isalpha() and word not in stop_words]\n",
        "   return data\n",
        "\n",
        "# Update these hyperparameters based on requirements\n",
        "num_words = 5000\n",
        "embedding_dimension = 128\n",
        "batch_size = 32\n",
        "epochs = 10\n",
        "\n",
        "# Load your dataset\n",
        "X = dataTraining['plot'].apply(preprocess).values\n",
        "\n",
        "# Build Word2Vec model\n",
        "wv_model = models.Word2Vec(min_count=1, vector_size=embedding_dimension, window=5, sg=1, iter=10, workers=-1)\n",
        "wv_model.build_vocab(X)\n",
        "wv_model.train(X, total_examples=X.shape[0], epochs=wv_model.iter)\n",
        "\n",
        "\n",
        "# Split data into train and test sets\n",
        "X_train, X_test, y_train, y_test = train_test_split(np.array(X), y_genres, test_size=0.2, random_state=42)\n",
        "\n",
        "model = keras.Sequential()\n",
        "model.add(keras.layers.Embedding(num_words, 64, input_length=maxlen))\n",
        "model.add(keras.layers.GRU(256))\n",
        "model.add(keras.layers.Dense(len(multilabel_binarizer.classes_), activation=\"sigmoid\"))\n",
        "\n",
        "model.compile(optimizer='adam', loss='binary_crossentropy', metrics=['accuracy'])\n",
        "\n",
        "# Training\n",
        "#history = model.fit(X_train, y_train, epochs=epochs, batch_size=batch_size, class_weight={i: w for i, w in enumerate(class_weights)}, validation_data=(X_test, y_test))\n",
        "history = model.fit(X_train, y_train, epochs=epochs, batch_size=batch_size, validation_data=(X_test, y_test))\n",
        "\n",
        "print(\"Training accuracy:\", history.history['acc'][0])\n",
        "print(\"Validation accuracy:\", history.history['val_acc'][0])"
      ]
    },
    {
      "cell_type": "markdown",
      "metadata": {
        "id": "MKJNMRdplOmX"
      },
      "source": [
        "#GRU using Glove Embeddings"
      ]
    },
    {
      "cell_type": "code",
      "execution_count": null,
      "metadata": {
        "id": "W2Qis4eLmMWl"
      },
      "outputs": [],
      "source": [
        "glove_model = EmbeddingTransformer('glove')"
      ]
    },
    {
      "cell_type": "code",
      "execution_count": null,
      "metadata": {
        "id": "R90Ki5jRmXG0"
      },
      "outputs": [],
      "source": [
        "# Example function to aggregate document embeddings (e.g., averaging)\n",
        "def aggregate_embeddings(doc_words, embeddings_model):\n",
        "    doc_embeddings = embeddings_model.transform([' '.join(doc_words)])[0]\n",
        "    # Calculate the mean embedding\n",
        "    return np.mean(doc_embeddings, axis=0)"
      ]
    },
    {
      "cell_type": "code",
      "execution_count": null,
      "metadata": {
        "colab": {
          "base_uri": "https://localhost:8080/"
        },
        "id": "XfWjvvb1mCxf",
        "outputId": "bd2bb71b-6371-4424-8c30-b1161578192b"
      },
      "outputs": [
        {
          "name": "stdout",
          "output_type": "stream",
          "text": [
            "Epoch 1/10\n",
            "198/198 [==============================] - 14s 53ms/step - loss: 0.3716 - accuracy: 0.1678 - val_loss: 0.2986 - val_accuracy: 0.1868\n",
            "Epoch 2/10\n",
            "198/198 [==============================] - 10s 51ms/step - loss: 0.2927 - accuracy: 0.2004 - val_loss: 0.2974 - val_accuracy: 0.1868\n",
            "Epoch 3/10\n",
            "198/198 [==============================] - 11s 54ms/step - loss: 0.2920 - accuracy: 0.2004 - val_loss: 0.2965 - val_accuracy: 0.1868\n",
            "Epoch 4/10\n",
            "198/198 [==============================] - 10s 52ms/step - loss: 0.2912 - accuracy: 0.2006 - val_loss: 0.2952 - val_accuracy: 0.1868\n",
            "Epoch 5/10\n",
            "198/198 [==============================] - 12s 58ms/step - loss: 0.2895 - accuracy: 0.2003 - val_loss: 0.2931 - val_accuracy: 0.1868\n",
            "Epoch 6/10\n",
            "198/198 [==============================] - 11s 53ms/step - loss: 0.2862 - accuracy: 0.2088 - val_loss: 0.2883 - val_accuracy: 0.2033\n",
            "Epoch 7/10\n",
            "198/198 [==============================] - 10s 52ms/step - loss: 0.2803 - accuracy: 0.2278 - val_loss: 0.2806 - val_accuracy: 0.2628\n",
            "Epoch 8/10\n",
            "198/198 [==============================] - 10s 52ms/step - loss: 0.2739 - accuracy: 0.2603 - val_loss: 0.2749 - val_accuracy: 0.2147\n",
            "Epoch 9/10\n",
            "198/198 [==============================] - 10s 53ms/step - loss: 0.2702 - accuracy: 0.2665 - val_loss: 0.2706 - val_accuracy: 0.2597\n",
            "Epoch 10/10\n",
            "198/198 [==============================] - 10s 52ms/step - loss: 0.2668 - accuracy: 0.2638 - val_loss: 0.2679 - val_accuracy: 0.3046\n"
          ]
        },
        {
          "data": {
            "text/plain": [
              "<keras.src.callbacks.History at 0x79070d824fa0>"
            ]
          },
          "execution_count": 218,
          "metadata": {},
          "output_type": "execute_result"
        }
      ],
      "source": [
        "import numpy as np\n",
        "import tensorflow as tf\n",
        "from tensorflow import keras\n",
        "from keras.preprocessing.text import Tokenizer\n",
        "from keras.preprocessing.sequence import pad_sequences\n",
        "from keras.models import Sequential\n",
        "from tensorflow.keras.layers import Input, Embedding, GRU, Dense\n",
        "from sklearn.model_selection import train_test_split\n",
        "import nltk\n",
        "from gensim import models\n",
        "\n",
        "# Custom preprocess function (if needed)\n",
        "def preprocess(data):\n",
        "   # Your text cleaning function here\n",
        "   stop_words = set(stopwords.words('english'))\n",
        "   data.translate(str.maketrans('', '', string.punctuation)).lower()\n",
        "   [word for word in word_tokenize(data) if word.isalpha() and word not in stop_words]\n",
        "   return data\n",
        "\n",
        "X = dataTraining['plot'].apply(preprocess).values\n",
        "\n",
        "# Tokenize text data\n",
        "tokenizer = Tokenizer()\n",
        "tokenizer.fit_on_texts(X)\n",
        "sequences = tokenizer.texts_to_sequences(X)\n",
        "\n",
        "# Pad sequences\n",
        "max_sequence_length = 100  # Choose an appropriate sequence length\n",
        "padded_sequences = pad_sequences(sequences, maxlen=max_sequence_length, truncating='post')  # Truncate longer sequences\n",
        "\n",
        "# Create embedding matrix\n",
        "word_index = tokenizer.word_index\n",
        "num_words = len(word_index) + 1\n",
        "sample_embedding = glove_model.transform(['sample'])[0]\n",
        "embedding_dim = len(sample_embedding)\n",
        "embedding_matrix = np.zeros((num_words, embedding_dim))\n",
        "\n",
        "for word, i in word_index.items():\n",
        "    if word in glove_model.model.key_to_index:\n",
        "        embedding_matrix[i] = glove_model.transform([word])[0]\n",
        "\n",
        "X_train, X_test, y_train, y_test = train_test_split(np.array(padded_sequences), y_genres, test_size=0.2, random_state=42)\n",
        "\n",
        "\n",
        "# Define GRU model\n",
        "model = Sequential()\n",
        "model.add(Embedding(num_words, embedding_dim, weights=[embedding_matrix], input_length=max_sequence_length, trainable=False))\n",
        "model.add(GRU(units=32, dropout=0.2, recurrent_dropout=0.2))\n",
        "model.add(Dense(len(le.classes_), activation=\"sigmoid\"))\n",
        "\n",
        "# Compile model\n",
        "model.compile(loss='binary_crossentropy', optimizer='adam', metrics=['accuracy'])\n",
        "\n",
        "# Train model\n",
        "model.fit(X_train, y_train, epochs=10, batch_size=32, validation_data=(X_test, y_test))"
      ]
    },
    {
      "cell_type": "markdown",
      "metadata": {
        "id": "3S6RwKaJqhDq"
      },
      "source": [
        "Puede que este modelo eventualmente llega a punto con alto accuracy porque se nota que aun no hay overfitting.Cambios otras cositas \\\n",
        "\n",
        "198/198 [==============================] - 10s 52ms/step - loss: 0.2668 - accuracy: 0.2638 - val_loss: 0.2679 - val_accuracy: 0.3046\n",
        "\n"
      ]
    },
    {
      "cell_type": "code",
      "execution_count": null,
      "metadata": {
        "colab": {
          "base_uri": "https://localhost:8080/"
        },
        "id": "RALdTImMp2Ki",
        "outputId": "ab20576f-bee3-43dc-b84e-8b0e05d56008"
      },
      "outputs": [
        {
          "name": "stdout",
          "output_type": "stream",
          "text": [
            "Epoch 1/100\n",
            "198/198 [==============================] - 13s 55ms/step - loss: 0.3456 - accuracy: 0.1876 - val_loss: 0.2978 - val_accuracy: 0.1868\n",
            "Epoch 2/100\n",
            "198/198 [==============================] - 11s 53ms/step - loss: 0.2922 - accuracy: 0.2004 - val_loss: 0.2962 - val_accuracy: 0.1868\n",
            "Epoch 3/100\n",
            "198/198 [==============================] - 13s 67ms/step - loss: 0.2905 - accuracy: 0.2004 - val_loss: 0.2942 - val_accuracy: 0.1868\n",
            "Epoch 4/100\n",
            "198/198 [==============================] - 11s 55ms/step - loss: 0.2869 - accuracy: 0.2052 - val_loss: 0.2867 - val_accuracy: 0.2381\n",
            "Epoch 5/100\n",
            "198/198 [==============================] - 11s 54ms/step - loss: 0.2798 - accuracy: 0.2188 - val_loss: 0.2801 - val_accuracy: 0.1906\n",
            "Epoch 6/100\n",
            "198/198 [==============================] - 11s 54ms/step - loss: 0.2756 - accuracy: 0.2250 - val_loss: 0.2761 - val_accuracy: 0.2014\n",
            "Epoch 7/100\n",
            "198/198 [==============================] - 11s 55ms/step - loss: 0.2719 - accuracy: 0.2218 - val_loss: 0.2716 - val_accuracy: 0.2261\n",
            "Epoch 8/100\n",
            "198/198 [==============================] - 11s 57ms/step - loss: 0.2668 - accuracy: 0.2389 - val_loss: 0.2650 - val_accuracy: 0.2609\n",
            "Epoch 9/100\n",
            "198/198 [==============================] - 11s 54ms/step - loss: 0.2621 - accuracy: 0.2696 - val_loss: 0.2614 - val_accuracy: 0.2736\n",
            "Epoch 10/100\n",
            "198/198 [==============================] - 11s 54ms/step - loss: 0.2587 - accuracy: 0.2658 - val_loss: 0.2584 - val_accuracy: 0.3382\n",
            "Epoch 11/100\n",
            "198/198 [==============================] - 11s 55ms/step - loss: 0.2561 - accuracy: 0.2753 - val_loss: 0.2552 - val_accuracy: 0.3034\n",
            "Epoch 12/100\n",
            "198/198 [==============================] - 11s 54ms/step - loss: 0.2540 - accuracy: 0.2851 - val_loss: 0.2543 - val_accuracy: 0.2926\n",
            "Epoch 13/100\n",
            "198/198 [==============================] - 11s 55ms/step - loss: 0.2520 - accuracy: 0.2880 - val_loss: 0.2522 - val_accuracy: 0.3084\n",
            "Epoch 14/100\n",
            "198/198 [==============================] - 11s 54ms/step - loss: 0.2505 - accuracy: 0.3003 - val_loss: 0.2510 - val_accuracy: 0.3027\n",
            "Epoch 15/100\n",
            "198/198 [==============================] - 11s 56ms/step - loss: 0.2488 - accuracy: 0.3003 - val_loss: 0.2489 - val_accuracy: 0.3192\n",
            "Epoch 16/100\n",
            "198/198 [==============================] - 11s 53ms/step - loss: 0.2477 - accuracy: 0.3054 - val_loss: 0.2477 - val_accuracy: 0.3325\n",
            "Epoch 17/100\n",
            "198/198 [==============================] - 11s 54ms/step - loss: 0.2459 - accuracy: 0.3067 - val_loss: 0.2454 - val_accuracy: 0.3268\n",
            "Epoch 18/100\n",
            "198/198 [==============================] - 11s 55ms/step - loss: 0.2441 - accuracy: 0.3165 - val_loss: 0.2469 - val_accuracy: 0.3515\n",
            "Epoch 19/100\n",
            "198/198 [==============================] - 11s 54ms/step - loss: 0.2436 - accuracy: 0.3152 - val_loss: 0.2440 - val_accuracy: 0.3395\n",
            "Epoch 20/100\n",
            "198/198 [==============================] - 11s 54ms/step - loss: 0.2417 - accuracy: 0.3206 - val_loss: 0.2425 - val_accuracy: 0.3224\n",
            "Epoch 21/100\n",
            "198/198 [==============================] - 10s 53ms/step - loss: 0.2401 - accuracy: 0.3258 - val_loss: 0.2423 - val_accuracy: 0.3160\n",
            "Epoch 22/100\n",
            "198/198 [==============================] - 10s 51ms/step - loss: 0.2402 - accuracy: 0.3214 - val_loss: 0.2411 - val_accuracy: 0.3363\n",
            "Epoch 23/100\n",
            "198/198 [==============================] - 11s 54ms/step - loss: 0.2394 - accuracy: 0.3288 - val_loss: 0.2409 - val_accuracy: 0.3597\n",
            "Epoch 24/100\n",
            "198/198 [==============================] - 11s 54ms/step - loss: 0.2387 - accuracy: 0.3334 - val_loss: 0.2409 - val_accuracy: 0.3243\n",
            "Epoch 25/100\n",
            "198/198 [==============================] - 11s 57ms/step - loss: 0.2381 - accuracy: 0.3349 - val_loss: 0.2405 - val_accuracy: 0.3205\n",
            "Epoch 26/100\n",
            "198/198 [==============================] - 11s 54ms/step - loss: 0.2373 - accuracy: 0.3306 - val_loss: 0.2402 - val_accuracy: 0.3401\n",
            "Epoch 27/100\n",
            "198/198 [==============================] - 11s 54ms/step - loss: 0.2366 - accuracy: 0.3287 - val_loss: 0.2432 - val_accuracy: 0.2901\n",
            "Epoch 28/100\n",
            "198/198 [==============================] - 11s 53ms/step - loss: 0.2355 - accuracy: 0.3369 - val_loss: 0.2381 - val_accuracy: 0.3331\n",
            "Epoch 29/100\n",
            "198/198 [==============================] - 11s 55ms/step - loss: 0.2352 - accuracy: 0.3279 - val_loss: 0.2389 - val_accuracy: 0.3319\n",
            "Epoch 30/100\n",
            "198/198 [==============================] - 11s 54ms/step - loss: 0.2356 - accuracy: 0.3339 - val_loss: 0.2375 - val_accuracy: 0.3255\n",
            "Epoch 31/100\n",
            "198/198 [==============================] - 10s 53ms/step - loss: 0.2343 - accuracy: 0.3315 - val_loss: 0.2370 - val_accuracy: 0.3395\n",
            "Epoch 32/100\n",
            "198/198 [==============================] - 11s 53ms/step - loss: 0.2334 - accuracy: 0.3326 - val_loss: 0.2362 - val_accuracy: 0.3490\n",
            "Epoch 33/100\n",
            "198/198 [==============================] - 11s 54ms/step - loss: 0.2336 - accuracy: 0.3303 - val_loss: 0.2372 - val_accuracy: 0.3243\n",
            "Epoch 34/100\n",
            "198/198 [==============================] - 11s 54ms/step - loss: 0.2327 - accuracy: 0.3406 - val_loss: 0.2380 - val_accuracy: 0.2894\n",
            "Epoch 35/100\n",
            "198/198 [==============================] - 11s 54ms/step - loss: 0.2324 - accuracy: 0.3290 - val_loss: 0.2354 - val_accuracy: 0.3407\n",
            "Epoch 36/100\n",
            "198/198 [==============================] - 11s 55ms/step - loss: 0.2319 - accuracy: 0.3402 - val_loss: 0.2369 - val_accuracy: 0.3338\n",
            "Epoch 37/100\n",
            "198/198 [==============================] - 11s 54ms/step - loss: 0.2314 - accuracy: 0.3309 - val_loss: 0.2363 - val_accuracy: 0.3452\n",
            "Epoch 38/100\n",
            "198/198 [==============================] - 11s 54ms/step - loss: 0.2315 - accuracy: 0.3322 - val_loss: 0.2356 - val_accuracy: 0.3274\n"
          ]
        },
        {
          "data": {
            "text/plain": [
              "<keras.src.callbacks.History at 0x79070d961180>"
            ]
          },
          "execution_count": 219,
          "metadata": {},
          "output_type": "execute_result"
        }
      ],
      "source": [
        "#create search space code\n",
        "\n",
        "from keras.callbacks import EarlyStopping\n",
        "import numpy as np\n",
        "import tensorflow as tf\n",
        "from tensorflow import keras\n",
        "from keras.preprocessing.text import Tokenizer\n",
        "from keras.preprocessing.sequence import pad_sequences\n",
        "from keras.models import Sequential\n",
        "from tensorflow.keras.layers import Input, Embedding, GRU, Dense\n",
        "from sklearn.model_selection import train_test_split\n",
        "import nltk\n",
        "from gensim import models\n",
        "\n",
        "early_stopping = EarlyStopping(monitor='val_loss', patience=3, restore_best_weights=True)\n",
        "\n",
        "# Custom preprocess function (if needed)\n",
        "def preprocess(data):\n",
        "   # Your text cleaning function here\n",
        "   stop_words = set(stopwords.words('english'))\n",
        "   data.translate(str.maketrans('', '', string.punctuation)).lower()\n",
        "   [word for word in word_tokenize(data) if word.isalpha() and word not in stop_words]\n",
        "   return data\n",
        "\n",
        "X = dataTraining['plot'].apply(preprocess).values\n",
        "\n",
        "# Tokenize text data\n",
        "tokenizer = Tokenizer()\n",
        "tokenizer.fit_on_texts(X)\n",
        "sequences = tokenizer.texts_to_sequences(X)\n",
        "\n",
        "# Pad sequences\n",
        "max_sequence_length = 100  # Choose an appropriate sequence length\n",
        "padded_sequences = pad_sequences(sequences, maxlen=max_sequence_length, truncating='post')  # Truncate longer sequences\n",
        "\n",
        "# Create embedding matrix\n",
        "word_index = tokenizer.word_index\n",
        "num_words = len(word_index) + 1\n",
        "sample_embedding = glove_model.transform(['sample'])[0] # for finding the dimension of the embedding model we are working with\n",
        "embedding_dim = len(sample_embedding)\n",
        "embedding_matrix = np.zeros((num_words, embedding_dim))\n",
        "\n",
        "for word, i in word_index.items():\n",
        "    if word in glove_model.model.key_to_index:\n",
        "        embedding_matrix[i] = glove_model.transform([word])[0]\n",
        "\n",
        "X_train, X_test, y_train, y_test = train_test_split(np.array(padded_sequences), y_genres, test_size=0.2, random_state=42)\n",
        "\n",
        "\n",
        "# Define GRU model\n",
        "model = Sequential()\n",
        "model.add(Embedding(num_words, embedding_dim, weights=[embedding_matrix], input_length=max_sequence_length, trainable=False))\n",
        "model.add(GRU(units=32, dropout=0.2, recurrent_dropout=0.2))\n",
        "model.add(Dense(len(le.classes_), activation=\"sigmoid\"))\n",
        "\n",
        "# Compile model\n",
        "model.compile(loss='binary_crossentropy', optimizer='adam', metrics=['accuracy'])\n",
        "\n",
        "# Train model\n",
        "model.fit(X_train, y_train, epochs=100, batch_size=32, validation_data=(X_test, y_test), callbacks=[early_stopping])\n"
      ]
    },
    {
      "cell_type": "markdown",
      "metadata": {
        "id": "8zTMN1UsugZA"
      },
      "source": [
        "By epoch 38 , early stopping called.. \\\n",
        "Epoch 38/100\n",
        "198/198 [==============================] - 11s 54ms/step - loss: 0.2315 - accuracy: 0.3322 - val_loss: 0.2356 - val_accuracy: 0.3274"
      ]
    },
    {
      "cell_type": "code",
      "execution_count": null,
      "metadata": {
        "colab": {
          "base_uri": "https://localhost:8080/"
        },
        "id": "6K4jkgcixm-G",
        "outputId": "83394b5e-89dd-4cef-ae12-4f46ef32c74b"
      },
      "outputs": [
        {
          "name": "stdout",
          "output_type": "stream",
          "text": [
            "Collecting keras-tuner\n",
            "  Downloading keras_tuner-1.4.7-py3-none-any.whl (129 kB)\n",
            "\u001b[2K     \u001b[90m━━━━━━━━━━━━━━━━━━━━━━━━━━━━━━━━━━━━━━━━\u001b[0m \u001b[32m129.1/129.1 kB\u001b[0m \u001b[31m1.4 MB/s\u001b[0m eta \u001b[36m0:00:00\u001b[0m\n",
            "\u001b[?25hRequirement already satisfied: keras in /usr/local/lib/python3.10/dist-packages (from keras-tuner) (2.15.0)\n",
            "Requirement already satisfied: packaging in /usr/local/lib/python3.10/dist-packages (from keras-tuner) (24.0)\n",
            "Requirement already satisfied: requests in /usr/local/lib/python3.10/dist-packages (from keras-tuner) (2.31.0)\n",
            "Collecting kt-legacy (from keras-tuner)\n",
            "  Downloading kt_legacy-1.0.5-py3-none-any.whl (9.6 kB)\n",
            "Requirement already satisfied: charset-normalizer<4,>=2 in /usr/local/lib/python3.10/dist-packages (from requests->keras-tuner) (3.3.2)\n",
            "Requirement already satisfied: idna<4,>=2.5 in /usr/local/lib/python3.10/dist-packages (from requests->keras-tuner) (3.6)\n",
            "Requirement already satisfied: urllib3<3,>=1.21.1 in /usr/local/lib/python3.10/dist-packages (from requests->keras-tuner) (2.0.7)\n",
            "Requirement already satisfied: certifi>=2017.4.17 in /usr/local/lib/python3.10/dist-packages (from requests->keras-tuner) (2024.2.2)\n",
            "Installing collected packages: kt-legacy, keras-tuner\n",
            "Successfully installed keras-tuner-1.4.7 kt-legacy-1.0.5\n"
          ]
        }
      ],
      "source": [
        "!pip install keras-tuner"
      ]
    },
    {
      "cell_type": "markdown",
      "metadata": {
        "id": "U4QmWyzXL8zV"
      },
      "source": [
        "## Keras Tuner for Initial GRU Architecture"
      ]
    },
    {
      "cell_type": "code",
      "execution_count": null,
      "metadata": {
        "colab": {
          "base_uri": "https://localhost:8080/"
        },
        "id": "OgqtIE4yux_V",
        "outputId": "45454b8a-9502-4226-c05a-bdb21f630cca"
      },
      "outputs": [
        {
          "name": "stdout",
          "output_type": "stream",
          "text": [
            "Trial 87 Complete [00h 00m 28s]\n",
            "val_accuracy: 0.18682710826396942\n",
            "\n",
            "Best val_accuracy So Far: 0.2653578221797943\n",
            "Total elapsed time: 00h 41m 16s\n"
          ]
        }
      ],
      "source": [
        "import keras_tuner as kt\n",
        "from tensorflow.keras.callbacks import EarlyStopping\n",
        "import numpy as np\n",
        "import tensorflow as tf\n",
        "from tensorflow import keras\n",
        "from keras.preprocessing.text import Tokenizer\n",
        "from keras.preprocessing.sequence import pad_sequences\n",
        "from keras.models import Sequential\n",
        "from tensorflow.keras.layers import Input, Embedding, GRU, Dense\n",
        "from sklearn.model_selection import train_test_split\n",
        "import nltk\n",
        "from gensim import models\n",
        "\n",
        "early_stopping = EarlyStopping(monitor='val_loss', patience=3, restore_best_weights=True)\n",
        "\n",
        "# Custom preprocess function (if needed)\n",
        "def preprocess(data):\n",
        "   # Your text cleaning function here\n",
        "   stop_words = set(stopwords.words('english'))\n",
        "   data.translate(str.maketrans('', '', string.punctuation)).lower()\n",
        "   [word for word in word_tokenize(data) if word.isalpha() and word not in stop_words]\n",
        "   return data\n",
        "\n",
        "X = dataTraining['plot'].apply(preprocess).values\n",
        "\n",
        "# Tokenize text data\n",
        "tokenizer = Tokenizer()\n",
        "tokenizer.fit_on_texts(X)\n",
        "sequences = tokenizer.texts_to_sequences(X)\n",
        "\n",
        "# Pad sequences\n",
        "max_sequence_length = 100  # Choose an appropriate sequence length\n",
        "padded_sequences = pad_sequences(sequences, maxlen=max_sequence_length, truncating='post')  # Truncate longer sequences\n",
        "\n",
        "# Create embedding matrix\n",
        "word_index = tokenizer.word_index\n",
        "num_words = len(word_index) + 1\n",
        "sample_embedding = glove_model.transform(['sample'])[0]\n",
        "embedding_dim = len(sample_embedding)\n",
        "embedding_matrix = np.zeros((num_words, embedding_dim))\n",
        "\n",
        "for word, i in word_index.items():\n",
        "    if word in glove_model.model.key_to_index:\n",
        "        embedding_matrix[i] = glove_model.transform([word])[0]\n",
        "\n",
        "X_train, X_test, y_train, y_test = train_test_split(np.array(padded_sequences), y_genres, test_size=0.2, random_state=42)\n",
        "\n",
        "\n",
        "# Define a function to create the GRU model\n",
        "def model_builder(hp):\n",
        "    model = Sequential()\n",
        "    model.add(Embedding(num_words, embedding_dim, weights=[embedding_matrix], input_length=max_sequence_length, trainable=False))\n",
        "\n",
        "    # Define the GRU layer\n",
        "    hp_units = hp.Int('units', min_value=16, max_value=64, step=16)\n",
        "    hp_dropout = hp.Choice('dropout', values=[0.0, 0.1, 0.2, 0.3, 0.4])\n",
        "    hp_recurrent_dropout = hp.Choice('recurrent_dropout', values=[0.0, 0.1, 0.2, 0.3, 0.4])\n",
        "    model.add(GRU(units=hp_units, dropout=hp_dropout, recurrent_dropout=hp_recurrent_dropout))\n",
        "\n",
        "    # Output layer\n",
        "    model.add(Dense(len(le.classes_), activation=\"sigmoid\"))\n",
        "\n",
        "    model.compile(\n",
        "        optimizer='adam',\n",
        "        loss='binary_crossentropy',\n",
        "        metrics=['accuracy']\n",
        "    )\n",
        "    return model\n",
        "\n",
        "# Set up the tuner\n",
        "tuner = kt.Hyperband(\n",
        "    model_builder,\n",
        "    objective='val_accuracy',\n",
        "    max_epochs=100,\n",
        "    factor=3,\n",
        "    directory='my_dir',\n",
        "    project_name='gru_tuning'\n",
        ")\n",
        "\n",
        "\n",
        "# Run the tuner\n",
        "tuner.search(\n",
        "    X_train,\n",
        "    y_train,\n",
        "    epochs=100,\n",
        "    batch_size=32,\n",
        "    validation_data=(X_test, y_test),\n",
        "    callbacks=[early_stopping],\n",
        "    verbose=1\n",
        ")\n",
        "\n",
        "# Get the best hyperparameters\n",
        "best_hps=tuner.get_best_hyperparameters(num_trials=1)[0]"
      ]
    },
    {
      "cell_type": "code",
      "execution_count": null,
      "metadata": {
        "colab": {
          "base_uri": "https://localhost:8080/"
        },
        "id": "g48lj4_0790h",
        "outputId": "ea45e9c3-466c-47b7-b9d9-5bdfa2edcfd3"
      },
      "outputs": [
        {
          "data": {
            "text/plain": [
              "<keras_tuner.src.engine.hyperparameters.hyperparameters.HyperParameters at 0x7906b8f184f0>"
            ]
          },
          "execution_count": 226,
          "metadata": {},
          "output_type": "execute_result"
        }
      ],
      "source": [
        "tuner.get_best_hyperparameters(num_trials=1)[0]"
      ]
    },
    {
      "cell_type": "code",
      "execution_count": null,
      "metadata": {
        "colab": {
          "base_uri": "https://localhost:8080/"
        },
        "id": "skJKsVMG-jYN",
        "outputId": "957f2c02-b951-4c5a-ed32-f6c0a6c44b46"
      },
      "outputs": [
        {
          "name": "stdout",
          "output_type": "stream",
          "text": [
            "{'units': 64, 'dropout': 0.4, 'recurrent_dropout': 0.1, 'tuner/epochs': 2, 'tuner/initial_epoch': 0, 'tuner/bracket': 4, 'tuner/round': 0}\n"
          ]
        }
      ],
      "source": [
        "print(best_hps.values)"
      ]
    },
    {
      "cell_type": "markdown",
      "metadata": {
        "id": "DdJjJx8J-yiA"
      },
      "source": [
        "Here is what Keras Tuner gave us:\n",
        "\n",
        "{'units': 64, 'dropout': 0.4, 'recurrent_dropout': 0.1, 'tuner/epochs': 2, 'tuner/initial_epoch': 0, 'tuner/bracket': 4, 'tuner/round': 0}\n"
      ]
    },
    {
      "cell_type": "code",
      "execution_count": null,
      "metadata": {
        "colab": {
          "base_uri": "https://localhost:8080/"
        },
        "id": "0VV2rVUcw0sd",
        "outputId": "b057c485-9f59-489f-fbb6-21b4a2bb0e77"
      },
      "outputs": [
        {
          "name": "stdout",
          "output_type": "stream",
          "text": [
            "Epoch 1/100\n",
            "198/198 [==============================] - 16s 69ms/step - loss: 0.3248 - accuracy: 0.2041 - val_loss: 0.2974 - val_accuracy: 0.1868\n",
            "Epoch 2/100\n",
            "198/198 [==============================] - 13s 67ms/step - loss: 0.2913 - accuracy: 0.2035 - val_loss: 0.2949 - val_accuracy: 0.1868\n",
            "Epoch 3/100\n",
            "198/198 [==============================] - 14s 69ms/step - loss: 0.2873 - accuracy: 0.2076 - val_loss: 0.2886 - val_accuracy: 0.3034\n",
            "Epoch 4/100\n",
            "198/198 [==============================] - 13s 67ms/step - loss: 0.2800 - accuracy: 0.2598 - val_loss: 0.2809 - val_accuracy: 0.2153\n",
            "Epoch 5/100\n",
            "198/198 [==============================] - 24s 120ms/step - loss: 0.2731 - accuracy: 0.2630 - val_loss: 0.2704 - val_accuracy: 0.2527\n",
            "Epoch 6/100\n",
            "198/198 [==============================] - 18s 91ms/step - loss: 0.2664 - accuracy: 0.2714 - val_loss: 0.2648 - val_accuracy: 0.3287\n",
            "Epoch 7/100\n",
            "198/198 [==============================] - 14s 70ms/step - loss: 0.2621 - accuracy: 0.2747 - val_loss: 0.2609 - val_accuracy: 0.3059\n",
            "Epoch 8/100\n",
            "198/198 [==============================] - 13s 67ms/step - loss: 0.2579 - accuracy: 0.2905 - val_loss: 0.2585 - val_accuracy: 0.2837\n",
            "Epoch 9/100\n",
            "198/198 [==============================] - 14s 72ms/step - loss: 0.2561 - accuracy: 0.2962 - val_loss: 0.2529 - val_accuracy: 0.3046\n",
            "Epoch 10/100\n",
            "198/198 [==============================] - 13s 66ms/step - loss: 0.2526 - accuracy: 0.3003 - val_loss: 0.2507 - val_accuracy: 0.3445\n",
            "Epoch 11/100\n",
            "198/198 [==============================] - 13s 66ms/step - loss: 0.2500 - accuracy: 0.3089 - val_loss: 0.2484 - val_accuracy: 0.3287\n",
            "Epoch 12/100\n",
            "198/198 [==============================] - 14s 69ms/step - loss: 0.2475 - accuracy: 0.3138 - val_loss: 0.2470 - val_accuracy: 0.2958\n",
            "Epoch 13/100\n",
            "198/198 [==============================] - 13s 68ms/step - loss: 0.2456 - accuracy: 0.3152 - val_loss: 0.2459 - val_accuracy: 0.3097\n",
            "Epoch 14/100\n",
            "198/198 [==============================] - 13s 67ms/step - loss: 0.2440 - accuracy: 0.3140 - val_loss: 0.2467 - val_accuracy: 0.3382\n",
            "Epoch 15/100\n",
            "198/198 [==============================] - 13s 66ms/step - loss: 0.2431 - accuracy: 0.3182 - val_loss: 0.2426 - val_accuracy: 0.3439\n",
            "Epoch 16/100\n",
            "198/198 [==============================] - 14s 70ms/step - loss: 0.2414 - accuracy: 0.3225 - val_loss: 0.2428 - val_accuracy: 0.3116\n",
            "Epoch 17/100\n",
            "198/198 [==============================] - 14s 69ms/step - loss: 0.2403 - accuracy: 0.3201 - val_loss: 0.2411 - val_accuracy: 0.3211\n",
            "Epoch 18/100\n",
            "198/198 [==============================] - 13s 66ms/step - loss: 0.2387 - accuracy: 0.3184 - val_loss: 0.2394 - val_accuracy: 0.3395\n",
            "Epoch 19/100\n",
            "198/198 [==============================] - 13s 67ms/step - loss: 0.2379 - accuracy: 0.3125 - val_loss: 0.2406 - val_accuracy: 0.3179\n",
            "Epoch 20/100\n",
            "198/198 [==============================] - 13s 66ms/step - loss: 0.2383 - accuracy: 0.3151 - val_loss: 0.2384 - val_accuracy: 0.3439\n",
            "Epoch 21/100\n",
            "198/198 [==============================] - 13s 67ms/step - loss: 0.2366 - accuracy: 0.3235 - val_loss: 0.2395 - val_accuracy: 0.3059\n",
            "Epoch 22/100\n",
            "198/198 [==============================] - 13s 68ms/step - loss: 0.2362 - accuracy: 0.3167 - val_loss: 0.2380 - val_accuracy: 0.3509\n",
            "Epoch 23/100\n",
            "198/198 [==============================] - 14s 69ms/step - loss: 0.2341 - accuracy: 0.3271 - val_loss: 0.2400 - val_accuracy: 0.3325\n",
            "Epoch 24/100\n",
            "198/198 [==============================] - 13s 67ms/step - loss: 0.2345 - accuracy: 0.3233 - val_loss: 0.2382 - val_accuracy: 0.3287\n",
            "Epoch 25/100\n",
            "198/198 [==============================] - 13s 67ms/step - loss: 0.2332 - accuracy: 0.3307 - val_loss: 0.2411 - val_accuracy: 0.2850\n"
          ]
        }
      ],
      "source": [
        "# Build the model with the best hyperparameters and train it\n",
        "model = tuner.hypermodel.build(best_hps)\n",
        "history = model.fit(\n",
        "    X_train,\n",
        "    y_train,\n",
        "    epochs=100,\n",
        "    batch_size=32,\n",
        "    validation_data=(X_test, y_test),\n",
        "    callbacks=[early_stopping],\n",
        "    verbose=1\n",
        ")\n"
      ]
    },
    {
      "cell_type": "markdown",
      "metadata": {
        "id": "iESan5S4-6la"
      },
      "source": [
        "Re-run the full 100 epochs with a smaller learning rate and updated architecture"
      ]
    },
    {
      "cell_type": "code",
      "execution_count": null,
      "metadata": {
        "colab": {
          "base_uri": "https://localhost:8080/"
        },
        "id": "4kysA_MW_EHW",
        "outputId": "41aff4cd-11d3-4d93-ccde-2e90383dbebe"
      },
      "outputs": [
        {
          "name": "stderr",
          "output_type": "stream",
          "text": [
            "WARNING:absl:`lr` is deprecated in Keras optimizer, please use `learning_rate` or use the legacy optimizer, e.g.,tf.keras.optimizers.legacy.Adam.\n"
          ]
        },
        {
          "name": "stdout",
          "output_type": "stream",
          "text": [
            "Epoch 1/100\n",
            "395/395 [==============================] - 26s 62ms/step - loss: 0.3117 - accuracy: 0.1984 - val_loss: 0.2961 - val_accuracy: 0.1906\n",
            "Epoch 2/100\n",
            "395/395 [==============================] - 24s 62ms/step - loss: 0.2892 - accuracy: 0.2122 - val_loss: 0.2904 - val_accuracy: 0.1868\n",
            "Epoch 3/100\n",
            "395/395 [==============================] - 24s 61ms/step - loss: 0.2800 - accuracy: 0.2407 - val_loss: 0.2780 - val_accuracy: 0.2502\n",
            "Epoch 4/100\n",
            "395/395 [==============================] - 25s 62ms/step - loss: 0.2685 - accuracy: 0.2628 - val_loss: 0.2628 - val_accuracy: 0.2932\n",
            "Epoch 5/100\n",
            "395/395 [==============================] - 24s 61ms/step - loss: 0.2608 - accuracy: 0.2832 - val_loss: 0.2559 - val_accuracy: 0.2692\n",
            "Epoch 6/100\n",
            "395/395 [==============================] - 24s 61ms/step - loss: 0.2564 - accuracy: 0.2954 - val_loss: 0.2528 - val_accuracy: 0.3445\n",
            "Epoch 7/100\n",
            "395/395 [==============================] - 24s 62ms/step - loss: 0.2515 - accuracy: 0.3003 - val_loss: 0.2492 - val_accuracy: 0.3255\n",
            "Epoch 8/100\n",
            "395/395 [==============================] - 25s 62ms/step - loss: 0.2474 - accuracy: 0.3089 - val_loss: 0.2474 - val_accuracy: 0.2825\n",
            "Epoch 9/100\n",
            "395/395 [==============================] - 24s 61ms/step - loss: 0.2463 - accuracy: 0.3073 - val_loss: 0.2449 - val_accuracy: 0.3021\n",
            "Epoch 10/100\n",
            "395/395 [==============================] - 25s 62ms/step - loss: 0.2436 - accuracy: 0.3159 - val_loss: 0.2463 - val_accuracy: 0.2742\n",
            "Epoch 11/100\n",
            "395/395 [==============================] - 24s 61ms/step - loss: 0.2420 - accuracy: 0.3132 - val_loss: 0.2416 - val_accuracy: 0.3477\n",
            "Epoch 12/100\n",
            "395/395 [==============================] - 24s 62ms/step - loss: 0.2410 - accuracy: 0.3182 - val_loss: 0.2414 - val_accuracy: 0.3268\n",
            "Epoch 13/100\n",
            "395/395 [==============================] - 24s 61ms/step - loss: 0.2398 - accuracy: 0.3247 - val_loss: 0.2419 - val_accuracy: 0.3274\n",
            "Epoch 14/100\n",
            "395/395 [==============================] - 24s 62ms/step - loss: 0.2380 - accuracy: 0.3285 - val_loss: 0.2401 - val_accuracy: 0.3439\n",
            "Epoch 15/100\n",
            "395/395 [==============================] - 24s 61ms/step - loss: 0.2368 - accuracy: 0.3216 - val_loss: 0.2386 - val_accuracy: 0.3357\n",
            "Epoch 16/100\n",
            "395/395 [==============================] - 24s 61ms/step - loss: 0.2364 - accuracy: 0.3284 - val_loss: 0.2385 - val_accuracy: 0.3243\n",
            "Epoch 17/100\n",
            "395/395 [==============================] - 25s 63ms/step - loss: 0.2348 - accuracy: 0.3255 - val_loss: 0.2366 - val_accuracy: 0.3274\n",
            "Epoch 18/100\n",
            "395/395 [==============================] - 24s 61ms/step - loss: 0.2340 - accuracy: 0.3279 - val_loss: 0.2388 - val_accuracy: 0.3243\n",
            "Epoch 19/100\n",
            "395/395 [==============================] - 25s 63ms/step - loss: 0.2338 - accuracy: 0.3331 - val_loss: 0.2366 - val_accuracy: 0.3255\n",
            "Epoch 20/100\n",
            "395/395 [==============================] - 25s 62ms/step - loss: 0.2329 - accuracy: 0.3325 - val_loss: 0.2395 - val_accuracy: 0.3122\n",
            "Epoch 21/100\n",
            "395/395 [==============================] - 24s 61ms/step - loss: 0.2321 - accuracy: 0.3344 - val_loss: 0.2366 - val_accuracy: 0.3369\n",
            "Epoch 22/100\n",
            "395/395 [==============================] - 24s 61ms/step - loss: 0.2307 - accuracy: 0.3344 - val_loss: 0.2420 - val_accuracy: 0.2926\n",
            "Epoch 23/100\n",
            "395/395 [==============================] - 25s 62ms/step - loss: 0.2310 - accuracy: 0.3304 - val_loss: 0.2347 - val_accuracy: 0.3515\n",
            "Epoch 24/100\n",
            "395/395 [==============================] - 24s 61ms/step - loss: 0.2311 - accuracy: 0.3319 - val_loss: 0.2356 - val_accuracy: 0.3553\n",
            "Epoch 25/100\n",
            "395/395 [==============================] - 24s 61ms/step - loss: 0.2295 - accuracy: 0.3374 - val_loss: 0.2377 - val_accuracy: 0.3540\n",
            "Epoch 26/100\n",
            "395/395 [==============================] - 25s 63ms/step - loss: 0.2286 - accuracy: 0.3364 - val_loss: 0.2365 - val_accuracy: 0.3395\n",
            "Epoch 27/100\n",
            "395/395 [==============================] - 24s 61ms/step - loss: 0.2282 - accuracy: 0.3393 - val_loss: 0.2346 - val_accuracy: 0.2945\n",
            "Epoch 28/100\n",
            "395/395 [==============================] - 24s 61ms/step - loss: 0.2274 - accuracy: 0.3374 - val_loss: 0.2337 - val_accuracy: 0.3236\n",
            "Epoch 29/100\n",
            "395/395 [==============================] - 25s 62ms/step - loss: 0.2270 - accuracy: 0.3344 - val_loss: 0.2329 - val_accuracy: 0.3287\n",
            "Epoch 30/100\n",
            "395/395 [==============================] - 24s 61ms/step - loss: 0.2269 - accuracy: 0.3345 - val_loss: 0.2346 - val_accuracy: 0.3274\n",
            "Epoch 31/100\n",
            "395/395 [==============================] - 25s 63ms/step - loss: 0.2267 - accuracy: 0.3363 - val_loss: 0.2336 - val_accuracy: 0.3173\n",
            "Epoch 32/100\n",
            "395/395 [==============================] - 25s 63ms/step - loss: 0.2259 - accuracy: 0.3398 - val_loss: 0.2332 - val_accuracy: 0.3249\n",
            "Epoch 33/100\n",
            "395/395 [==============================] - 24s 62ms/step - loss: 0.2243 - accuracy: 0.3402 - val_loss: 0.2343 - val_accuracy: 0.3078\n",
            "Epoch 34/100\n",
            "395/395 [==============================] - 25s 63ms/step - loss: 0.2248 - accuracy: 0.3409 - val_loss: 0.2328 - val_accuracy: 0.3268\n",
            "Epoch 35/100\n",
            "395/395 [==============================] - 24s 62ms/step - loss: 0.2241 - accuracy: 0.3388 - val_loss: 0.2328 - val_accuracy: 0.3236\n",
            "Epoch 36/100\n",
            "395/395 [==============================] - 25s 63ms/step - loss: 0.2232 - accuracy: 0.3466 - val_loss: 0.2360 - val_accuracy: 0.3249\n",
            "Epoch 37/100\n",
            "395/395 [==============================] - 24s 61ms/step - loss: 0.2233 - accuracy: 0.3463 - val_loss: 0.2313 - val_accuracy: 0.3369\n",
            "Epoch 38/100\n",
            "395/395 [==============================] - 25s 63ms/step - loss: 0.2235 - accuracy: 0.3380 - val_loss: 0.2324 - val_accuracy: 0.2856\n",
            "Epoch 39/100\n",
            "395/395 [==============================] - 24s 61ms/step - loss: 0.2222 - accuracy: 0.3372 - val_loss: 0.2304 - val_accuracy: 0.3091\n",
            "Epoch 40/100\n",
            "395/395 [==============================] - 25s 62ms/step - loss: 0.2228 - accuracy: 0.3357 - val_loss: 0.2317 - val_accuracy: 0.3154\n",
            "Epoch 41/100\n",
            "395/395 [==============================] - 25s 63ms/step - loss: 0.2217 - accuracy: 0.3520 - val_loss: 0.2307 - val_accuracy: 0.3065\n",
            "Epoch 42/100\n",
            "395/395 [==============================] - 24s 61ms/step - loss: 0.2214 - accuracy: 0.3382 - val_loss: 0.2322 - val_accuracy: 0.3072\n",
            "Epoch 43/100\n",
            "395/395 [==============================] - 24s 61ms/step - loss: 0.2211 - accuracy: 0.3364 - val_loss: 0.2321 - val_accuracy: 0.3091\n",
            "Epoch 44/100\n",
            "395/395 [==============================] - 25s 62ms/step - loss: 0.2202 - accuracy: 0.3401 - val_loss: 0.2328 - val_accuracy: 0.3078\n",
            "Epoch 45/100\n",
            "395/395 [==============================] - 24s 61ms/step - loss: 0.2205 - accuracy: 0.3345 - val_loss: 0.2316 - val_accuracy: 0.3065\n",
            "Epoch 46/100\n",
            "395/395 [==============================] - 25s 63ms/step - loss: 0.2205 - accuracy: 0.3393 - val_loss: 0.2331 - val_accuracy: 0.2837\n",
            "Epoch 47/100\n",
            "395/395 [==============================] - 24s 61ms/step - loss: 0.2205 - accuracy: 0.3420 - val_loss: 0.2323 - val_accuracy: 0.3141\n",
            "Epoch 48/100\n",
            "395/395 [==============================] - 24s 61ms/step - loss: 0.2208 - accuracy: 0.3439 - val_loss: 0.2318 - val_accuracy: 0.3230\n",
            "Epoch 49/100\n",
            "395/395 [==============================] - 24s 61ms/step - loss: 0.2193 - accuracy: 0.3401 - val_loss: 0.2325 - val_accuracy: 0.2939\n",
            "Epoch 50/100\n",
            "395/395 [==============================] - 26s 66ms/step - loss: 0.2197 - accuracy: 0.3482 - val_loss: 0.2391 - val_accuracy: 0.3129\n",
            "Epoch 51/100\n",
            "395/395 [==============================] - 25s 63ms/step - loss: 0.2196 - accuracy: 0.3402 - val_loss: 0.2312 - val_accuracy: 0.3072\n",
            "Epoch 52/100\n",
            "395/395 [==============================] - 25s 63ms/step - loss: 0.2179 - accuracy: 0.3518 - val_loss: 0.2307 - val_accuracy: 0.3173\n",
            "Epoch 53/100\n",
            "395/395 [==============================] - 24s 61ms/step - loss: 0.2176 - accuracy: 0.3455 - val_loss: 0.2317 - val_accuracy: 0.3103\n",
            "Epoch 54/100\n",
            "395/395 [==============================] - 24s 61ms/step - loss: 0.2176 - accuracy: 0.3471 - val_loss: 0.2329 - val_accuracy: 0.2920\n",
            "Epoch 55/100\n",
            "395/395 [==============================] - 24s 61ms/step - loss: 0.2180 - accuracy: 0.3420 - val_loss: 0.2330 - val_accuracy: 0.3192\n",
            "Epoch 56/100\n",
            "395/395 [==============================] - 25s 63ms/step - loss: 0.2169 - accuracy: 0.3452 - val_loss: 0.2313 - val_accuracy: 0.3205\n",
            "Epoch 57/100\n",
            "395/395 [==============================] - 25s 63ms/step - loss: 0.2171 - accuracy: 0.3466 - val_loss: 0.2320 - val_accuracy: 0.3287\n",
            "Epoch 58/100\n",
            "395/395 [==============================] - 25s 63ms/step - loss: 0.2159 - accuracy: 0.3482 - val_loss: 0.2322 - val_accuracy: 0.3211\n",
            "Epoch 59/100\n",
            "395/395 [==============================] - 24s 62ms/step - loss: 0.2165 - accuracy: 0.3357 - val_loss: 0.2317 - val_accuracy: 0.3255\n",
            "Epoch 60/100\n",
            "395/395 [==============================] - 24s 62ms/step - loss: 0.2158 - accuracy: 0.3429 - val_loss: 0.2337 - val_accuracy: 0.2939\n",
            "Epoch 61/100\n",
            "395/395 [==============================] - 24s 62ms/step - loss: 0.2159 - accuracy: 0.3537 - val_loss: 0.2338 - val_accuracy: 0.2888\n",
            "Epoch 62/100\n",
            "395/395 [==============================] - 26s 65ms/step - loss: 0.2168 - accuracy: 0.3402 - val_loss: 0.2320 - val_accuracy: 0.3224\n",
            "Epoch 63/100\n",
            "395/395 [==============================] - 24s 62ms/step - loss: 0.2168 - accuracy: 0.3428 - val_loss: 0.2348 - val_accuracy: 0.3027\n",
            "Epoch 64/100\n",
            "395/395 [==============================] - 24s 62ms/step - loss: 0.2158 - accuracy: 0.3433 - val_loss: 0.2349 - val_accuracy: 0.2983\n",
            "Epoch 65/100\n",
            "395/395 [==============================] - 24s 61ms/step - loss: 0.2147 - accuracy: 0.3535 - val_loss: 0.2320 - val_accuracy: 0.3015\n",
            "Epoch 66/100\n",
            "395/395 [==============================] - 24s 62ms/step - loss: 0.2150 - accuracy: 0.3428 - val_loss: 0.2338 - val_accuracy: 0.3224\n",
            "Epoch 67/100\n",
            "395/395 [==============================] - 24s 61ms/step - loss: 0.2145 - accuracy: 0.3537 - val_loss: 0.2313 - val_accuracy: 0.3072\n",
            "Epoch 68/100\n",
            "395/395 [==============================] - 26s 66ms/step - loss: 0.2162 - accuracy: 0.3518 - val_loss: 0.2327 - val_accuracy: 0.2983\n",
            "Epoch 69/100\n",
            "395/395 [==============================] - 24s 62ms/step - loss: 0.2151 - accuracy: 0.3504 - val_loss: 0.2330 - val_accuracy: 0.2850\n",
            "Epoch 70/100\n",
            "395/395 [==============================] - 24s 62ms/step - loss: 0.2144 - accuracy: 0.3515 - val_loss: 0.2324 - val_accuracy: 0.3116\n",
            "Epoch 71/100\n",
            "395/395 [==============================] - 24s 62ms/step - loss: 0.2147 - accuracy: 0.3531 - val_loss: 0.2318 - val_accuracy: 0.3008\n",
            "Epoch 72/100\n",
            "395/395 [==============================] - 25s 63ms/step - loss: 0.2145 - accuracy: 0.3442 - val_loss: 0.2329 - val_accuracy: 0.3021\n",
            "Epoch 73/100\n",
            "395/395 [==============================] - 25s 63ms/step - loss: 0.2139 - accuracy: 0.3421 - val_loss: 0.2330 - val_accuracy: 0.3281\n",
            "Epoch 74/100\n",
            "395/395 [==============================] - 25s 63ms/step - loss: 0.2128 - accuracy: 0.3452 - val_loss: 0.2332 - val_accuracy: 0.3122\n",
            "Epoch 75/100\n",
            "395/395 [==============================] - 24s 62ms/step - loss: 0.2131 - accuracy: 0.3453 - val_loss: 0.2317 - val_accuracy: 0.3211\n",
            "Epoch 76/100\n",
            "395/395 [==============================] - 25s 63ms/step - loss: 0.2138 - accuracy: 0.3399 - val_loss: 0.2299 - val_accuracy: 0.3230\n",
            "Epoch 77/100\n",
            "395/395 [==============================] - 24s 62ms/step - loss: 0.2132 - accuracy: 0.3437 - val_loss: 0.2312 - val_accuracy: 0.3002\n",
            "Epoch 78/100\n",
            "395/395 [==============================] - 25s 63ms/step - loss: 0.2132 - accuracy: 0.3480 - val_loss: 0.2306 - val_accuracy: 0.3236\n",
            "Epoch 79/100\n",
            "395/395 [==============================] - 25s 63ms/step - loss: 0.2136 - accuracy: 0.3491 - val_loss: 0.2334 - val_accuracy: 0.3268\n",
            "Epoch 80/100\n",
            "395/395 [==============================] - 25s 63ms/step - loss: 0.2123 - accuracy: 0.3493 - val_loss: 0.2339 - val_accuracy: 0.2951\n",
            "Epoch 81/100\n",
            "395/395 [==============================] - 24s 62ms/step - loss: 0.2124 - accuracy: 0.3483 - val_loss: 0.2323 - val_accuracy: 0.3148\n",
            "Epoch 82/100\n",
            "395/395 [==============================] - 24s 62ms/step - loss: 0.2120 - accuracy: 0.3434 - val_loss: 0.2320 - val_accuracy: 0.3129\n",
            "Epoch 83/100\n",
            "395/395 [==============================] - 24s 62ms/step - loss: 0.2121 - accuracy: 0.3490 - val_loss: 0.2331 - val_accuracy: 0.3103\n",
            "Epoch 84/100\n",
            "395/395 [==============================] - 25s 62ms/step - loss: 0.2116 - accuracy: 0.3493 - val_loss: 0.2327 - val_accuracy: 0.3179\n",
            "Epoch 85/100\n",
            "395/395 [==============================] - 25s 64ms/step - loss: 0.2125 - accuracy: 0.3459 - val_loss: 0.2319 - val_accuracy: 0.3192\n",
            "Epoch 86/100\n",
            "395/395 [==============================] - 26s 65ms/step - loss: 0.2121 - accuracy: 0.3417 - val_loss: 0.2342 - val_accuracy: 0.2932\n",
            "Epoch 87/100\n",
            "395/395 [==============================] - 25s 63ms/step - loss: 0.2116 - accuracy: 0.3551 - val_loss: 0.2318 - val_accuracy: 0.2939\n",
            "Epoch 88/100\n",
            "395/395 [==============================] - 25s 63ms/step - loss: 0.2106 - accuracy: 0.3461 - val_loss: 0.2329 - val_accuracy: 0.3129\n",
            "Epoch 89/100\n",
            "395/395 [==============================] - 24s 62ms/step - loss: 0.2113 - accuracy: 0.3415 - val_loss: 0.2331 - val_accuracy: 0.3211\n",
            "Epoch 90/100\n",
            "395/395 [==============================] - 24s 62ms/step - loss: 0.2102 - accuracy: 0.3474 - val_loss: 0.2329 - val_accuracy: 0.3008\n",
            "Epoch 91/100\n",
            "395/395 [==============================] - 24s 62ms/step - loss: 0.2118 - accuracy: 0.3466 - val_loss: 0.2323 - val_accuracy: 0.3084\n",
            "Epoch 92/100\n",
            "395/395 [==============================] - 25s 63ms/step - loss: 0.2112 - accuracy: 0.3439 - val_loss: 0.2352 - val_accuracy: 0.2926\n",
            "Epoch 93/100\n",
            "395/395 [==============================] - 24s 62ms/step - loss: 0.2103 - accuracy: 0.3529 - val_loss: 0.2333 - val_accuracy: 0.2913\n",
            "Epoch 94/100\n",
            "395/395 [==============================] - 25s 63ms/step - loss: 0.2096 - accuracy: 0.3572 - val_loss: 0.2321 - val_accuracy: 0.3122\n",
            "Epoch 95/100\n",
            "395/395 [==============================] - 24s 61ms/step - loss: 0.2110 - accuracy: 0.3497 - val_loss: 0.2319 - val_accuracy: 0.3192\n",
            "Epoch 96/100\n",
            "395/395 [==============================] - 24s 62ms/step - loss: 0.2103 - accuracy: 0.3531 - val_loss: 0.2346 - val_accuracy: 0.3110\n",
            "Epoch 97/100\n",
            "395/395 [==============================] - 25s 63ms/step - loss: 0.2114 - accuracy: 0.3554 - val_loss: 0.2364 - val_accuracy: 0.3110\n",
            "Epoch 98/100\n",
            "395/395 [==============================] - 25s 63ms/step - loss: 0.2101 - accuracy: 0.3488 - val_loss: 0.2326 - val_accuracy: 0.3091\n",
            "Epoch 99/100\n",
            "395/395 [==============================] - 25s 63ms/step - loss: 0.2095 - accuracy: 0.3471 - val_loss: 0.2344 - val_accuracy: 0.2964\n",
            "Epoch 100/100\n",
            "395/395 [==============================] - 25s 63ms/step - loss: 0.2102 - accuracy: 0.3450 - val_loss: 0.2341 - val_accuracy: 0.2945\n"
          ]
        },
        {
          "data": {
            "text/plain": [
              "<keras.src.callbacks.History at 0x7906fb032bc0>"
            ]
          },
          "execution_count": 229,
          "metadata": {},
          "output_type": "execute_result"
        }
      ],
      "source": [
        "#create search space code\n",
        "\n",
        "from keras.callbacks import EarlyStopping\n",
        "import numpy as np\n",
        "import tensorflow as tf\n",
        "from tensorflow import keras\n",
        "from keras.preprocessing.text import Tokenizer\n",
        "from keras.preprocessing.sequence import pad_sequences\n",
        "from keras.models import Sequential\n",
        "from tensorflow.keras.layers import Input, Embedding, GRU, Dense\n",
        "from sklearn.model_selection import train_test_split\n",
        "import nltk\n",
        "from gensim import models\n",
        "from keras.optimizers import Adam\n",
        "\n",
        "early_stopping = EarlyStopping(monitor='val_loss', patience=3, restore_best_weights=True)\n",
        "\n",
        "# Custom preprocess function (if needed)\n",
        "def preprocess(data):\n",
        "   # Your text cleaning function here\n",
        "   stop_words = set(stopwords.words('english'))\n",
        "   data.translate(str.maketrans('', '', string.punctuation)).lower()\n",
        "   [word for word in word_tokenize(data) if word.isalpha() and word not in stop_words]\n",
        "   return data\n",
        "\n",
        "X = dataTraining['plot'].apply(preprocess).values\n",
        "\n",
        "# Tokenize text data\n",
        "tokenizer = Tokenizer()\n",
        "tokenizer.fit_on_texts(X)\n",
        "sequences = tokenizer.texts_to_sequences(X)\n",
        "\n",
        "# Pad sequences\n",
        "max_sequence_length = 100  # Choose an appropriate sequence length\n",
        "padded_sequences = pad_sequences(sequences, maxlen=max_sequence_length, truncating='post')  # Truncate longer sequences\n",
        "\n",
        "# Create embedding matrix\n",
        "word_index = tokenizer.word_index\n",
        "num_words = len(word_index) + 1\n",
        "sample_embedding = glove_model.transform(['sample'])[0] # for finding the dimension of the embedding model we are working with\n",
        "embedding_dim = len(sample_embedding)\n",
        "embedding_matrix = np.zeros((num_words, embedding_dim))\n",
        "\n",
        "for word, i in word_index.items():\n",
        "    if word in glove_model.model.key_to_index:\n",
        "        embedding_matrix[i] = glove_model.transform([word])[0]\n",
        "\n",
        "X_train, X_test, y_train, y_test = train_test_split(np.array(padded_sequences), y_genres, test_size=0.2, random_state=42)\n",
        "\n",
        "\n",
        "\n",
        "# Define GRU model\n",
        "model = Sequential()\n",
        "model.add(Embedding(num_words, embedding_dim, weights=[embedding_matrix], input_length=max_sequence_length, trainable=False))\n",
        "model.add(GRU(units=64, dropout=0.4, recurrent_dropout=0.1))\n",
        "model.add(Dense(len(le.classes_), activation=\"sigmoid\"))\n",
        "\n",
        "adam_optimizer = Adam(lr=0.001) # Set the learning rate to 0.01\n",
        "\n",
        "# Compile model\n",
        "model.compile(loss='binary_crossentropy', optimizer=adam_optimizer, metrics=['accuracy'])\n",
        "\n",
        "# Train model\n",
        "model.fit(X_train, y_train, epochs=100, batch_size=16, validation_data=(X_test, y_test))\n"
      ]
    },
    {
      "cell_type": "code",
      "execution_count": null,
      "metadata": {
        "colab": {
          "base_uri": "https://localhost:8080/"
        },
        "id": "h2WIWUUOKHN9",
        "outputId": "fc76e584-3595-4c20-fd90-6ebc5f463ce3"
      },
      "outputs": [
        {
          "name": "stdout",
          "output_type": "stream",
          "text": [
            "50/50 [==============================] - 2s 20ms/step\n"
          ]
        }
      ],
      "source": [
        "y_pred_genres = model.predict(X_test)"
      ]
    },
    {
      "cell_type": "code",
      "execution_count": null,
      "metadata": {
        "colab": {
          "base_uri": "https://localhost:8080/"
        },
        "id": "mLG9I6ncKKHm",
        "outputId": "eb8b4f3c-9a4a-4d56-8ec1-769fbee62e6b"
      },
      "outputs": [
        {
          "data": {
            "text/plain": [
              "0.8461974367709132"
            ]
          },
          "execution_count": 232,
          "metadata": {},
          "output_type": "execute_result"
        }
      ],
      "source": [
        "roc_auc_score(y_test, y_pred_genres, average='macro')"
      ]
    },
    {
      "cell_type": "markdown",
      "metadata": {
        "id": "DPdMSH3uKoKB"
      },
      "source": [
        "Damn , something tells me we can look around to see if an extra layer helps"
      ]
    },
    {
      "cell_type": "code",
      "execution_count": null,
      "metadata": {
        "colab": {
          "background_save": true,
          "base_uri": "https://localhost:8080/"
        },
        "id": "A9RiuzO2KvEM",
        "outputId": "7a091abe-a82b-47ee-a565-31070d3e4951"
      },
      "outputs": [
        {
          "name": "stdout",
          "output_type": "stream",
          "text": [
            "Trial 145 Complete [00h 20m 27s]\n",
            "val_accuracy: 0.37428751587867737\n",
            "\n",
            "Best val_accuracy So Far: 0.37428751587867737\n",
            "Total elapsed time: 06h 31m 16s\n",
            "\n",
            "Search: Running Trial #146\n",
            "\n",
            "Value             |Best Value So Far |Hyperparameter\n",
            "49                |81                |units1\n",
            "17                |49                |units2\n",
            "65                |49                |units3\n",
            "34                |34                |tuner/epochs\n",
            "12                |12                |tuner/initial_epoch\n",
            "4                 |4                 |tuner/bracket\n",
            "3                 |3                 |tuner/round\n",
            "0139              |0133              |tuner/trial_id\n",
            "\n",
            "Epoch 13/34\n",
            "198/198 [==============================] - 54s 230ms/step - loss: 0.2641 - accuracy: 0.2566 - val_loss: 0.2618 - val_accuracy: 0.2635\n",
            "Epoch 14/34\n",
            "198/198 [==============================] - 43s 219ms/step - loss: 0.2602 - accuracy: 0.2712 - val_loss: 0.2603 - val_accuracy: 0.2926\n",
            "Epoch 15/34\n",
            "198/198 [==============================] - 42s 213ms/step - loss: 0.2575 - accuracy: 0.2707 - val_loss: 0.2556 - val_accuracy: 0.3490\n",
            "Epoch 16/34\n",
            "198/198 [==============================] - 46s 230ms/step - loss: 0.2542 - accuracy: 0.2855 - val_loss: 0.2532 - val_accuracy: 0.2660\n",
            "Epoch 17/34\n",
            "198/198 [==============================] - 43s 216ms/step - loss: 0.2504 - accuracy: 0.2912 - val_loss: 0.2548 - val_accuracy: 0.3059\n",
            "Epoch 18/34\n",
            "198/198 [==============================] - 44s 220ms/step - loss: 0.2473 - accuracy: 0.3034 - val_loss: 0.2483 - val_accuracy: 0.2945\n",
            "Epoch 19/34\n",
            "198/198 [==============================] - 43s 220ms/step - loss: 0.2470 - accuracy: 0.3021 - val_loss: 0.2453 - val_accuracy: 0.3433\n",
            "Epoch 20/34\n",
            "198/198 [==============================] - 45s 228ms/step - loss: 0.2437 - accuracy: 0.3095 - val_loss: 0.2444 - val_accuracy: 0.3699\n",
            "Epoch 21/34\n",
            "198/198 [==============================] - 43s 216ms/step - loss: 0.2426 - accuracy: 0.3103 - val_loss: 0.2444 - val_accuracy: 0.3192\n",
            "Epoch 22/34\n",
            "198/198 [==============================] - 43s 218ms/step - loss: 0.2419 - accuracy: 0.3157 - val_loss: 0.2435 - val_accuracy: 0.3515\n",
            "Epoch 23/34\n",
            "198/198 [==============================] - 43s 219ms/step - loss: 0.2405 - accuracy: 0.3257 - val_loss: 0.2420 - val_accuracy: 0.3629\n",
            "Epoch 24/34\n",
            "198/198 [==============================] - 43s 218ms/step - loss: 0.2397 - accuracy: 0.3233 - val_loss: 0.2405 - val_accuracy: 0.3540\n",
            "Epoch 25/34\n",
            "198/198 [==============================] - 42s 214ms/step - loss: 0.2399 - accuracy: 0.3385 - val_loss: 0.2464 - val_accuracy: 0.3053\n",
            "Epoch 26/34\n",
            "198/198 [==============================] - 44s 221ms/step - loss: 0.2381 - accuracy: 0.3257 - val_loss: 0.2397 - val_accuracy: 0.3350\n",
            "Epoch 27/34\n",
            "198/198 [==============================] - 43s 214ms/step - loss: 0.2375 - accuracy: 0.3187 - val_loss: 0.2388 - val_accuracy: 0.3325\n",
            "Epoch 28/34\n",
            "198/198 [==============================] - 42s 213ms/step - loss: 0.2360 - accuracy: 0.3331 - val_loss: 0.2386 - val_accuracy: 0.3591\n",
            "Epoch 29/34\n",
            " 58/198 [=======>......................] - ETA: 28s - loss: 0.2337 - accuracy: 0.3448"
          ]
        }
      ],
      "source": [
        "#second Keras Tuner for the second layer\n",
        "\n",
        "import keras_tuner as kt\n",
        "from tensorflow.keras.callbacks import EarlyStopping\n",
        "import numpy as np\n",
        "import tensorflow as tf\n",
        "from tensorflow import keras\n",
        "from keras.preprocessing.text import Tokenizer\n",
        "from keras.preprocessing.sequence import pad_sequences\n",
        "from keras.models import Sequential\n",
        "from tensorflow.keras.layers import Input, Embedding, GRU, Dense\n",
        "from sklearn.model_selection import train_test_split\n",
        "import nltk\n",
        "from gensim import models\n",
        "\n",
        "early_stopping = EarlyStopping(monitor='val_loss', patience=3, restore_best_weights=True)\n",
        "\n",
        "# Custom preprocess function (if needed)\n",
        "def preprocess(data):\n",
        "   # Your text cleaning function here\n",
        "   stop_words = set(stopwords.words('english'))\n",
        "   data.translate(str.maketrans('', '', string.punctuation)).lower()\n",
        "   [word for word in word_tokenize(data) if word.isalpha() and word not in stop_words]\n",
        "   return data\n",
        "\n",
        "X = dataTraining['plot'].apply(preprocess).values\n",
        "\n",
        "# Tokenize text data\n",
        "tokenizer = Tokenizer()\n",
        "tokenizer.fit_on_texts(X)\n",
        "sequences = tokenizer.texts_to_sequences(X)\n",
        "\n",
        "# Pad sequences\n",
        "max_sequence_length = 100  # Choose an appropriate sequence length\n",
        "padded_sequences = pad_sequences(sequences, maxlen=max_sequence_length, truncating='post')  # Truncate longer sequences\n",
        "\n",
        "# Create embedding matrix\n",
        "word_index = tokenizer.word_index\n",
        "num_words = len(word_index) + 1\n",
        "sample_embedding = glove_model.transform(['sample'])[0]\n",
        "embedding_dim = len(sample_embedding)\n",
        "embedding_matrix = np.zeros((num_words, embedding_dim))\n",
        "\n",
        "for word, i in word_index.items():\n",
        "    if word in glove_model.model.key_to_index:\n",
        "        embedding_matrix[i] = glove_model.transform([word])[0]\n",
        "\n",
        "X_train, X_test, y_train, y_test = train_test_split(np.array(padded_sequences), y_genres, test_size=0.2, random_state=42)\n",
        "\n",
        "\n",
        "# Define a function to create the GRU model\n",
        "def model_builder(hp):\n",
        "    model = Sequential()\n",
        "    model.add(Embedding(num_words, embedding_dim, weights=[embedding_matrix], input_length=max_sequence_length, trainable=False))\n",
        "\n",
        "    hp_units1 = hp.Int('units1', min_value=1, max_value=129, step=16)\n",
        "    model.add(GRU(units=hp_units1, dropout=0.4, recurrent_dropout=0.1, return_sequences=True, trainable=True))\n",
        "\n",
        "    # Define the 2nd GRU layerqweqwe\n",
        "    hp_units2 = hp.Int('units2', min_value=1, max_value=65, step=16)\n",
        "    model.add(GRU(units=hp_units2,return_sequences=True))\n",
        "\n",
        "    # Define the 3rd GRU layer\n",
        "    hp_units3 = hp.Int('units3', min_value=1, max_value=65, step=16)\n",
        "    model.add(GRU(units=hp_units3))\n",
        "\n",
        "    # Output layer\n",
        "    model.add(Dense(len(le.classes_), activation=\"sigmoid\"))\n",
        "\n",
        "    model.compile(\n",
        "        optimizer='adam',\n",
        "        loss='binary_crossentropy',\n",
        "        metrics=['accuracy']\n",
        "    )\n",
        "    return model\n",
        "\n",
        "# Set up the tuner\n",
        "tuner = kt.Hyperband(\n",
        "    model_builder,\n",
        "    objective='val_accuracy',\n",
        "    max_epochs=100,\n",
        "    factor=3,\n",
        "    directory='my_dir',\n",
        "    project_name='gru4_tuning'\n",
        ")\n",
        "\n",
        "\n",
        "# Run the tuner\n",
        "tuner.search(\n",
        "    X_train,\n",
        "    y_train,\n",
        "    epochs=100,\n",
        "    batch_size=32,\n",
        "    validation_data=(X_test, y_test),\n",
        "    callbacks=[early_stopping],\n",
        "    verbose=1\n",
        ")\n",
        "\n",
        "# Get the best hyperparameters\n",
        "best_hps=tuner.get_best_hyperparameters(num_trials=1)[0]\n"
      ]
    },
    {
      "cell_type": "markdown",
      "metadata": {
        "id": "cSf7UtTvj5Zf"
      },
      "source": [
        "Value             |Best Value So Far |Hyperparameter \\\n",
        "129               |33                |units1 \\\n",
        "33                |49                |units2 \\\n",
        "1                 |17                |units3 \\\n",
        "2                 |2                 |tuner/epochs \\\n",
        "0                 |0                 |tuner/initial_epoch \\\n",
        "4                 |4                 |tuner/bracket \\\n",
        "0                 |0                 |tuner/round \\"
      ]
    },
    {
      "cell_type": "markdown",
      "metadata": {
        "id": "5UlkXggUj_-W"
      },
      "source": [
        "![image.png](data:image/png;base64,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)"
      ]
    },
    {
      "cell_type": "markdown",
      "metadata": {
        "id": "QMSZ2LzvsAcj"
      },
      "source": [
        "Value             |Best Value So Far |Hyperparameter\n",
        "129               |49                |units1\n",
        "65                |17                |units2\n",
        "33                |1                 |units3\n",
        "2                 |2                 |tuner/epochs\n",
        "0                 |0                 |tuner/initial_epoch\n",
        "4                 |4                 |tuner/bracket\n",
        "0                 |0                 |tuner/round"
      ]
    },
    {
      "cell_type": "code",
      "execution_count": null,
      "metadata": {
        "colab": {
          "base_uri": "https://localhost:8080/",
          "height": 147
        },
        "id": "gJnRpGaUO8ET",
        "outputId": "8d896623-b9c0-4054-b3b2-3d032d208013"
      },
      "outputs": [
        {
          "ename": "NameError",
          "evalue": "name 'best_hps' is not defined",
          "output_type": "error",
          "traceback": [
            "\u001b[0;31m---------------------------------------------------------------------------\u001b[0m",
            "\u001b[0;31mNameError\u001b[0m                                 Traceback (most recent call last)",
            "\u001b[0;32m<ipython-input-1-c8c4ba6309f2>\u001b[0m in \u001b[0;36m<cell line: 1>\u001b[0;34m()\u001b[0m\n\u001b[0;32m----> 1\u001b[0;31m \u001b[0mprint\u001b[0m\u001b[0;34m(\u001b[0m\u001b[0mbest_hps\u001b[0m\u001b[0;34m.\u001b[0m\u001b[0mvalues\u001b[0m\u001b[0;34m)\u001b[0m\u001b[0;34m\u001b[0m\u001b[0;34m\u001b[0m\u001b[0m\n\u001b[0m",
            "\u001b[0;31mNameError\u001b[0m: name 'best_hps' is not defined"
          ]
        }
      ],
      "source": [
        "print(best_hps.values)"
      ]
    },
    {
      "cell_type": "code",
      "execution_count": null,
      "metadata": {
        "colab": {
          "base_uri": "https://localhost:8080/"
        },
        "id": "mlGJ9tqlwVI9",
        "outputId": "924e9a68-169a-41d1-918f-7068b172ccd7"
      },
      "outputs": [
        {
          "name": "stdout",
          "output_type": "stream",
          "text": [
            "Value for hp_units1: 129\n"
          ]
        }
      ],
      "source": [
        "print(\"Value for hp_units1:\", best_hps.get('units'))"
      ]
    },
    {
      "cell_type": "markdown",
      "metadata": {
        "id": "m5OqvRN_iYat"
      },
      "source": [
        "KerasTuner output for the 2nd layer\n",
        "\n",
        "\n",
        "{'units': 64, 'dropout': 0.0, 'recurrent_dropout': 0.0, 'tuner/epochs': 2, 'tuner/initial_epoch': 0, 'tuner/bracket': 4, 'tuner/round': 0}\n",
        "\n",
        "But the val_accuracy went down so I don't think adding something here is going to work out... retest with GRU units only\n",
        "\n"
      ]
    },
    {
      "cell_type": "markdown",
      "metadata": {
        "id": "Juc4wCUKiVKE"
      },
      "source": []
    },
    {
      "cell_type": "code",
      "execution_count": null,
      "metadata": {
        "colab": {
          "base_uri": "https://localhost:8080/"
        },
        "id": "0gbkhntZiZM1",
        "outputId": "3dae7e3b-7f0d-4774-d16d-cf16f279de32"
      },
      "outputs": [
        {
          "name": "stderr",
          "output_type": "stream",
          "text": [
            "WARNING:absl:`lr` is deprecated in Keras optimizer, please use `learning_rate` or use the legacy optimizer, e.g.,tf.keras.optimizers.legacy.Adam.\n"
          ]
        },
        {
          "name": "stdout",
          "output_type": "stream",
          "text": [
            "Epoch 1/100\n",
            "395/395 [==============================] - 50s 115ms/step - loss: 0.3083 - accuracy: 0.1968 - val_loss: 0.2976 - val_accuracy: 0.1868\n",
            "Epoch 2/100\n",
            "395/395 [==============================] - 51s 129ms/step - loss: 0.2881 - accuracy: 0.2042 - val_loss: 0.2850 - val_accuracy: 0.1881\n",
            "Epoch 3/100\n",
            "395/395 [==============================] - 45s 115ms/step - loss: 0.2746 - accuracy: 0.2240 - val_loss: 0.2716 - val_accuracy: 0.2286\n",
            "Epoch 4/100\n",
            "395/395 [==============================] - 46s 115ms/step - loss: 0.2655 - accuracy: 0.2411 - val_loss: 0.2631 - val_accuracy: 0.2647\n",
            "Epoch 5/100\n",
            "395/395 [==============================] - 45s 115ms/step - loss: 0.2594 - accuracy: 0.2680 - val_loss: 0.2563 - val_accuracy: 0.2723\n",
            "Epoch 6/100\n",
            "395/395 [==============================] - 45s 115ms/step - loss: 0.2540 - accuracy: 0.2851 - val_loss: 0.2505 - val_accuracy: 0.3395\n",
            "Epoch 7/100\n",
            "395/395 [==============================] - 46s 116ms/step - loss: 0.2506 - accuracy: 0.2945 - val_loss: 0.2473 - val_accuracy: 0.3509\n",
            "Epoch 8/100\n",
            "395/395 [==============================] - 45s 115ms/step - loss: 0.2462 - accuracy: 0.3084 - val_loss: 0.2473 - val_accuracy: 0.3122\n",
            "Epoch 9/100\n",
            "395/395 [==============================] - 46s 115ms/step - loss: 0.2431 - accuracy: 0.3160 - val_loss: 0.2449 - val_accuracy: 0.3382\n",
            "Epoch 10/100\n",
            "395/395 [==============================] - 46s 115ms/step - loss: 0.2405 - accuracy: 0.3219 - val_loss: 0.2428 - val_accuracy: 0.3610\n",
            "Epoch 11/100\n",
            "395/395 [==============================] - 45s 115ms/step - loss: 0.2385 - accuracy: 0.3288 - val_loss: 0.2403 - val_accuracy: 0.3597\n",
            "Epoch 12/100\n",
            "395/395 [==============================] - 46s 116ms/step - loss: 0.2367 - accuracy: 0.3320 - val_loss: 0.2402 - val_accuracy: 0.3534\n",
            "Epoch 13/100\n",
            "395/395 [==============================] - 45s 115ms/step - loss: 0.2354 - accuracy: 0.3393 - val_loss: 0.2451 - val_accuracy: 0.3718\n",
            "Epoch 14/100\n",
            "395/395 [==============================] - 46s 116ms/step - loss: 0.2335 - accuracy: 0.3325 - val_loss: 0.2378 - val_accuracy: 0.3483\n",
            "Epoch 15/100\n",
            "395/395 [==============================] - 45s 115ms/step - loss: 0.2320 - accuracy: 0.3445 - val_loss: 0.2354 - val_accuracy: 0.3471\n",
            "Epoch 16/100\n",
            "395/395 [==============================] - 46s 116ms/step - loss: 0.2294 - accuracy: 0.3455 - val_loss: 0.2381 - val_accuracy: 0.3154\n",
            "Epoch 17/100\n",
            "395/395 [==============================] - 45s 115ms/step - loss: 0.2291 - accuracy: 0.3425 - val_loss: 0.2377 - val_accuracy: 0.3369\n",
            "Epoch 18/100\n",
            "395/395 [==============================] - 49s 123ms/step - loss: 0.2274 - accuracy: 0.3480 - val_loss: 0.2384 - val_accuracy: 0.3287\n"
          ]
        },
        {
          "data": {
            "text/plain": [
              "<keras.src.callbacks.History at 0x7eb34e1bb3a0>"
            ]
          },
          "execution_count": 9,
          "metadata": {},
          "output_type": "execute_result"
        }
      ],
      "source": [
        "#create search space code\n",
        "\n",
        "from keras.callbacks import EarlyStopping\n",
        "import numpy as np\n",
        "import tensorflow as tf\n",
        "from tensorflow import keras\n",
        "from keras.preprocessing.text import Tokenizer\n",
        "from keras.preprocessing.sequence import pad_sequences\n",
        "from keras.models import Sequential\n",
        "from tensorflow.keras.layers import Input, Embedding, GRU, Dense\n",
        "from sklearn.model_selection import train_test_split\n",
        "import nltk\n",
        "from gensim import models\n",
        "from keras.optimizers import Adam\n",
        "\n",
        "early_stopping = EarlyStopping(monitor='val_loss', patience=3, restore_best_weights=True)\n",
        "\n",
        "# Custom preprocess function (if needed)\n",
        "def preprocess(data):\n",
        "   # Your text cleaning function here\n",
        "   stop_words = set(stopwords.words('english'))\n",
        "   data.translate(str.maketrans('', '', string.punctuation)).lower()\n",
        "   [word for word in word_tokenize(data) if word.isalpha() and word not in stop_words]\n",
        "   return data\n",
        "\n",
        "X = dataTraining['plot'].apply(preprocess).values\n",
        "\n",
        "# Tokenize text data\n",
        "tokenizer = Tokenizer()\n",
        "tokenizer.fit_on_texts(X)\n",
        "sequences = tokenizer.texts_to_sequences(X)\n",
        "\n",
        "# Pad sequences\n",
        "max_sequence_length = 100  # Choose an appropriate sequence length\n",
        "padded_sequences = pad_sequences(sequences, maxlen=max_sequence_length, truncating='post')  # Truncate longer sequences\n",
        "\n",
        "# Create embedding matrix\n",
        "word_index = tokenizer.word_index\n",
        "num_words = len(word_index) + 1\n",
        "sample_embedding = glove_model.transform(['sample'])[0] # for finding the dimension of the embedding model we are working with\n",
        "embedding_dim = len(sample_embedding)\n",
        "embedding_matrix = np.zeros((num_words, embedding_dim))\n",
        "\n",
        "for word, i in word_index.items():\n",
        "    if word in glove_model.model.key_to_index:\n",
        "        embedding_matrix[i] = glove_model.transform([word])[0]\n",
        "\n",
        "X_train, X_test, y_train, y_test = train_test_split(np.array(padded_sequences), y_genres, test_size=0.2, random_state=42)\n",
        "\n",
        "\n",
        "\n",
        "# Define GRU model\n",
        "model = Sequential()\n",
        "model.add(Embedding(num_words, embedding_dim, weights=[embedding_matrix], input_length=max_sequence_length, trainable=False))\n",
        "model.add(GRU(units=81, dropout=0.4, recurrent_dropout=0.1,return_sequences=True))\n",
        "model.add(GRU(units=49,return_sequences=True))\n",
        "model.add(GRU(units=49))\n",
        "model.add(Dense(len(le.classes_), activation=\"sigmoid\"))\n",
        "\n",
        "adam_optimizer = Adam(lr=0.01) # Set the learning rate to 0.01\n",
        "\n",
        "# Compile model\n",
        "model.compile(loss='binary_crossentropy', optimizer=adam_optimizer, metrics=['accuracy'])\n",
        "\n",
        "# Train model\n",
        "model.fit(X_train, y_train, epochs=100, batch_size=16, validation_data=(X_test, y_test), callbacks=[early_stopping])\n"
      ]
    },
    {
      "cell_type": "code",
      "execution_count": null,
      "metadata": {
        "colab": {
          "base_uri": "https://localhost:8080/"
        },
        "id": "IzpH-9J3o6oA",
        "outputId": "f78e2e30-68cf-4f7f-fef0-e1d0642a45cc"
      },
      "outputs": [
        {
          "name": "stdout",
          "output_type": "stream",
          "text": [
            "50/50 [==============================] - 4s 42ms/step\n"
          ]
        }
      ],
      "source": [
        "y_pred_genres = model.predict(X_test)"
      ]
    },
    {
      "cell_type": "code",
      "execution_count": null,
      "metadata": {
        "colab": {
          "base_uri": "https://localhost:8080/"
        },
        "id": "9snh_ARdpBvv",
        "outputId": "45affe72-d31b-480d-f13e-40b447936b64"
      },
      "outputs": [
        {
          "data": {
            "text/plain": [
              "0.8337887391401647"
            ]
          },
          "execution_count": 11,
          "metadata": {},
          "output_type": "execute_result"
        }
      ],
      "source": [
        "roc_auc_score(y_test, y_pred_genres, average='macro')"
      ]
    }
  ],
  "metadata": {
    "colab": {
      "provenance": []
    },
    "kernelspec": {
      "display_name": "Python 3",
      "language": "python",
      "name": "python3"
    },
    "language_info": {
      "codemirror_mode": {
        "name": "ipython",
        "version": 3
      },
      "file_extension": ".py",
      "mimetype": "text/x-python",
      "name": "python",
      "nbconvert_exporter": "python",
      "pygments_lexer": "ipython3",
      "version": "3.7.4"
    }
  },
  "nbformat": 4,
  "nbformat_minor": 0
}